{
 "cells": [
  {
   "cell_type": "code",
   "execution_count": 3,
   "id": "489f3a03",
   "metadata": {},
   "outputs": [],
   "source": [
    "import numpy as np\n",
    "import pandas as pd\n",
    "import os"
   ]
  },
  {
   "cell_type": "markdown",
   "id": "e23e2fc0",
   "metadata": {},
   "source": [
    "## Download the dataset"
   ]
  },
  {
   "cell_type": "code",
   "execution_count": 3,
   "id": "e7993217",
   "metadata": {},
   "outputs": [
    {
     "name": "stdout",
     "output_type": "stream",
     "text": [
      "Downloading PowerCombined.csv...\n",
      "Downloaded PowerCombined.csv\n"
     ]
    }
   ],
   "source": [
    "import requests\n",
    "import os\n",
    "\n",
    "# URL of the CSV file\n",
    "file_url = \"http://205.174.165.80/IOTDataset/CICEVSE2024%20Dataset/Dataset/Power%20Consumption/EVSE-B-PowerCombined.csv\"\n",
    "\n",
    "# Download file to current directory\n",
    "file_name = \"EVSE-B-PowerCombined.csv\"\n",
    "\n",
    "# Download the file\n",
    "print(\"Downloading PowerCombined.csv...\")\n",
    "file_response = requests.get(file_url)\n",
    "with open(file_name, 'wb') as f:\n",
    "    f.write(file_response.content)\n",
    "print(\"Downloaded PowerCombined.csv\")"
   ]
  },
  {
   "cell_type": "code",
   "execution_count": 4,
   "id": "11a366f7",
   "metadata": {},
   "outputs": [
    {
     "name": "stdout",
     "output_type": "stream",
     "text": [
      "Downloading HPC.csv...\n",
      "Downloaded HPC.csv\n"
     ]
    }
   ],
   "source": [
    "import requests\n",
    "import os\n",
    "\n",
    "# URL of the CSV file\n",
    "file_url = \"http://205.174.165.80/IOTDataset/CICEVSE2024%20Dataset/Dataset/Host%20Events/EVSE-B-HPC-Kernel-Events-Combined.csv\"\n",
    "\n",
    "# Download file to current directory\n",
    "file_name = \"EVSE-B-HPC-Kernel-Events-Combined.csv\"\n",
    "\n",
    "# Download the file\n",
    "print(\"Downloading HPC.csv...\")\n",
    "file_response = requests.get(file_url)\n",
    "with open(file_name, 'wb') as f:\n",
    "    f.write(file_response.content)\n",
    "print(\"Downloaded HPC.csv\")"
   ]
  },
  {
   "cell_type": "code",
   "execution_count": null,
   "id": "64cb6802",
   "metadata": {},
   "outputs": [],
   "source": [
    "import requests\n",
    "from bs4 import BeautifulSoup\n",
    "import os\n",
    "\n",
    "# URL of the directory containing the CSV files\n",
    "base_url = \"http://205.174.165.80/IOTDataset/CICEVSE2024%20Dataset/Dataset/Network%20Traffic/EVSE-A/csv/\"\n",
    "\n",
    "# Send a request to the URL\n",
    "response = requests.get(base_url)\n",
    "soup = BeautifulSoup(response.text, 'html.parser')\n",
    "\n",
    "# Create a directory to save the downloaded files\n",
    "os.makedirs('Dataset', exist_ok=True)\n",
    "\n",
    "# Find all links on the page\n",
    "for link in soup.find_all('a'):\n",
    "    href = link.get('href')\n",
    "    if href.endswith('.csv'):\n",
    "        file_url = base_url + href\n",
    "        print(f\"Downloading {href}...\")\n",
    "        file_response = requests.get(file_url)\n",
    "        with open(os.path.join('Dataset', href), 'wb') as f:\n",
    "            f.write(file_response.content)\n",
    "        print(f\"Downloaded {href}\")\n",
    "\n",
    "print(\"All files downloaded.\")"
   ]
  },
  {
   "cell_type": "code",
   "execution_count": null,
   "id": "7cf94949",
   "metadata": {},
   "outputs": [],
   "source": [
    "import requests\n",
    "from bs4 import BeautifulSoup\n",
    "import os\n",
    "\n",
    "# URL of the directory containing the CSV files\n",
    "base_url = \"http://205.174.165.80/IOTDataset/CICEVSE2024%20Dataset/Dataset/Network%20Traffic/EVSE-B/csv/\"\n",
    "\n",
    "# Send a request to the URL\n",
    "response = requests.get(base_url)\n",
    "soup = BeautifulSoup(response.text, 'html.parser')\n",
    "\n",
    "# Create a directory to save the downloaded files\n",
    "os.makedirs('Dataset', exist_ok=True)\n",
    "\n",
    "# Find all links on the page\n",
    "for link in soup.find_all('a'):\n",
    "    href = link.get('href')\n",
    "    if href.endswith('.csv'):\n",
    "        file_url = base_url + href\n",
    "        print(f\"Downloading {href}...\")\n",
    "        file_response = requests.get(file_url)\n",
    "        with open(os.path.join('Dataset', href), 'wb') as f:\n",
    "            f.write(file_response.content)\n",
    "        print(f\"Downloaded {href}\")\n",
    "\n",
    "print(\"All files downloaded.\")"
   ]
  },
  {
   "cell_type": "markdown",
   "id": "a82f7cd9",
   "metadata": {},
   "source": [
    "## Merge train data"
   ]
  },
  {
   "cell_type": "code",
   "execution_count": 5,
   "id": "e3926ac3",
   "metadata": {
    "scrolled": true
   },
   "outputs": [
    {
     "name": "stderr",
     "output_type": "stream",
     "text": [
      "C:\\Users\\YH841581\\AppData\\Local\\Temp\\1\\ipykernel_11568\\1931985343.py:8: DtypeWarning: Columns (81,82,83) have mixed types. Specify dtype option on import or set low_memory=False.\n",
      "  csv_dataframes = {os.path.basename(file): pd.read_csv(file) for file in csv_files}\n",
      "C:\\Users\\YH841581\\AppData\\Local\\Temp\\1\\ipykernel_11568\\1931985343.py:8: DtypeWarning: Columns (81,82,83) have mixed types. Specify dtype option on import or set low_memory=False.\n",
      "  csv_dataframes = {os.path.basename(file): pd.read_csv(file) for file in csv_files}\n",
      "C:\\Users\\YH841581\\AppData\\Local\\Temp\\1\\ipykernel_11568\\1931985343.py:8: DtypeWarning: Columns (81,82,83) have mixed types. Specify dtype option on import or set low_memory=False.\n",
      "  csv_dataframes = {os.path.basename(file): pd.read_csv(file) for file in csv_files}\n",
      "C:\\Users\\YH841581\\AppData\\Local\\Temp\\1\\ipykernel_11568\\1931985343.py:8: DtypeWarning: Columns (81,84,85) have mixed types. Specify dtype option on import or set low_memory=False.\n",
      "  csv_dataframes = {os.path.basename(file): pd.read_csv(file) for file in csv_files}\n",
      "C:\\Users\\YH841581\\AppData\\Local\\Temp\\1\\ipykernel_11568\\1931985343.py:8: DtypeWarning: Columns (81,83) have mixed types. Specify dtype option on import or set low_memory=False.\n",
      "  csv_dataframes = {os.path.basename(file): pd.read_csv(file) for file in csv_files}\n",
      "C:\\Users\\YH841581\\AppData\\Local\\Temp\\1\\ipykernel_11568\\1931985343.py:8: DtypeWarning: Columns (81,82,83) have mixed types. Specify dtype option on import or set low_memory=False.\n",
      "  csv_dataframes = {os.path.basename(file): pd.read_csv(file) for file in csv_files}\n",
      "C:\\Users\\YH841581\\AppData\\Local\\Temp\\1\\ipykernel_11568\\1931985343.py:8: DtypeWarning: Columns (81,83) have mixed types. Specify dtype option on import or set low_memory=False.\n",
      "  csv_dataframes = {os.path.basename(file): pd.read_csv(file) for file in csv_files}\n",
      "C:\\Users\\YH841581\\AppData\\Local\\Temp\\1\\ipykernel_11568\\1931985343.py:8: DtypeWarning: Columns (81) have mixed types. Specify dtype option on import or set low_memory=False.\n",
      "  csv_dataframes = {os.path.basename(file): pd.read_csv(file) for file in csv_files}\n",
      "C:\\Users\\YH841581\\AppData\\Local\\Temp\\1\\ipykernel_11568\\1931985343.py:8: DtypeWarning: Columns (81) have mixed types. Specify dtype option on import or set low_memory=False.\n",
      "  csv_dataframes = {os.path.basename(file): pd.read_csv(file) for file in csv_files}\n",
      "C:\\Users\\YH841581\\AppData\\Local\\Temp\\1\\ipykernel_11568\\1931985343.py:8: DtypeWarning: Columns (81) have mixed types. Specify dtype option on import or set low_memory=False.\n",
      "  csv_dataframes = {os.path.basename(file): pd.read_csv(file) for file in csv_files}\n",
      "C:\\Users\\YH841581\\AppData\\Local\\Temp\\1\\ipykernel_11568\\1931985343.py:8: DtypeWarning: Columns (81,82,84) have mixed types. Specify dtype option on import or set low_memory=False.\n",
      "  csv_dataframes = {os.path.basename(file): pd.read_csv(file) for file in csv_files}\n",
      "C:\\Users\\YH841581\\AppData\\Local\\Temp\\1\\ipykernel_11568\\1931985343.py:8: DtypeWarning: Columns (81) have mixed types. Specify dtype option on import or set low_memory=False.\n",
      "  csv_dataframes = {os.path.basename(file): pd.read_csv(file) for file in csv_files}\n",
      "C:\\Users\\YH841581\\AppData\\Local\\Temp\\1\\ipykernel_11568\\1931985343.py:8: DtypeWarning: Columns (81,82,84) have mixed types. Specify dtype option on import or set low_memory=False.\n",
      "  csv_dataframes = {os.path.basename(file): pd.read_csv(file) for file in csv_files}\n",
      "C:\\Users\\YH841581\\AppData\\Local\\Temp\\1\\ipykernel_11568\\1931985343.py:8: DtypeWarning: Columns (81) have mixed types. Specify dtype option on import or set low_memory=False.\n",
      "  csv_dataframes = {os.path.basename(file): pd.read_csv(file) for file in csv_files}\n",
      "C:\\Users\\YH841581\\AppData\\Local\\Temp\\1\\ipykernel_11568\\1931985343.py:8: DtypeWarning: Columns (81,82) have mixed types. Specify dtype option on import or set low_memory=False.\n",
      "  csv_dataframes = {os.path.basename(file): pd.read_csv(file) for file in csv_files}\n",
      "C:\\Users\\YH841581\\AppData\\Local\\Temp\\1\\ipykernel_11568\\1931985343.py:8: DtypeWarning: Columns (81) have mixed types. Specify dtype option on import or set low_memory=False.\n",
      "  csv_dataframes = {os.path.basename(file): pd.read_csv(file) for file in csv_files}\n",
      "C:\\Users\\YH841581\\AppData\\Local\\Temp\\1\\ipykernel_11568\\1931985343.py:8: DtypeWarning: Columns (81,82,84) have mixed types. Specify dtype option on import or set low_memory=False.\n",
      "  csv_dataframes = {os.path.basename(file): pd.read_csv(file) for file in csv_files}\n",
      "C:\\Users\\YH841581\\AppData\\Local\\Temp\\1\\ipykernel_11568\\1931985343.py:8: DtypeWarning: Columns (81) have mixed types. Specify dtype option on import or set low_memory=False.\n",
      "  csv_dataframes = {os.path.basename(file): pd.read_csv(file) for file in csv_files}\n",
      "C:\\Users\\YH841581\\AppData\\Local\\Temp\\1\\ipykernel_11568\\1931985343.py:8: DtypeWarning: Columns (81) have mixed types. Specify dtype option on import or set low_memory=False.\n",
      "  csv_dataframes = {os.path.basename(file): pd.read_csv(file) for file in csv_files}\n",
      "C:\\Users\\YH841581\\AppData\\Local\\Temp\\1\\ipykernel_11568\\1931985343.py:8: DtypeWarning: Columns (81) have mixed types. Specify dtype option on import or set low_memory=False.\n",
      "  csv_dataframes = {os.path.basename(file): pd.read_csv(file) for file in csv_files}\n",
      "C:\\Users\\YH841581\\AppData\\Local\\Temp\\1\\ipykernel_11568\\1931985343.py:8: DtypeWarning: Columns (81) have mixed types. Specify dtype option on import or set low_memory=False.\n",
      "  csv_dataframes = {os.path.basename(file): pd.read_csv(file) for file in csv_files}\n",
      "C:\\Users\\YH841581\\AppData\\Local\\Temp\\1\\ipykernel_11568\\1931985343.py:8: DtypeWarning: Columns (81,82) have mixed types. Specify dtype option on import or set low_memory=False.\n",
      "  csv_dataframes = {os.path.basename(file): pd.read_csv(file) for file in csv_files}\n",
      "C:\\Users\\YH841581\\AppData\\Local\\Temp\\1\\ipykernel_11568\\1931985343.py:8: DtypeWarning: Columns (81) have mixed types. Specify dtype option on import or set low_memory=False.\n",
      "  csv_dataframes = {os.path.basename(file): pd.read_csv(file) for file in csv_files}\n",
      "C:\\Users\\YH841581\\AppData\\Local\\Temp\\1\\ipykernel_11568\\1931985343.py:8: DtypeWarning: Columns (81,82) have mixed types. Specify dtype option on import or set low_memory=False.\n",
      "  csv_dataframes = {os.path.basename(file): pd.read_csv(file) for file in csv_files}\n",
      "C:\\Users\\YH841581\\AppData\\Local\\Temp\\1\\ipykernel_11568\\1931985343.py:8: DtypeWarning: Columns (81) have mixed types. Specify dtype option on import or set low_memory=False.\n",
      "  csv_dataframes = {os.path.basename(file): pd.read_csv(file) for file in csv_files}\n",
      "C:\\Users\\YH841581\\AppData\\Local\\Temp\\1\\ipykernel_11568\\1931985343.py:8: DtypeWarning: Columns (81,82) have mixed types. Specify dtype option on import or set low_memory=False.\n",
      "  csv_dataframes = {os.path.basename(file): pd.read_csv(file) for file in csv_files}\n",
      "C:\\Users\\YH841581\\AppData\\Local\\Temp\\1\\ipykernel_11568\\1931985343.py:8: DtypeWarning: Columns (81,82) have mixed types. Specify dtype option on import or set low_memory=False.\n",
      "  csv_dataframes = {os.path.basename(file): pd.read_csv(file) for file in csv_files}\n",
      "C:\\Users\\YH841581\\AppData\\Local\\Temp\\1\\ipykernel_11568\\1931985343.py:8: DtypeWarning: Columns (81) have mixed types. Specify dtype option on import or set low_memory=False.\n",
      "  csv_dataframes = {os.path.basename(file): pd.read_csv(file) for file in csv_files}\n",
      "C:\\Users\\YH841581\\AppData\\Local\\Temp\\1\\ipykernel_11568\\1931985343.py:8: DtypeWarning: Columns (81) have mixed types. Specify dtype option on import or set low_memory=False.\n",
      "  csv_dataframes = {os.path.basename(file): pd.read_csv(file) for file in csv_files}\n"
     ]
    }
   ],
   "source": [
    "# Specify the path where your CSV files are stored\n",
    "csv_folder = \"Dataset/\"\n",
    "\n",
    "# Get a list of all CSV files in the folder\n",
    "csv_files = [os.path.join(csv_folder, f) for f in os.listdir(csv_folder) if f.endswith(\".csv\")]\n",
    "\n",
    "# Load all CSV files into a dictionary of DataFrames\n",
    "csv_dataframes = {os.path.basename(file): pd.read_csv(file) for file in csv_files}\n"
   ]
  },
  {
   "cell_type": "code",
   "execution_count": 6,
   "id": "815686ee-b411-45d4-8772-743ce5900b1d",
   "metadata": {
    "scrolled": true
   },
   "outputs": [
    {
     "name": "stdout",
     "output_type": "stream",
     "text": [
      "charging Aggressive scan\n",
      "Charging Benign\n",
      "charging icmp flood\n",
      "charging icmp fragmentation\n",
      "charging os fingerprinting\n",
      "charging portscan\n",
      "charging push ack flood\n",
      "charging service detection\n",
      "charging slowLoris scan\n",
      "charging syn flood\n",
      "charging syn stealth\n",
      "charging synonymous ip\n",
      "charging tcp flood\n",
      "charging udp flood\n",
      "charging vulnerability scan\n",
      "idle aggressive scan\n",
      "idle benign\n",
      "idle icmp fragmentation\n",
      "idle os fingerprinting\n",
      "idle portscan\n",
      "idle service detection\n",
      "idle slowloris scan\n",
      "idle syn flood\n",
      "idle syn stealth scan\n",
      "idle synonymous ip\n",
      "idle tcp flood\n",
      "idle udp flood\n",
      "idle vulnerability scan\n",
      "charging aggressive scan\n",
      "charging icmp flood\n",
      "charging os fingerprinting\n",
      "charging port scan\n",
      "charging push ack flood\n",
      "charging service detection scan\n",
      "charging syn flood\n",
      "charging syn stealth\n",
      "charging synonymous ip flood\n",
      "charging tcp flood\n",
      "charging udp flood\n",
      "charging vulnerability scan\n",
      "idle aggressive scan\n",
      "idle icmp flood\n",
      "idle icmp fragmentation\n",
      "idle os fingerprinting\n",
      "idle port scan\n",
      "idle push ack flood\n",
      "idle service detection\n",
      "idle syn flood\n",
      "idle syn stealth scan\n",
      "idle synonymous ip flood\n",
      "idle tcp flood\n",
      "idle udp flood\n",
      "idle vulnerability scan\n",
      "MaliciousEV aggressive scan\n",
      "MaliciousEV os fingerprinting\n",
      "MaliciousEV port scan\n",
      "MaliciousEV service detection\n",
      "MaliciousEV syn stealth scan\n",
      "MaliciousEV vulnerability scan\n"
     ]
    }
   ],
   "source": [
    "for file_name, df in csv_dataframes.items():\n",
    "    # Extract label from the file name\n",
    "    label = \" \".join(file_name.split(\".\")[0].split(\"-\")[2:])\n",
    "    print(label)"
   ]
  },
  {
   "cell_type": "code",
   "execution_count": 7,
   "id": "322afdfa",
   "metadata": {},
   "outputs": [],
   "source": [
    "# Process each CSV file to add the `label_mul` column based on file names\n",
    "updated_dataframes = {}\n",
    "\n",
    "for file_name, df in csv_dataframes.items():\n",
    "    # Extract label from the file name\n",
    "    label = \" \".join(file_name.split(\".\")[0].split(\"-\")[2:])\n",
    "    # Add a new column `label_mul` with the extracted label\n",
    "    df[\"label_mul\"] = label\n",
    "    \n",
    "    # Save the updated DataFrame back to the dictionary\n",
    "    updated_dataframes[file_name] = df\n",
    "\n",
    "# Merging all updated DataFrames into a single DataFrame\n",
    "ta = pd.concat(updated_dataframes.values(), ignore_index=True)\n",
    "\n",
    "\n",
    "# Save the merged data to a new CSV file\n",
    "merged_output_path = \"./CICEVSE2024.csv\"\n",
    "ta.to_csv(merged_output_path, index=False)\n"
   ]
  },
  {
   "cell_type": "code",
   "execution_count": null,
   "id": "9ceabb60",
   "metadata": {},
   "outputs": [],
   "source": []
  }
 ],
 "metadata": {
  "kernelspec": {
   "display_name": "Python 3 (ipykernel)",
   "language": "python",
   "name": "python3"
  },
  "language_info": {
   "codemirror_mode": {
    "name": "ipython",
    "version": 3
   },
   "file_extension": ".py",
   "mimetype": "text/x-python",
   "name": "python",
   "nbconvert_exporter": "python",
   "pygments_lexer": "ipython3",
   "version": "3.11.9"
  }
 },
 "nbformat": 4,
 "nbformat_minor": 5
}
