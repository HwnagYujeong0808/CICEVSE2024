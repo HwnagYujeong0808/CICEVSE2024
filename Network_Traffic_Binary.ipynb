{
 "cells": [
  {
   "cell_type": "code",
   "execution_count": 1,
   "id": "257b3fd7",
   "metadata": {},
   "outputs": [
    {
     "name": "stderr",
     "output_type": "stream",
     "text": [
      "/tmp/ipykernel_2298366/99778511.py:1: DeprecationWarning: \n",
      "Pyarrow will become a required dependency of pandas in the next major release of pandas (pandas 3.0),\n",
      "(to allow more performant data types, such as the Arrow string type, and better interoperability with other libraries)\n",
      "but was not found to be installed on your system.\n",
      "If this would cause problems for you,\n",
      "please provide us feedback at https://github.com/pandas-dev/pandas/issues/54466\n",
      "        \n",
      "  import pandas as pd\n",
      "/tmp/ipykernel_2298366/99778511.py:2: DtypeWarning: Columns (81,82,83,84,85) have mixed types. Specify dtype option on import or set low_memory=False.\n",
      "  df = pd.read_csv('CICEVSE2024.csv')\n"
     ]
    }
   ],
   "source": [
    "import pandas as pd\n",
    "df = pd.read_csv('CICEVSE2024.csv')"
   ]
  },
  {
   "cell_type": "code",
   "execution_count": 2,
   "id": "c7917581",
   "metadata": {},
   "outputs": [
    {
     "data": {
      "text/html": [
       "<div>\n",
       "<style scoped>\n",
       "    .dataframe tbody tr th:only-of-type {\n",
       "        vertical-align: middle;\n",
       "    }\n",
       "\n",
       "    .dataframe tbody tr th {\n",
       "        vertical-align: top;\n",
       "    }\n",
       "\n",
       "    .dataframe thead th {\n",
       "        text-align: right;\n",
       "    }\n",
       "</style>\n",
       "<table border=\"1\" class=\"dataframe\">\n",
       "  <thead>\n",
       "    <tr style=\"text-align: right;\">\n",
       "      <th></th>\n",
       "      <th>id</th>\n",
       "      <th>expiration_id</th>\n",
       "      <th>src_ip</th>\n",
       "      <th>src_mac</th>\n",
       "      <th>src_oui</th>\n",
       "      <th>src_port</th>\n",
       "      <th>dst_ip</th>\n",
       "      <th>dst_mac</th>\n",
       "      <th>dst_oui</th>\n",
       "      <th>dst_port</th>\n",
       "      <th>...</th>\n",
       "      <th>application_name</th>\n",
       "      <th>application_category_name</th>\n",
       "      <th>application_is_guessed</th>\n",
       "      <th>application_confidence</th>\n",
       "      <th>requested_server_name</th>\n",
       "      <th>client_fingerprint</th>\n",
       "      <th>server_fingerprint</th>\n",
       "      <th>user_agent</th>\n",
       "      <th>content_type</th>\n",
       "      <th>label_mul</th>\n",
       "    </tr>\n",
       "  </thead>\n",
       "  <tbody>\n",
       "    <tr>\n",
       "      <th>0</th>\n",
       "      <td>0</td>\n",
       "      <td>0</td>\n",
       "      <td>192.168.137.85</td>\n",
       "      <td>a8:6b:ad:1f:9b:e5</td>\n",
       "      <td>a8:6b:ad</td>\n",
       "      <td>42750</td>\n",
       "      <td>192.168.137.226</td>\n",
       "      <td>0c:8b:95:09:c6:08</td>\n",
       "      <td>0c:8b:95</td>\n",
       "      <td>256</td>\n",
       "      <td>...</td>\n",
       "      <td>Unknown</td>\n",
       "      <td>Unspecified</td>\n",
       "      <td>0</td>\n",
       "      <td>0</td>\n",
       "      <td>NaN</td>\n",
       "      <td>NaN</td>\n",
       "      <td>NaN</td>\n",
       "      <td>NaN</td>\n",
       "      <td>NaN</td>\n",
       "      <td>charging Aggressive scan</td>\n",
       "    </tr>\n",
       "    <tr>\n",
       "      <th>1</th>\n",
       "      <td>1</td>\n",
       "      <td>0</td>\n",
       "      <td>192.168.137.85</td>\n",
       "      <td>a8:6b:ad:1f:9b:e5</td>\n",
       "      <td>a8:6b:ad</td>\n",
       "      <td>42750</td>\n",
       "      <td>192.168.137.226</td>\n",
       "      <td>0c:8b:95:09:c6:08</td>\n",
       "      <td>0c:8b:95</td>\n",
       "      <td>993</td>\n",
       "      <td>...</td>\n",
       "      <td>IMAPS</td>\n",
       "      <td>Email</td>\n",
       "      <td>1</td>\n",
       "      <td>1</td>\n",
       "      <td>NaN</td>\n",
       "      <td>NaN</td>\n",
       "      <td>NaN</td>\n",
       "      <td>NaN</td>\n",
       "      <td>NaN</td>\n",
       "      <td>charging Aggressive scan</td>\n",
       "    </tr>\n",
       "    <tr>\n",
       "      <th>2</th>\n",
       "      <td>2</td>\n",
       "      <td>0</td>\n",
       "      <td>192.168.137.85</td>\n",
       "      <td>a8:6b:ad:1f:9b:e5</td>\n",
       "      <td>a8:6b:ad</td>\n",
       "      <td>42750</td>\n",
       "      <td>192.168.137.226</td>\n",
       "      <td>0c:8b:95:09:c6:08</td>\n",
       "      <td>0c:8b:95</td>\n",
       "      <td>139</td>\n",
       "      <td>...</td>\n",
       "      <td>NetBIOS</td>\n",
       "      <td>System</td>\n",
       "      <td>1</td>\n",
       "      <td>1</td>\n",
       "      <td>NaN</td>\n",
       "      <td>NaN</td>\n",
       "      <td>NaN</td>\n",
       "      <td>NaN</td>\n",
       "      <td>NaN</td>\n",
       "      <td>charging Aggressive scan</td>\n",
       "    </tr>\n",
       "    <tr>\n",
       "      <th>3</th>\n",
       "      <td>3</td>\n",
       "      <td>0</td>\n",
       "      <td>192.168.137.85</td>\n",
       "      <td>a8:6b:ad:1f:9b:e5</td>\n",
       "      <td>a8:6b:ad</td>\n",
       "      <td>42750</td>\n",
       "      <td>192.168.137.226</td>\n",
       "      <td>0c:8b:95:09:c6:08</td>\n",
       "      <td>0c:8b:95</td>\n",
       "      <td>143</td>\n",
       "      <td>...</td>\n",
       "      <td>IMAP</td>\n",
       "      <td>Email</td>\n",
       "      <td>1</td>\n",
       "      <td>1</td>\n",
       "      <td>NaN</td>\n",
       "      <td>NaN</td>\n",
       "      <td>NaN</td>\n",
       "      <td>NaN</td>\n",
       "      <td>NaN</td>\n",
       "      <td>charging Aggressive scan</td>\n",
       "    </tr>\n",
       "    <tr>\n",
       "      <th>4</th>\n",
       "      <td>4</td>\n",
       "      <td>0</td>\n",
       "      <td>192.168.137.85</td>\n",
       "      <td>a8:6b:ad:1f:9b:e5</td>\n",
       "      <td>a8:6b:ad</td>\n",
       "      <td>42750</td>\n",
       "      <td>192.168.137.226</td>\n",
       "      <td>0c:8b:95:09:c6:08</td>\n",
       "      <td>0c:8b:95</td>\n",
       "      <td>135</td>\n",
       "      <td>...</td>\n",
       "      <td>RPC</td>\n",
       "      <td>RPC</td>\n",
       "      <td>1</td>\n",
       "      <td>1</td>\n",
       "      <td>NaN</td>\n",
       "      <td>NaN</td>\n",
       "      <td>NaN</td>\n",
       "      <td>NaN</td>\n",
       "      <td>NaN</td>\n",
       "      <td>charging Aggressive scan</td>\n",
       "    </tr>\n",
       "  </tbody>\n",
       "</table>\n",
       "<p>5 rows × 87 columns</p>\n",
       "</div>"
      ],
      "text/plain": [
       "   id  expiration_id          src_ip            src_mac   src_oui  src_port  \\\n",
       "0   0              0  192.168.137.85  a8:6b:ad:1f:9b:e5  a8:6b:ad     42750   \n",
       "1   1              0  192.168.137.85  a8:6b:ad:1f:9b:e5  a8:6b:ad     42750   \n",
       "2   2              0  192.168.137.85  a8:6b:ad:1f:9b:e5  a8:6b:ad     42750   \n",
       "3   3              0  192.168.137.85  a8:6b:ad:1f:9b:e5  a8:6b:ad     42750   \n",
       "4   4              0  192.168.137.85  a8:6b:ad:1f:9b:e5  a8:6b:ad     42750   \n",
       "\n",
       "            dst_ip            dst_mac   dst_oui  dst_port  ...  \\\n",
       "0  192.168.137.226  0c:8b:95:09:c6:08  0c:8b:95       256  ...   \n",
       "1  192.168.137.226  0c:8b:95:09:c6:08  0c:8b:95       993  ...   \n",
       "2  192.168.137.226  0c:8b:95:09:c6:08  0c:8b:95       139  ...   \n",
       "3  192.168.137.226  0c:8b:95:09:c6:08  0c:8b:95       143  ...   \n",
       "4  192.168.137.226  0c:8b:95:09:c6:08  0c:8b:95       135  ...   \n",
       "\n",
       "   application_name  application_category_name  application_is_guessed  \\\n",
       "0           Unknown                Unspecified                       0   \n",
       "1             IMAPS                      Email                       1   \n",
       "2           NetBIOS                     System                       1   \n",
       "3              IMAP                      Email                       1   \n",
       "4               RPC                        RPC                       1   \n",
       "\n",
       "   application_confidence  requested_server_name  client_fingerprint  \\\n",
       "0                       0                    NaN                 NaN   \n",
       "1                       1                    NaN                 NaN   \n",
       "2                       1                    NaN                 NaN   \n",
       "3                       1                    NaN                 NaN   \n",
       "4                       1                    NaN                 NaN   \n",
       "\n",
       "   server_fingerprint  user_agent  content_type                 label_mul  \n",
       "0                 NaN         NaN           NaN  charging Aggressive scan  \n",
       "1                 NaN         NaN           NaN  charging Aggressive scan  \n",
       "2                 NaN         NaN           NaN  charging Aggressive scan  \n",
       "3                 NaN         NaN           NaN  charging Aggressive scan  \n",
       "4                 NaN         NaN           NaN  charging Aggressive scan  \n",
       "\n",
       "[5 rows x 87 columns]"
      ]
     },
     "execution_count": 2,
     "metadata": {},
     "output_type": "execute_result"
    }
   ],
   "source": [
    "df.head()"
   ]
  },
  {
   "cell_type": "code",
   "execution_count": 3,
   "id": "36403aae-903c-4781-8509-b6c7957a57f7",
   "metadata": {},
   "outputs": [
    {
     "name": "stdout",
     "output_type": "stream",
     "text": [
      "Descriptive Statistics:\n",
      "                 id  expiration_id      src_port      dst_port      protocol  \\\n",
      "count  2.744700e+06   2.744700e+06  2.744700e+06  2.744700e+06  2.744700e+06   \n",
      "mean   5.374561e+04   2.477502e-05  4.320332e+04  5.828036e+03  6.134726e+00   \n",
      "std    4.915507e+04   4.977390e-03  1.565881e+04  1.197252e+04  1.365722e+00   \n",
      "min    0.000000e+00   0.000000e+00  0.000000e+00  0.000000e+00  1.000000e+00   \n",
      "25%    1.763075e+04   0.000000e+00  3.560700e+04  8.000000e+01  6.000000e+00   \n",
      "50%    4.017200e+04   0.000000e+00  4.551900e+04  1.091000e+03  6.000000e+00   \n",
      "75%    6.734400e+04   0.000000e+00  5.516000e+04  5.903000e+03  6.000000e+00   \n",
      "max    2.280000e+05   1.000000e+00  6.553500e+04  6.553500e+04  2.460000e+02   \n",
      "\n",
      "         ip_version    vlan_id     tunnel_id  bidirectional_first_seen_ms  \\\n",
      "count  2.744700e+06  2744700.0  2.744700e+06                 2.744700e+06   \n",
      "mean   4.000039e+00        0.0  1.093016e-06                 1.703149e+12   \n",
      "std    8.788533e-03        0.0  1.810814e-03                 6.687425e+07   \n",
      "min    4.000000e+00        0.0  0.000000e+00                 1.702999e+12   \n",
      "25%    4.000000e+00        0.0  0.000000e+00                 1.703095e+12   \n",
      "50%    4.000000e+00        0.0  0.000000e+00                 1.703186e+12   \n",
      "75%    4.000000e+00        0.0  0.000000e+00                 1.703189e+12   \n",
      "max    6.000000e+00        0.0  3.000000e+00                 1.704401e+12   \n",
      "\n",
      "       bidirectional_last_seen_ms  ...  dst2src_syn_packets  \\\n",
      "count                2.744700e+06  ...         2.744700e+06   \n",
      "mean                 1.703149e+12  ...         1.626014e-01   \n",
      "std                  6.689286e+07  ...         8.247693e-01   \n",
      "min                  1.702999e+12  ...         0.000000e+00   \n",
      "25%                  1.703096e+12  ...         0.000000e+00   \n",
      "50%                  1.703186e+12  ...         0.000000e+00   \n",
      "75%                  1.703189e+12  ...         0.000000e+00   \n",
      "max                  1.704402e+12  ...         1.600000e+01   \n",
      "\n",
      "       dst2src_cwr_packets  dst2src_ece_packets  dst2src_urg_packets  \\\n",
      "count            2744700.0         2.744700e+06            2744700.0   \n",
      "mean                   0.0         1.380843e-04                  0.0   \n",
      "std                    0.0         2.054871e-02                  0.0   \n",
      "min                    0.0         0.000000e+00                  0.0   \n",
      "25%                    0.0         0.000000e+00                  0.0   \n",
      "50%                    0.0         0.000000e+00                  0.0   \n",
      "75%                    0.0         0.000000e+00                  0.0   \n",
      "max                    0.0         5.000000e+00                  0.0   \n",
      "\n",
      "       dst2src_ack_packets  dst2src_psh_packets  dst2src_rst_packets  \\\n",
      "count         2.744700e+06         2.744700e+06         2.744700e+06   \n",
      "mean          8.509003e-01         5.471563e-02         8.896612e-01   \n",
      "std           1.728915e+01         1.688503e+01         1.274879e+00   \n",
      "min           0.000000e+00         0.000000e+00         0.000000e+00   \n",
      "25%           0.000000e+00         0.000000e+00         0.000000e+00   \n",
      "50%           1.000000e+00         0.000000e+00         1.000000e+00   \n",
      "75%           1.000000e+00         0.000000e+00         1.000000e+00   \n",
      "max           6.905000e+03         6.767000e+03         1.900000e+01   \n",
      "\n",
      "       dst2src_fin_packets  application_is_guessed  application_confidence  \n",
      "count         2.744700e+06            2.744700e+06            2.744700e+06  \n",
      "mean          7.079098e-04            3.984964e-01            4.745484e-01  \n",
      "std           3.182334e-02            4.895887e-01            7.934813e-01  \n",
      "min           0.000000e+00            0.000000e+00            0.000000e+00  \n",
      "25%           0.000000e+00            0.000000e+00            0.000000e+00  \n",
      "50%           0.000000e+00            0.000000e+00            0.000000e+00  \n",
      "75%           0.000000e+00            1.000000e+00            1.000000e+00  \n",
      "max           7.000000e+00            1.000000e+00            6.000000e+00  \n",
      "\n",
      "[8 rows x 73 columns]\n",
      "\n",
      "Data Types and Missing Values:\n",
      "<class 'pandas.core.frame.DataFrame'>\n",
      "RangeIndex: 2744700 entries, 0 to 2744699\n",
      "Data columns (total 87 columns):\n",
      " #   Column                        Dtype  \n",
      "---  ------                        -----  \n",
      " 0   id                            int64  \n",
      " 1   expiration_id                 int64  \n",
      " 2   src_ip                        object \n",
      " 3   src_mac                       object \n",
      " 4   src_oui                       object \n",
      " 5   src_port                      int64  \n",
      " 6   dst_ip                        object \n",
      " 7   dst_mac                       object \n",
      " 8   dst_oui                       object \n",
      " 9   dst_port                      int64  \n",
      " 10  protocol                      int64  \n",
      " 11  ip_version                    int64  \n",
      " 12  vlan_id                       int64  \n",
      " 13  tunnel_id                     int64  \n",
      " 14  bidirectional_first_seen_ms   int64  \n",
      " 15  bidirectional_last_seen_ms    int64  \n",
      " 16  bidirectional_duration_ms     int64  \n",
      " 17  bidirectional_packets         int64  \n",
      " 18  bidirectional_bytes           int64  \n",
      " 19  src2dst_first_seen_ms         int64  \n",
      " 20  src2dst_last_seen_ms          int64  \n",
      " 21  src2dst_duration_ms           int64  \n",
      " 22  src2dst_packets               int64  \n",
      " 23  src2dst_bytes                 int64  \n",
      " 24  dst2src_first_seen_ms         int64  \n",
      " 25  dst2src_last_seen_ms          int64  \n",
      " 26  dst2src_duration_ms           int64  \n",
      " 27  dst2src_packets               int64  \n",
      " 28  dst2src_bytes                 int64  \n",
      " 29  bidirectional_min_ps          int64  \n",
      " 30  bidirectional_mean_ps         float64\n",
      " 31  bidirectional_stddev_ps       float64\n",
      " 32  bidirectional_max_ps          int64  \n",
      " 33  src2dst_min_ps                int64  \n",
      " 34  src2dst_mean_ps               float64\n",
      " 35  src2dst_stddev_ps             float64\n",
      " 36  src2dst_max_ps                int64  \n",
      " 37  dst2src_min_ps                int64  \n",
      " 38  dst2src_mean_ps               float64\n",
      " 39  dst2src_stddev_ps             float64\n",
      " 40  dst2src_max_ps                int64  \n",
      " 41  bidirectional_min_piat_ms     int64  \n",
      " 42  bidirectional_mean_piat_ms    float64\n",
      " 43  bidirectional_stddev_piat_ms  float64\n",
      " 44  bidirectional_max_piat_ms     int64  \n",
      " 45  src2dst_min_piat_ms           int64  \n",
      " 46  src2dst_mean_piat_ms          float64\n",
      " 47  src2dst_stddev_piat_ms        float64\n",
      " 48  src2dst_max_piat_ms           int64  \n",
      " 49  dst2src_min_piat_ms           int64  \n",
      " 50  dst2src_mean_piat_ms          float64\n",
      " 51  dst2src_stddev_piat_ms        float64\n",
      " 52  dst2src_max_piat_ms           int64  \n",
      " 53  bidirectional_syn_packets     int64  \n",
      " 54  bidirectional_cwr_packets     int64  \n",
      " 55  bidirectional_ece_packets     int64  \n",
      " 56  bidirectional_urg_packets     int64  \n",
      " 57  bidirectional_ack_packets     int64  \n",
      " 58  bidirectional_psh_packets     int64  \n",
      " 59  bidirectional_rst_packets     int64  \n",
      " 60  bidirectional_fin_packets     int64  \n",
      " 61  src2dst_syn_packets           int64  \n",
      " 62  src2dst_cwr_packets           int64  \n",
      " 63  src2dst_ece_packets           int64  \n",
      " 64  src2dst_urg_packets           int64  \n",
      " 65  src2dst_ack_packets           int64  \n",
      " 66  src2dst_psh_packets           int64  \n",
      " 67  src2dst_rst_packets           int64  \n",
      " 68  src2dst_fin_packets           int64  \n",
      " 69  dst2src_syn_packets           int64  \n",
      " 70  dst2src_cwr_packets           int64  \n",
      " 71  dst2src_ece_packets           int64  \n",
      " 72  dst2src_urg_packets           int64  \n",
      " 73  dst2src_ack_packets           int64  \n",
      " 74  dst2src_psh_packets           int64  \n",
      " 75  dst2src_rst_packets           int64  \n",
      " 76  dst2src_fin_packets           int64  \n",
      " 77  application_name              object \n",
      " 78  application_category_name     object \n",
      " 79  application_is_guessed        int64  \n",
      " 80  application_confidence        int64  \n",
      " 81  requested_server_name         object \n",
      " 82  client_fingerprint            object \n",
      " 83  server_fingerprint            object \n",
      " 84  user_agent                    object \n",
      " 85  content_type                  object \n",
      " 86  label_mul                     object \n",
      "dtypes: float64(12), int64(61), object(14)\n",
      "memory usage: 1.8+ GB\n",
      "None\n",
      "\n",
      "Missing Values Count:\n",
      "id                          0\n",
      "expiration_id               0\n",
      "src_ip                      0\n",
      "src_mac                     0\n",
      "src_oui                     0\n",
      "                       ...   \n",
      "client_fingerprint    2744102\n",
      "server_fingerprint    2744162\n",
      "user_agent            2744167\n",
      "content_type          2744559\n",
      "label_mul                   0\n",
      "Length: 87, dtype: int64\n"
     ]
    }
   ],
   "source": [
    "print(\"Descriptive Statistics:\")\n",
    "print(df.describe())\n",
    "\n",
    "# Data types and missing values\n",
    "print(\"\\nData Types and Missing Values:\")\n",
    "print(df.info())\n",
    "print(\"\\nMissing Values Count:\")\n",
    "print(df.isnull().sum())"
   ]
  },
  {
   "cell_type": "code",
   "execution_count": 4,
   "id": "21578dad-07c5-4966-ba93-0cc292575131",
   "metadata": {},
   "outputs": [
    {
     "name": "stdout",
     "output_type": "stream",
     "text": [
      "Columns with missing values: ['requested_server_name', 'client_fingerprint', 'server_fingerprint', 'user_agent', 'content_type']\n"
     ]
    }
   ],
   "source": [
    "# Print columns with missing values\n",
    "missing_columns = df.columns[df.isnull().sum() > 0]\n",
    "print(\"Columns with missing values:\", missing_columns.tolist())"
   ]
  },
  {
   "cell_type": "code",
   "execution_count": 5,
   "id": "b7755154-1854-4f83-b967-9c3c8385133c",
   "metadata": {},
   "outputs": [
    {
     "data": {
      "text/html": [
       "<div>\n",
       "<style scoped>\n",
       "    .dataframe tbody tr th:only-of-type {\n",
       "        vertical-align: middle;\n",
       "    }\n",
       "\n",
       "    .dataframe tbody tr th {\n",
       "        vertical-align: top;\n",
       "    }\n",
       "\n",
       "    .dataframe thead th {\n",
       "        text-align: right;\n",
       "    }\n",
       "</style>\n",
       "<table border=\"1\" class=\"dataframe\">\n",
       "  <thead>\n",
       "    <tr style=\"text-align: right;\">\n",
       "      <th></th>\n",
       "      <th>id</th>\n",
       "      <th>expiration_id</th>\n",
       "      <th>src_ip</th>\n",
       "      <th>src_mac</th>\n",
       "      <th>src_oui</th>\n",
       "      <th>src_port</th>\n",
       "      <th>dst_ip</th>\n",
       "      <th>dst_mac</th>\n",
       "      <th>dst_oui</th>\n",
       "      <th>dst_port</th>\n",
       "      <th>...</th>\n",
       "      <th>dst2src_urg_packets</th>\n",
       "      <th>dst2src_ack_packets</th>\n",
       "      <th>dst2src_psh_packets</th>\n",
       "      <th>dst2src_rst_packets</th>\n",
       "      <th>dst2src_fin_packets</th>\n",
       "      <th>application_name</th>\n",
       "      <th>application_category_name</th>\n",
       "      <th>application_is_guessed</th>\n",
       "      <th>application_confidence</th>\n",
       "      <th>label_mul</th>\n",
       "    </tr>\n",
       "  </thead>\n",
       "  <tbody>\n",
       "    <tr>\n",
       "      <th>0</th>\n",
       "      <td>0</td>\n",
       "      <td>0</td>\n",
       "      <td>192.168.137.85</td>\n",
       "      <td>a8:6b:ad:1f:9b:e5</td>\n",
       "      <td>a8:6b:ad</td>\n",
       "      <td>42750</td>\n",
       "      <td>192.168.137.226</td>\n",
       "      <td>0c:8b:95:09:c6:08</td>\n",
       "      <td>0c:8b:95</td>\n",
       "      <td>256</td>\n",
       "      <td>...</td>\n",
       "      <td>0</td>\n",
       "      <td>1</td>\n",
       "      <td>0</td>\n",
       "      <td>1</td>\n",
       "      <td>0</td>\n",
       "      <td>Unknown</td>\n",
       "      <td>Unspecified</td>\n",
       "      <td>0</td>\n",
       "      <td>0</td>\n",
       "      <td>charging Aggressive scan</td>\n",
       "    </tr>\n",
       "    <tr>\n",
       "      <th>1</th>\n",
       "      <td>1</td>\n",
       "      <td>0</td>\n",
       "      <td>192.168.137.85</td>\n",
       "      <td>a8:6b:ad:1f:9b:e5</td>\n",
       "      <td>a8:6b:ad</td>\n",
       "      <td>42750</td>\n",
       "      <td>192.168.137.226</td>\n",
       "      <td>0c:8b:95:09:c6:08</td>\n",
       "      <td>0c:8b:95</td>\n",
       "      <td>993</td>\n",
       "      <td>...</td>\n",
       "      <td>0</td>\n",
       "      <td>1</td>\n",
       "      <td>0</td>\n",
       "      <td>1</td>\n",
       "      <td>0</td>\n",
       "      <td>IMAPS</td>\n",
       "      <td>Email</td>\n",
       "      <td>1</td>\n",
       "      <td>1</td>\n",
       "      <td>charging Aggressive scan</td>\n",
       "    </tr>\n",
       "    <tr>\n",
       "      <th>2</th>\n",
       "      <td>2</td>\n",
       "      <td>0</td>\n",
       "      <td>192.168.137.85</td>\n",
       "      <td>a8:6b:ad:1f:9b:e5</td>\n",
       "      <td>a8:6b:ad</td>\n",
       "      <td>42750</td>\n",
       "      <td>192.168.137.226</td>\n",
       "      <td>0c:8b:95:09:c6:08</td>\n",
       "      <td>0c:8b:95</td>\n",
       "      <td>139</td>\n",
       "      <td>...</td>\n",
       "      <td>0</td>\n",
       "      <td>1</td>\n",
       "      <td>0</td>\n",
       "      <td>1</td>\n",
       "      <td>0</td>\n",
       "      <td>NetBIOS</td>\n",
       "      <td>System</td>\n",
       "      <td>1</td>\n",
       "      <td>1</td>\n",
       "      <td>charging Aggressive scan</td>\n",
       "    </tr>\n",
       "    <tr>\n",
       "      <th>3</th>\n",
       "      <td>3</td>\n",
       "      <td>0</td>\n",
       "      <td>192.168.137.85</td>\n",
       "      <td>a8:6b:ad:1f:9b:e5</td>\n",
       "      <td>a8:6b:ad</td>\n",
       "      <td>42750</td>\n",
       "      <td>192.168.137.226</td>\n",
       "      <td>0c:8b:95:09:c6:08</td>\n",
       "      <td>0c:8b:95</td>\n",
       "      <td>143</td>\n",
       "      <td>...</td>\n",
       "      <td>0</td>\n",
       "      <td>1</td>\n",
       "      <td>0</td>\n",
       "      <td>1</td>\n",
       "      <td>0</td>\n",
       "      <td>IMAP</td>\n",
       "      <td>Email</td>\n",
       "      <td>1</td>\n",
       "      <td>1</td>\n",
       "      <td>charging Aggressive scan</td>\n",
       "    </tr>\n",
       "    <tr>\n",
       "      <th>4</th>\n",
       "      <td>4</td>\n",
       "      <td>0</td>\n",
       "      <td>192.168.137.85</td>\n",
       "      <td>a8:6b:ad:1f:9b:e5</td>\n",
       "      <td>a8:6b:ad</td>\n",
       "      <td>42750</td>\n",
       "      <td>192.168.137.226</td>\n",
       "      <td>0c:8b:95:09:c6:08</td>\n",
       "      <td>0c:8b:95</td>\n",
       "      <td>135</td>\n",
       "      <td>...</td>\n",
       "      <td>0</td>\n",
       "      <td>1</td>\n",
       "      <td>0</td>\n",
       "      <td>1</td>\n",
       "      <td>0</td>\n",
       "      <td>RPC</td>\n",
       "      <td>RPC</td>\n",
       "      <td>1</td>\n",
       "      <td>1</td>\n",
       "      <td>charging Aggressive scan</td>\n",
       "    </tr>\n",
       "  </tbody>\n",
       "</table>\n",
       "<p>5 rows × 82 columns</p>\n",
       "</div>"
      ],
      "text/plain": [
       "   id  expiration_id          src_ip            src_mac   src_oui  src_port  \\\n",
       "0   0              0  192.168.137.85  a8:6b:ad:1f:9b:e5  a8:6b:ad     42750   \n",
       "1   1              0  192.168.137.85  a8:6b:ad:1f:9b:e5  a8:6b:ad     42750   \n",
       "2   2              0  192.168.137.85  a8:6b:ad:1f:9b:e5  a8:6b:ad     42750   \n",
       "3   3              0  192.168.137.85  a8:6b:ad:1f:9b:e5  a8:6b:ad     42750   \n",
       "4   4              0  192.168.137.85  a8:6b:ad:1f:9b:e5  a8:6b:ad     42750   \n",
       "\n",
       "            dst_ip            dst_mac   dst_oui  dst_port  ...  \\\n",
       "0  192.168.137.226  0c:8b:95:09:c6:08  0c:8b:95       256  ...   \n",
       "1  192.168.137.226  0c:8b:95:09:c6:08  0c:8b:95       993  ...   \n",
       "2  192.168.137.226  0c:8b:95:09:c6:08  0c:8b:95       139  ...   \n",
       "3  192.168.137.226  0c:8b:95:09:c6:08  0c:8b:95       143  ...   \n",
       "4  192.168.137.226  0c:8b:95:09:c6:08  0c:8b:95       135  ...   \n",
       "\n",
       "   dst2src_urg_packets  dst2src_ack_packets  dst2src_psh_packets  \\\n",
       "0                    0                    1                    0   \n",
       "1                    0                    1                    0   \n",
       "2                    0                    1                    0   \n",
       "3                    0                    1                    0   \n",
       "4                    0                    1                    0   \n",
       "\n",
       "   dst2src_rst_packets  dst2src_fin_packets  application_name  \\\n",
       "0                    1                    0           Unknown   \n",
       "1                    1                    0             IMAPS   \n",
       "2                    1                    0           NetBIOS   \n",
       "3                    1                    0              IMAP   \n",
       "4                    1                    0               RPC   \n",
       "\n",
       "   application_category_name  application_is_guessed  application_confidence  \\\n",
       "0                Unspecified                       0                       0   \n",
       "1                      Email                       1                       1   \n",
       "2                     System                       1                       1   \n",
       "3                      Email                       1                       1   \n",
       "4                        RPC                       1                       1   \n",
       "\n",
       "                  label_mul  \n",
       "0  charging Aggressive scan  \n",
       "1  charging Aggressive scan  \n",
       "2  charging Aggressive scan  \n",
       "3  charging Aggressive scan  \n",
       "4  charging Aggressive scan  \n",
       "\n",
       "[5 rows x 82 columns]"
      ]
     },
     "execution_count": 5,
     "metadata": {},
     "output_type": "execute_result"
    }
   ],
   "source": [
    "df_ = df.copy()\n",
    "df_.drop(columns = ['requested_server_name', 'client_fingerprint', 'server_fingerprint', 'user_agent', 'content_type'], inplace = True)\n",
    "df_.head()"
   ]
  },
  {
   "cell_type": "code",
   "execution_count": 6,
   "id": "42e25c98-573f-41e4-bdf9-67b546026f7e",
   "metadata": {},
   "outputs": [
    {
     "name": "stdout",
     "output_type": "stream",
     "text": [
      "<class 'pandas.core.frame.DataFrame'>\n",
      "RangeIndex: 2744700 entries, 0 to 2744699\n",
      "Data columns (total 82 columns):\n",
      " #   Column                        Dtype  \n",
      "---  ------                        -----  \n",
      " 0   id                            int64  \n",
      " 1   expiration_id                 int64  \n",
      " 2   src_ip                        object \n",
      " 3   src_mac                       object \n",
      " 4   src_oui                       object \n",
      " 5   src_port                      int64  \n",
      " 6   dst_ip                        object \n",
      " 7   dst_mac                       object \n",
      " 8   dst_oui                       object \n",
      " 9   dst_port                      int64  \n",
      " 10  protocol                      int64  \n",
      " 11  ip_version                    int64  \n",
      " 12  vlan_id                       int64  \n",
      " 13  tunnel_id                     int64  \n",
      " 14  bidirectional_first_seen_ms   int64  \n",
      " 15  bidirectional_last_seen_ms    int64  \n",
      " 16  bidirectional_duration_ms     int64  \n",
      " 17  bidirectional_packets         int64  \n",
      " 18  bidirectional_bytes           int64  \n",
      " 19  src2dst_first_seen_ms         int64  \n",
      " 20  src2dst_last_seen_ms          int64  \n",
      " 21  src2dst_duration_ms           int64  \n",
      " 22  src2dst_packets               int64  \n",
      " 23  src2dst_bytes                 int64  \n",
      " 24  dst2src_first_seen_ms         int64  \n",
      " 25  dst2src_last_seen_ms          int64  \n",
      " 26  dst2src_duration_ms           int64  \n",
      " 27  dst2src_packets               int64  \n",
      " 28  dst2src_bytes                 int64  \n",
      " 29  bidirectional_min_ps          int64  \n",
      " 30  bidirectional_mean_ps         float64\n",
      " 31  bidirectional_stddev_ps       float64\n",
      " 32  bidirectional_max_ps          int64  \n",
      " 33  src2dst_min_ps                int64  \n",
      " 34  src2dst_mean_ps               float64\n",
      " 35  src2dst_stddev_ps             float64\n",
      " 36  src2dst_max_ps                int64  \n",
      " 37  dst2src_min_ps                int64  \n",
      " 38  dst2src_mean_ps               float64\n",
      " 39  dst2src_stddev_ps             float64\n",
      " 40  dst2src_max_ps                int64  \n",
      " 41  bidirectional_min_piat_ms     int64  \n",
      " 42  bidirectional_mean_piat_ms    float64\n",
      " 43  bidirectional_stddev_piat_ms  float64\n",
      " 44  bidirectional_max_piat_ms     int64  \n",
      " 45  src2dst_min_piat_ms           int64  \n",
      " 46  src2dst_mean_piat_ms          float64\n",
      " 47  src2dst_stddev_piat_ms        float64\n",
      " 48  src2dst_max_piat_ms           int64  \n",
      " 49  dst2src_min_piat_ms           int64  \n",
      " 50  dst2src_mean_piat_ms          float64\n",
      " 51  dst2src_stddev_piat_ms        float64\n",
      " 52  dst2src_max_piat_ms           int64  \n",
      " 53  bidirectional_syn_packets     int64  \n",
      " 54  bidirectional_cwr_packets     int64  \n",
      " 55  bidirectional_ece_packets     int64  \n",
      " 56  bidirectional_urg_packets     int64  \n",
      " 57  bidirectional_ack_packets     int64  \n",
      " 58  bidirectional_psh_packets     int64  \n",
      " 59  bidirectional_rst_packets     int64  \n",
      " 60  bidirectional_fin_packets     int64  \n",
      " 61  src2dst_syn_packets           int64  \n",
      " 62  src2dst_cwr_packets           int64  \n",
      " 63  src2dst_ece_packets           int64  \n",
      " 64  src2dst_urg_packets           int64  \n",
      " 65  src2dst_ack_packets           int64  \n",
      " 66  src2dst_psh_packets           int64  \n",
      " 67  src2dst_rst_packets           int64  \n",
      " 68  src2dst_fin_packets           int64  \n",
      " 69  dst2src_syn_packets           int64  \n",
      " 70  dst2src_cwr_packets           int64  \n",
      " 71  dst2src_ece_packets           int64  \n",
      " 72  dst2src_urg_packets           int64  \n",
      " 73  dst2src_ack_packets           int64  \n",
      " 74  dst2src_psh_packets           int64  \n",
      " 75  dst2src_rst_packets           int64  \n",
      " 76  dst2src_fin_packets           int64  \n",
      " 77  application_name              object \n",
      " 78  application_category_name     object \n",
      " 79  application_is_guessed        int64  \n",
      " 80  application_confidence        int64  \n",
      " 81  label_mul                     object \n",
      "dtypes: float64(12), int64(61), object(9)\n",
      "memory usage: 1.7+ GB\n"
     ]
    }
   ],
   "source": [
    "df_ = df_.dropna()\n",
    "df_.info()"
   ]
  },
  {
   "cell_type": "markdown",
   "id": "6f99313d",
   "metadata": {},
   "source": [
    "# Data Preprocessing"
   ]
  },
  {
   "cell_type": "code",
   "execution_count": 7,
   "id": "2a30493b",
   "metadata": {},
   "outputs": [],
   "source": [
    "ev = df_.copy()"
   ]
  },
  {
   "cell_type": "code",
   "execution_count": 8,
   "id": "3092c0bf",
   "metadata": {},
   "outputs": [
    {
     "data": {
      "text/html": [
       "<div>\n",
       "<style scoped>\n",
       "    .dataframe tbody tr th:only-of-type {\n",
       "        vertical-align: middle;\n",
       "    }\n",
       "\n",
       "    .dataframe tbody tr th {\n",
       "        vertical-align: top;\n",
       "    }\n",
       "\n",
       "    .dataframe thead th {\n",
       "        text-align: right;\n",
       "    }\n",
       "</style>\n",
       "<table border=\"1\" class=\"dataframe\">\n",
       "  <thead>\n",
       "    <tr style=\"text-align: right;\">\n",
       "      <th></th>\n",
       "      <th>src_ip</th>\n",
       "      <th>dst_ip</th>\n",
       "      <th>protocol</th>\n",
       "      <th>ip_version</th>\n",
       "      <th>vlan_id</th>\n",
       "      <th>tunnel_id</th>\n",
       "      <th>bidirectional_first_seen_ms</th>\n",
       "      <th>bidirectional_last_seen_ms</th>\n",
       "      <th>bidirectional_duration_ms</th>\n",
       "      <th>bidirectional_packets</th>\n",
       "      <th>...</th>\n",
       "      <th>dst2src_ack_packets</th>\n",
       "      <th>dst2src_psh_packets</th>\n",
       "      <th>dst2src_rst_packets</th>\n",
       "      <th>dst2src_fin_packets</th>\n",
       "      <th>application_name</th>\n",
       "      <th>application_category_name</th>\n",
       "      <th>application_is_guessed</th>\n",
       "      <th>application_confidence</th>\n",
       "      <th>label_mul</th>\n",
       "      <th>label_bi</th>\n",
       "    </tr>\n",
       "  </thead>\n",
       "  <tbody>\n",
       "    <tr>\n",
       "      <th>0</th>\n",
       "      <td>192.168.137.85:42750</td>\n",
       "      <td>192.168.137.226:256</td>\n",
       "      <td>6</td>\n",
       "      <td>4</td>\n",
       "      <td>0</td>\n",
       "      <td>0</td>\n",
       "      <td>1703261991666</td>\n",
       "      <td>1703261991779</td>\n",
       "      <td>113</td>\n",
       "      <td>2</td>\n",
       "      <td>...</td>\n",
       "      <td>1</td>\n",
       "      <td>0</td>\n",
       "      <td>1</td>\n",
       "      <td>0</td>\n",
       "      <td>Unknown</td>\n",
       "      <td>Unspecified</td>\n",
       "      <td>0</td>\n",
       "      <td>0</td>\n",
       "      <td>charging Aggressive scan</td>\n",
       "      <td>1</td>\n",
       "    </tr>\n",
       "    <tr>\n",
       "      <th>1</th>\n",
       "      <td>192.168.137.85:42750</td>\n",
       "      <td>192.168.137.226:993</td>\n",
       "      <td>6</td>\n",
       "      <td>4</td>\n",
       "      <td>0</td>\n",
       "      <td>0</td>\n",
       "      <td>1703261991667</td>\n",
       "      <td>1703261991784</td>\n",
       "      <td>117</td>\n",
       "      <td>2</td>\n",
       "      <td>...</td>\n",
       "      <td>1</td>\n",
       "      <td>0</td>\n",
       "      <td>1</td>\n",
       "      <td>0</td>\n",
       "      <td>IMAPS</td>\n",
       "      <td>Email</td>\n",
       "      <td>1</td>\n",
       "      <td>1</td>\n",
       "      <td>charging Aggressive scan</td>\n",
       "      <td>1</td>\n",
       "    </tr>\n",
       "    <tr>\n",
       "      <th>2</th>\n",
       "      <td>192.168.137.85:42750</td>\n",
       "      <td>192.168.137.226:139</td>\n",
       "      <td>6</td>\n",
       "      <td>4</td>\n",
       "      <td>0</td>\n",
       "      <td>0</td>\n",
       "      <td>1703261991667</td>\n",
       "      <td>1703261991784</td>\n",
       "      <td>117</td>\n",
       "      <td>2</td>\n",
       "      <td>...</td>\n",
       "      <td>1</td>\n",
       "      <td>0</td>\n",
       "      <td>1</td>\n",
       "      <td>0</td>\n",
       "      <td>NetBIOS</td>\n",
       "      <td>System</td>\n",
       "      <td>1</td>\n",
       "      <td>1</td>\n",
       "      <td>charging Aggressive scan</td>\n",
       "      <td>1</td>\n",
       "    </tr>\n",
       "    <tr>\n",
       "      <th>3</th>\n",
       "      <td>192.168.137.85:42750</td>\n",
       "      <td>192.168.137.226:143</td>\n",
       "      <td>6</td>\n",
       "      <td>4</td>\n",
       "      <td>0</td>\n",
       "      <td>0</td>\n",
       "      <td>1703261991667</td>\n",
       "      <td>1703261991785</td>\n",
       "      <td>118</td>\n",
       "      <td>2</td>\n",
       "      <td>...</td>\n",
       "      <td>1</td>\n",
       "      <td>0</td>\n",
       "      <td>1</td>\n",
       "      <td>0</td>\n",
       "      <td>IMAP</td>\n",
       "      <td>Email</td>\n",
       "      <td>1</td>\n",
       "      <td>1</td>\n",
       "      <td>charging Aggressive scan</td>\n",
       "      <td>1</td>\n",
       "    </tr>\n",
       "    <tr>\n",
       "      <th>4</th>\n",
       "      <td>192.168.137.85:42750</td>\n",
       "      <td>192.168.137.226:135</td>\n",
       "      <td>6</td>\n",
       "      <td>4</td>\n",
       "      <td>0</td>\n",
       "      <td>0</td>\n",
       "      <td>1703261991667</td>\n",
       "      <td>1703261991785</td>\n",
       "      <td>118</td>\n",
       "      <td>2</td>\n",
       "      <td>...</td>\n",
       "      <td>1</td>\n",
       "      <td>0</td>\n",
       "      <td>1</td>\n",
       "      <td>0</td>\n",
       "      <td>RPC</td>\n",
       "      <td>RPC</td>\n",
       "      <td>1</td>\n",
       "      <td>1</td>\n",
       "      <td>charging Aggressive scan</td>\n",
       "      <td>1</td>\n",
       "    </tr>\n",
       "  </tbody>\n",
       "</table>\n",
       "<p>5 rows × 75 columns</p>\n",
       "</div>"
      ],
      "text/plain": [
       "                 src_ip               dst_ip  protocol  ip_version  vlan_id  \\\n",
       "0  192.168.137.85:42750  192.168.137.226:256         6           4        0   \n",
       "1  192.168.137.85:42750  192.168.137.226:993         6           4        0   \n",
       "2  192.168.137.85:42750  192.168.137.226:139         6           4        0   \n",
       "3  192.168.137.85:42750  192.168.137.226:143         6           4        0   \n",
       "4  192.168.137.85:42750  192.168.137.226:135         6           4        0   \n",
       "\n",
       "   tunnel_id  bidirectional_first_seen_ms  bidirectional_last_seen_ms  \\\n",
       "0          0                1703261991666               1703261991779   \n",
       "1          0                1703261991667               1703261991784   \n",
       "2          0                1703261991667               1703261991784   \n",
       "3          0                1703261991667               1703261991785   \n",
       "4          0                1703261991667               1703261991785   \n",
       "\n",
       "   bidirectional_duration_ms  bidirectional_packets  ...  dst2src_ack_packets  \\\n",
       "0                        113                      2  ...                    1   \n",
       "1                        117                      2  ...                    1   \n",
       "2                        117                      2  ...                    1   \n",
       "3                        118                      2  ...                    1   \n",
       "4                        118                      2  ...                    1   \n",
       "\n",
       "   dst2src_psh_packets  dst2src_rst_packets  dst2src_fin_packets  \\\n",
       "0                    0                    1                    0   \n",
       "1                    0                    1                    0   \n",
       "2                    0                    1                    0   \n",
       "3                    0                    1                    0   \n",
       "4                    0                    1                    0   \n",
       "\n",
       "   application_name  application_category_name  application_is_guessed  \\\n",
       "0           Unknown                Unspecified                       0   \n",
       "1             IMAPS                      Email                       1   \n",
       "2           NetBIOS                     System                       1   \n",
       "3              IMAP                      Email                       1   \n",
       "4               RPC                        RPC                       1   \n",
       "\n",
       "   application_confidence                 label_mul  label_bi  \n",
       "0                       0  charging Aggressive scan         1  \n",
       "1                       1  charging Aggressive scan         1  \n",
       "2                       1  charging Aggressive scan         1  \n",
       "3                       1  charging Aggressive scan         1  \n",
       "4                       1  charging Aggressive scan         1  \n",
       "\n",
       "[5 rows x 75 columns]"
      ]
     },
     "execution_count": 8,
     "metadata": {},
     "output_type": "execute_result"
    }
   ],
   "source": [
    "import numpy as np\n",
    "\n",
    "ev['label_mul'] = ev['label_mul'].str.replace(r'\\d+$', '', regex=True)\n",
    "ev['label_bi'] = np.where(ev['label_mul'].isin(['idle benign', 'Charging Benign']), 0, 1)\n",
    "ev['src_ip'] = ev['src_ip'].astype(str)+\":\"+ev['src_port'].astype(str)\n",
    "ev['dst_ip'] = ev['dst_ip'].astype(str)+\":\"+ev['dst_port'].astype(str)\n",
    "ev.drop(columns=['id', 'expiration_id', 'src_mac', 'src_oui', 'dst_mac', 'dst_oui', 'src_port','dst_port'], inplace=True)\n",
    "ev.head()"
   ]
  },
  {
   "cell_type": "code",
   "execution_count": 9,
   "id": "e9db810d",
   "metadata": {},
   "outputs": [
    {
     "name": "stdout",
     "output_type": "stream",
     "text": [
      "['charging Aggressive scan' 'Charging Benign' 'charging icmp flood'\n",
      " 'charging icmp fragmentation' 'charging os fingerprinting'\n",
      " 'charging portscan' 'charging push ack flood'\n",
      " 'charging service detection' 'charging slowLoris scan'\n",
      " 'charging syn flood' 'charging syn stealth' 'charging synonymous ip'\n",
      " 'charging tcp flood' 'charging udp flood' 'charging vulnerability scan'\n",
      " 'idle aggressive scan' 'idle benign' 'idle icmp fragmentation'\n",
      " 'idle os fingerprinting' 'idle portscan' 'idle service detection'\n",
      " 'idle slowloris scan' 'idle syn flood' 'idle syn stealth scan'\n",
      " 'idle synonymous ip' 'idle tcp flood' 'idle udp flood'\n",
      " 'idle vulnerability scan' 'charging aggressive scan' 'charging port scan'\n",
      " 'charging service detection scan' 'charging synonymous ip flood'\n",
      " 'idle icmp flood' 'idle port scan' 'idle push ack flood'\n",
      " 'idle synonymous ip flood' 'MaliciousEV aggressive scan'\n",
      " 'MaliciousEV os fingerprinting' 'MaliciousEV port scan'\n",
      " 'MaliciousEV service detection' 'MaliciousEV syn stealth scan'\n",
      " 'MaliciousEV vulnerability scan']\n",
      "[1 0]\n"
     ]
    }
   ],
   "source": [
    "print(ev['label_mul'].unique())\n",
    "print(ev['label_bi'].unique())"
   ]
  },
  {
   "cell_type": "markdown",
   "id": "8a1ac859",
   "metadata": {},
   "source": [
    "## Label Mapping"
   ]
  },
  {
   "cell_type": "code",
   "execution_count": 10,
   "id": "9123c62c",
   "metadata": {},
   "outputs": [
    {
     "name": "stdout",
     "output_type": "stream",
     "text": [
      "['aggressive-scan' 'None' 'icmp-flood' 'icmp-fragmentation'\n",
      " 'os-fingerpriting' 'TCP-port-scan' 'pshack-flood'\n",
      " 'service-version-detection' 'slowloris-scan' 'syn-flood'\n",
      " 'syn-stealth-scan' 'synonymousIP-flood' 'TCP-flood' 'upd-flood'\n",
      " 'vulnerability-scan']\n"
     ]
    }
   ],
   "source": [
    "# Original to new label mapping\n",
    "label_mapping = {\n",
    "    'charging Aggressive scan': 'aggressive-scan',\n",
    "    'Charging Benign': 'None',\n",
    "    'charging icmp flood': 'icmp-flood',\n",
    "    'charging icmp fragmentation': 'icmp-fragmentation',\n",
    "    'charging os fingerprinting': 'os-fingerpriting',\n",
    "    'charging portscan': 'TCP-port-scan',\n",
    "    'charging push ack flood': 'pshack-flood',\n",
    "    'charging service detection': 'service-version-detection',\n",
    "    'charging slowLoris scan': 'slowloris-scan',\n",
    "    'charging syn flood': 'syn-flood',\n",
    "    'charging syn stealth': 'syn-stealth-scan',\n",
    "    'charging synonymous ip': 'synonymousIP-flood',\n",
    "    'charging tcp flood': 'TCP-flood',\n",
    "    'charging udp flood': 'upd-flood',\n",
    "    'charging vulnerability scan': 'vulnerability-scan',\n",
    "    'idle aggressive scan': 'aggressive-scan',\n",
    "    'idle benign': 'None',\n",
    "    'idle icmp fragmentation': 'icmp-fragmentation',\n",
    "    'idle os fingerprinting': 'os-fingerpriting',\n",
    "    'idle portscan': 'TCP-port-scan',\n",
    "    'idle service detection': 'service-version-detection',\n",
    "    'idle slowloris scan': 'slowloris-scan',\n",
    "    'idle syn flood': 'syn-flood',\n",
    "    'idle syn stealth scan': 'syn-stealth-scan',\n",
    "    'idle synonymous ip': 'synonymousIP-flood',\n",
    "    'idle tcp flood': 'TCP-flood',\n",
    "    'idle udp flood': 'upd-flood',\n",
    "    'idle vulnerability scan': 'vulnerability-scan',\n",
    "    'charging aggressive scan': 'aggressive-scan',\n",
    "    'charging port scan': 'TCP-port-scan',\n",
    "    'charging service detection scan': 'service-version-detection',\n",
    "    'charging synonymous ip flood': 'synonymousIP-flood',\n",
    "    'idle icmp flood': 'icmp-flood',\n",
    "    'idle port scan': 'TCP-port-scan',\n",
    "    'idle push ack flood': 'pshack-flood',\n",
    "    'idle synonymous ip flood': 'synonymousIP-flood',\n",
    "    'MaliciousEV aggressive scan': 'aggressive-scan',\n",
    "    'MaliciousEV os fingerprinting': 'os-fingerpriting',\n",
    "    'MaliciousEV port scan': 'TCP-port-scan',\n",
    "    'MaliciousEV service detection': 'service-version-detection',\n",
    "    'MaliciousEV syn stealth scan': 'syn-stealth-scan',\n",
    "    'MaliciousEV vulnerability scan': 'vulnerability-scan'\n",
    "}\n",
    "\n",
    "# Apply the mapping to the label_mul column\n",
    "ev['label_mul'] = ev['label_mul'].map(label_mapping)\n",
    "\n",
    "# Verify the mapping\n",
    "print(ev['label_mul'].unique())\n"
   ]
  },
  {
   "cell_type": "markdown",
   "id": "122f3b54",
   "metadata": {},
   "source": [
    "## Drop Null Columns"
   ]
  },
  {
   "cell_type": "code",
   "execution_count": 11,
   "id": "b07404a9",
   "metadata": {},
   "outputs": [
    {
     "data": {
      "text/plain": [
       "(array([0]), array([0]), array([0]))"
      ]
     },
     "execution_count": 11,
     "metadata": {},
     "output_type": "execute_result"
    }
   ],
   "source": [
    "ev['vlan_id'].unique(), ev['dst2src_cwr_packets'].unique(), ev['dst2src_urg_packets'].unique()"
   ]
  },
  {
   "cell_type": "code",
   "execution_count": 12,
   "id": "09308f4e",
   "metadata": {},
   "outputs": [
    {
     "name": "stdout",
     "output_type": "stream",
     "text": [
      "<class 'pandas.core.frame.DataFrame'>\n",
      "RangeIndex: 2744700 entries, 0 to 2744699\n",
      "Data columns (total 75 columns):\n",
      " #   Column                        Dtype  \n",
      "---  ------                        -----  \n",
      " 0   src_ip                        object \n",
      " 1   dst_ip                        object \n",
      " 2   protocol                      int64  \n",
      " 3   ip_version                    int64  \n",
      " 4   vlan_id                       int64  \n",
      " 5   tunnel_id                     int64  \n",
      " 6   bidirectional_first_seen_ms   int64  \n",
      " 7   bidirectional_last_seen_ms    int64  \n",
      " 8   bidirectional_duration_ms     int64  \n",
      " 9   bidirectional_packets         int64  \n",
      " 10  bidirectional_bytes           int64  \n",
      " 11  src2dst_first_seen_ms         int64  \n",
      " 12  src2dst_last_seen_ms          int64  \n",
      " 13  src2dst_duration_ms           int64  \n",
      " 14  src2dst_packets               int64  \n",
      " 15  src2dst_bytes                 int64  \n",
      " 16  dst2src_first_seen_ms         int64  \n",
      " 17  dst2src_last_seen_ms          int64  \n",
      " 18  dst2src_duration_ms           int64  \n",
      " 19  dst2src_packets               int64  \n",
      " 20  dst2src_bytes                 int64  \n",
      " 21  bidirectional_min_ps          int64  \n",
      " 22  bidirectional_mean_ps         float64\n",
      " 23  bidirectional_stddev_ps       float64\n",
      " 24  bidirectional_max_ps          int64  \n",
      " 25  src2dst_min_ps                int64  \n",
      " 26  src2dst_mean_ps               float64\n",
      " 27  src2dst_stddev_ps             float64\n",
      " 28  src2dst_max_ps                int64  \n",
      " 29  dst2src_min_ps                int64  \n",
      " 30  dst2src_mean_ps               float64\n",
      " 31  dst2src_stddev_ps             float64\n",
      " 32  dst2src_max_ps                int64  \n",
      " 33  bidirectional_min_piat_ms     int64  \n",
      " 34  bidirectional_mean_piat_ms    float64\n",
      " 35  bidirectional_stddev_piat_ms  float64\n",
      " 36  bidirectional_max_piat_ms     int64  \n",
      " 37  src2dst_min_piat_ms           int64  \n",
      " 38  src2dst_mean_piat_ms          float64\n",
      " 39  src2dst_stddev_piat_ms        float64\n",
      " 40  src2dst_max_piat_ms           int64  \n",
      " 41  dst2src_min_piat_ms           int64  \n",
      " 42  dst2src_mean_piat_ms          float64\n",
      " 43  dst2src_stddev_piat_ms        float64\n",
      " 44  dst2src_max_piat_ms           int64  \n",
      " 45  bidirectional_syn_packets     int64  \n",
      " 46  bidirectional_cwr_packets     int64  \n",
      " 47  bidirectional_ece_packets     int64  \n",
      " 48  bidirectional_urg_packets     int64  \n",
      " 49  bidirectional_ack_packets     int64  \n",
      " 50  bidirectional_psh_packets     int64  \n",
      " 51  bidirectional_rst_packets     int64  \n",
      " 52  bidirectional_fin_packets     int64  \n",
      " 53  src2dst_syn_packets           int64  \n",
      " 54  src2dst_cwr_packets           int64  \n",
      " 55  src2dst_ece_packets           int64  \n",
      " 56  src2dst_urg_packets           int64  \n",
      " 57  src2dst_ack_packets           int64  \n",
      " 58  src2dst_psh_packets           int64  \n",
      " 59  src2dst_rst_packets           int64  \n",
      " 60  src2dst_fin_packets           int64  \n",
      " 61  dst2src_syn_packets           int64  \n",
      " 62  dst2src_cwr_packets           int64  \n",
      " 63  dst2src_ece_packets           int64  \n",
      " 64  dst2src_urg_packets           int64  \n",
      " 65  dst2src_ack_packets           int64  \n",
      " 66  dst2src_psh_packets           int64  \n",
      " 67  dst2src_rst_packets           int64  \n",
      " 68  dst2src_fin_packets           int64  \n",
      " 69  application_name              object \n",
      " 70  application_category_name     object \n",
      " 71  application_is_guessed        int64  \n",
      " 72  application_confidence        int64  \n",
      " 73  label_mul                     object \n",
      " 74  label_bi                      int64  \n",
      "dtypes: float64(12), int64(58), object(5)\n",
      "memory usage: 1.5+ GB\n"
     ]
    }
   ],
   "source": [
    "ev.info()"
   ]
  },
  {
   "cell_type": "markdown",
   "id": "531351fc",
   "metadata": {},
   "source": [
    "## Label Encoding"
   ]
  },
  {
   "cell_type": "code",
   "execution_count": 13,
   "id": "c3cebc5a",
   "metadata": {},
   "outputs": [
    {
     "name": "stdout",
     "output_type": "stream",
     "text": [
      "   application_name  application_category_name\n",
      "0                61                         14\n",
      "1                23                          5\n",
      "2                35                         13\n",
      "3                22                          5\n",
      "4                42                         11\n"
     ]
    }
   ],
   "source": [
    "from sklearn.preprocessing import LabelEncoder\n",
    "\n",
    "# List of object columns to encode\n",
    "object_columns = [\n",
    "    \"application_name\",\n",
    "    \"application_category_name\",\n",
    "]\n",
    "\n",
    "# Apply label encoding to each column\n",
    "label_encoders = {}  # To store the encoders for each column\n",
    "for col in object_columns:\n",
    "    label_encoders[col] = LabelEncoder()  # Create a LabelEncoder for each column\n",
    "    ev[col] = label_encoders[col].fit_transform(ev[col].astype(str))  # Encode the column\n",
    "\n",
    "# Verify the result\n",
    "print(ev[object_columns].head())\n"
   ]
  },
  {
   "cell_type": "code",
   "execution_count": null,
   "id": "68aaddb8-7a8a-46ed-b179-7a899ed0a631",
   "metadata": {},
   "outputs": [],
   "source": []
  },
  {
   "cell_type": "code",
   "execution_count": 14,
   "id": "3070228e-ff81-4281-80a7-a9ac1f8e9436",
   "metadata": {},
   "outputs": [
    {
     "name": "stdout",
     "output_type": "stream",
     "text": [
      "         label_mul Scenario\n",
      "0  aggressive-scan    Recon\n",
      "1  aggressive-scan    Recon\n",
      "2  aggressive-scan    Recon\n",
      "3  aggressive-scan    Recon\n",
      "4  aggressive-scan    Recon\n"
     ]
    }
   ],
   "source": [
    "# Define a mapping dictionary for the 'Attack' column\n",
    "attack_mapping = {\n",
    "    'aggressive-scan': 'Recon',\n",
    "    'None': 'Benign',\n",
    "    'icmp-flood': 'DoS',\n",
    "    'icmp-fragmentation': 'DoS',\n",
    "    'os-fingerpriting': 'Recon',\n",
    "    'TCP-port-scan': 'Recon',\n",
    "    'pshack-flood': 'DoS',\n",
    "    'service-version-detection': 'Recon',\n",
    "    'slowloris-scan': 'DoS',\n",
    "    'syn-flood': 'DoS',\n",
    "    'syn-stealth-scan': 'Recon',\n",
    "    'synonymousIP-flood': 'DoS',\n",
    "    'TCP-flood': 'DoS',\n",
    "    'upd-flood': 'DoS',\n",
    "    'vulnerability-scan': 'Recon'\n",
    "}\n",
    "\n",
    "# Map the 'Attack' column to the new categories\n",
    "ev['Scenario'] = ev['label_mul'].map(attack_mapping)\n",
    "\n",
    "# Verify the mapping\n",
    "print(ev[['label_mul', 'Scenario']].head())\n"
   ]
  },
  {
   "cell_type": "code",
   "execution_count": 15,
   "id": "edefe304-48f3-4825-800f-6e082f91e107",
   "metadata": {},
   "outputs": [],
   "source": [
    "ev.drop(columns = ['label_mul'], inplace=True)"
   ]
  },
  {
   "cell_type": "code",
   "execution_count": 16,
   "id": "e944f21d-0541-4a89-96e8-d0d9478508db",
   "metadata": {},
   "outputs": [
    {
     "name": "stderr",
     "output_type": "stream",
     "text": [
      "/tmp/ipykernel_2298366/3209854169.py:1: FutureWarning: A value is trying to be set on a copy of a DataFrame or Series through chained assignment using an inplace method.\n",
      "The behavior will change in pandas 3.0. This inplace method will never work because the intermediate object on which we are setting values always behaves as a copy.\n",
      "\n",
      "For example, when doing 'df[col].method(value, inplace=True)', try using 'df.method({col: value}, inplace=True)' or df[col] = df[col].method(value) instead, to perform the operation inplace on the original object.\n",
      "\n",
      "\n",
      "  ev['Scenario'].replace({\"Benign\":0, \"Recon\":1, \"DoS\":2, \"Cryptojacking\":3, \"Backdoor\":4\n",
      "/tmp/ipykernel_2298366/3209854169.py:1: FutureWarning: Downcasting behavior in `replace` is deprecated and will be removed in a future version. To retain the old behavior, explicitly call `result.infer_objects(copy=False)`. To opt-in to the future behavior, set `pd.set_option('future.no_silent_downcasting', True)`\n",
      "  ev['Scenario'].replace({\"Benign\":0, \"Recon\":1, \"DoS\":2, \"Cryptojacking\":3, \"Backdoor\":4\n"
     ]
    }
   ],
   "source": [
    "ev['Scenario'].replace({\"Benign\":0, \"Recon\":1, \"DoS\":2, \"Cryptojacking\":3, \"Backdoor\":4\n",
    "}, inplace= True)"
   ]
  },
  {
   "cell_type": "code",
   "execution_count": 17,
   "id": "a52bf8fb-8650-46c6-ad32-279a0fa8b910",
   "metadata": {
    "scrolled": true
   },
   "outputs": [
    {
     "name": "stdout",
     "output_type": "stream",
     "text": [
      "<class 'pandas.core.frame.DataFrame'>\n",
      "RangeIndex: 2744700 entries, 0 to 2744699\n",
      "Data columns (total 75 columns):\n",
      " #   Column                        Dtype  \n",
      "---  ------                        -----  \n",
      " 0   src_ip                        object \n",
      " 1   dst_ip                        object \n",
      " 2   protocol                      int64  \n",
      " 3   ip_version                    int64  \n",
      " 4   vlan_id                       int64  \n",
      " 5   tunnel_id                     int64  \n",
      " 6   bidirectional_first_seen_ms   int64  \n",
      " 7   bidirectional_last_seen_ms    int64  \n",
      " 8   bidirectional_duration_ms     int64  \n",
      " 9   bidirectional_packets         int64  \n",
      " 10  bidirectional_bytes           int64  \n",
      " 11  src2dst_first_seen_ms         int64  \n",
      " 12  src2dst_last_seen_ms          int64  \n",
      " 13  src2dst_duration_ms           int64  \n",
      " 14  src2dst_packets               int64  \n",
      " 15  src2dst_bytes                 int64  \n",
      " 16  dst2src_first_seen_ms         int64  \n",
      " 17  dst2src_last_seen_ms          int64  \n",
      " 18  dst2src_duration_ms           int64  \n",
      " 19  dst2src_packets               int64  \n",
      " 20  dst2src_bytes                 int64  \n",
      " 21  bidirectional_min_ps          int64  \n",
      " 22  bidirectional_mean_ps         float64\n",
      " 23  bidirectional_stddev_ps       float64\n",
      " 24  bidirectional_max_ps          int64  \n",
      " 25  src2dst_min_ps                int64  \n",
      " 26  src2dst_mean_ps               float64\n",
      " 27  src2dst_stddev_ps             float64\n",
      " 28  src2dst_max_ps                int64  \n",
      " 29  dst2src_min_ps                int64  \n",
      " 30  dst2src_mean_ps               float64\n",
      " 31  dst2src_stddev_ps             float64\n",
      " 32  dst2src_max_ps                int64  \n",
      " 33  bidirectional_min_piat_ms     int64  \n",
      " 34  bidirectional_mean_piat_ms    float64\n",
      " 35  bidirectional_stddev_piat_ms  float64\n",
      " 36  bidirectional_max_piat_ms     int64  \n",
      " 37  src2dst_min_piat_ms           int64  \n",
      " 38  src2dst_mean_piat_ms          float64\n",
      " 39  src2dst_stddev_piat_ms        float64\n",
      " 40  src2dst_max_piat_ms           int64  \n",
      " 41  dst2src_min_piat_ms           int64  \n",
      " 42  dst2src_mean_piat_ms          float64\n",
      " 43  dst2src_stddev_piat_ms        float64\n",
      " 44  dst2src_max_piat_ms           int64  \n",
      " 45  bidirectional_syn_packets     int64  \n",
      " 46  bidirectional_cwr_packets     int64  \n",
      " 47  bidirectional_ece_packets     int64  \n",
      " 48  bidirectional_urg_packets     int64  \n",
      " 49  bidirectional_ack_packets     int64  \n",
      " 50  bidirectional_psh_packets     int64  \n",
      " 51  bidirectional_rst_packets     int64  \n",
      " 52  bidirectional_fin_packets     int64  \n",
      " 53  src2dst_syn_packets           int64  \n",
      " 54  src2dst_cwr_packets           int64  \n",
      " 55  src2dst_ece_packets           int64  \n",
      " 56  src2dst_urg_packets           int64  \n",
      " 57  src2dst_ack_packets           int64  \n",
      " 58  src2dst_psh_packets           int64  \n",
      " 59  src2dst_rst_packets           int64  \n",
      " 60  src2dst_fin_packets           int64  \n",
      " 61  dst2src_syn_packets           int64  \n",
      " 62  dst2src_cwr_packets           int64  \n",
      " 63  dst2src_ece_packets           int64  \n",
      " 64  dst2src_urg_packets           int64  \n",
      " 65  dst2src_ack_packets           int64  \n",
      " 66  dst2src_psh_packets           int64  \n",
      " 67  dst2src_rst_packets           int64  \n",
      " 68  dst2src_fin_packets           int64  \n",
      " 69  application_name              int64  \n",
      " 70  application_category_name     int64  \n",
      " 71  application_is_guessed        int64  \n",
      " 72  application_confidence        int64  \n",
      " 73  label_bi                      int64  \n",
      " 74  Scenario                      int64  \n",
      "dtypes: float64(12), int64(61), object(2)\n",
      "memory usage: 1.5+ GB\n"
     ]
    }
   ],
   "source": [
    "ev.info()"
   ]
  },
  {
   "cell_type": "code",
   "execution_count": 18,
   "id": "8ab59909-0fd3-472d-bd4a-18ee8b677f29",
   "metadata": {},
   "outputs": [
    {
     "data": {
      "text/plain": [
       "array([1, 0, 2])"
      ]
     },
     "execution_count": 18,
     "metadata": {},
     "output_type": "execute_result"
    }
   ],
   "source": [
    "ev['Scenario'].unique()"
   ]
  },
  {
   "cell_type": "markdown",
   "id": "93d066b5-473d-4e77-86a1-c05530631b63",
   "metadata": {},
   "source": [
    "# GNN - All Features"
   ]
  },
  {
   "cell_type": "code",
   "execution_count": 20,
   "id": "fbbca2fa-4f4b-4fb1-abb8-da088a36f2a1",
   "metadata": {},
   "outputs": [],
   "source": [
    "import torch\n",
    "import torch.nn.functional as F\n",
    "from torch_geometric.nn import SAGEConv\n",
    "from torch_geometric.data import Data\n",
    "from torch_geometric.loader import DataLoader\n",
    "from tqdm import tqdm\n",
    "from sklearn.preprocessing import StandardScaler\n",
    "\n",
    "# Step 1: Create a Mapping for Each Unique IP\n",
    "all_ips = list(set(ev['src_ip']) | set(ev['dst_ip']))\n",
    "ip_map = {ip: i for i, ip in enumerate(all_ips)}\n",
    "\n",
    "# Step 2: Convert Source and Destination IPs to Indices\n",
    "a = [ip_map[ip] for ip in ev['src_ip']]\n",
    "b = [ip_map[ip] for ip in ev['dst_ip']]\n",
    "edge_index = torch.tensor([a, b], dtype=torch.long)\n",
    "\n",
    "# Step 3: Use Learnable Embeddings for IP Addresses as Node Features\n",
    "num_nodes = len(all_ips)\n",
    "embedding_dim = 16  # Can be tuned\n",
    "node_features = torch.nn.Embedding(num_nodes, embedding_dim)\n",
    "\n",
    "# Step 4: Edge Features (PCA-Reduced)\n",
    "edge_features = ev.iloc[:, 2:73].to_numpy()  # Edge Features\n",
    "scaler = StandardScaler()\n",
    "edge_features_standardized = scaler.fit_transform(edge_features)\n",
    "edge_attr = torch.tensor(edge_features_standardized, dtype=torch.float)\n",
    "\n",
    "# Step 5: Labels\n",
    "labels = torch.tensor(ev['label_bi'].values, dtype=torch.long)"
   ]
  },
  {
   "cell_type": "code",
   "execution_count": null,
   "id": "9a2aa949-3a88-4a2b-a40e-cf87cb318647",
   "metadata": {},
   "outputs": [],
   "source": []
  },
  {
   "cell_type": "code",
   "execution_count": null,
   "id": "702bc8c3-b432-454d-a2c7-14d3aad96f06",
   "metadata": {},
   "outputs": [],
   "source": []
  },
  {
   "cell_type": "code",
   "execution_count": null,
   "id": "2601d085-9ae1-4da0-baf5-8287d2c5eb98",
   "metadata": {},
   "outputs": [],
   "source": []
  },
  {
   "cell_type": "code",
   "execution_count": 21,
   "id": "409c2201-f483-467a-83ab-2dce18a3ac83",
   "metadata": {},
   "outputs": [],
   "source": [
    "\n",
    "# Create PyG Data Object\n",
    "data = Data(x=node_features.weight, edge_index=edge_index, edge_attr=edge_attr, y=labels)\n",
    "\n",
    "# Split Dataset\n",
    "num_edges = edge_index.shape[1]\n",
    "indices = torch.randperm(num_edges)\n",
    "split = int(0.8 * num_edges)\n",
    "train_idx = indices[:split]\n",
    "test_idx = indices[split:]\n",
    "\n",
    "train_edge_index = edge_index[:, train_idx]\n",
    "test_edge_index = edge_index[:, test_idx]\n",
    "\n",
    "train_edge_attr = edge_attr[train_idx]\n",
    "test_edge_attr = edge_attr[test_idx]\n",
    "\n",
    "train_labels = labels[train_idx]\n",
    "test_labels = labels[test_idx]\n",
    "\n",
    "train_data = Data(x=node_features.weight, edge_index=train_edge_index, edge_attr=train_edge_attr, y=train_labels)\n",
    "test_data = Data(x=node_features.weight, edge_index=test_edge_index, edge_attr=test_edge_attr, y=test_labels)\n",
    "\n",
    "# DataLoader\n",
    "train_loader = DataLoader([train_data], batch_size=32, shuffle=True)\n",
    "test_loader = DataLoader([test_data], batch_size=32)\n"
   ]
  },
  {
   "cell_type": "code",
   "execution_count": null,
   "id": "fbc38720-bf10-45ca-ae0a-b8c3429f11e5",
   "metadata": {},
   "outputs": [],
   "source": []
  },
  {
   "cell_type": "markdown",
   "id": "0be47e05-a177-465b-9116-4ac0f35c927d",
   "metadata": {},
   "source": [
    "## GNN - SAGE"
   ]
  },
  {
   "cell_type": "code",
   "execution_count": 22,
   "id": "a9ff28db-b71d-43dd-84f6-8598fb06df69",
   "metadata": {},
   "outputs": [],
   "source": [
    "import torch\n",
    "import torch.nn.functional as F\n",
    "from torch_geometric.nn import GCNConv, SAGEConv, GATConv, GINConv, MessagePassing\n",
    "from torch_geometric.data import Data\n",
    "\n",
    "class EdgeGNN(torch.nn.Module):\n",
    "    def __init__(self, in_channels, hidden_channels, out_channels, gnn_type=\"SAGE\"):\n",
    "        super(EdgeGNN, self).__init__()\n",
    "\n",
    "        # 🔹 Choose GNN Type\n",
    "        if gnn_type == \"GCN\":\n",
    "            self.conv1 = GCNConv(in_channels, hidden_channels)\n",
    "            self.conv2 = GCNConv(hidden_channels, hidden_channels)\n",
    "        elif gnn_type == \"GAT\":\n",
    "            self.conv1 = GATConv(in_channels, hidden_channels, heads=2, concat=False)\n",
    "            self.conv2 = GATConv(hidden_channels, hidden_channels, heads=2, concat=False)\n",
    "        elif gnn_type == \"GIN\":\n",
    "            self.conv1 = GINConv(torch.nn.Sequential(\n",
    "                torch.nn.Linear(in_channels, hidden_channels),\n",
    "                torch.nn.ReLU(),\n",
    "                torch.nn.Linear(hidden_channels, hidden_channels)\n",
    "            ))\n",
    "            self.conv2 = GINConv(torch.nn.Sequential(\n",
    "                torch.nn.Linear(hidden_channels, hidden_channels),\n",
    "                torch.nn.ReLU(),\n",
    "                torch.nn.Linear(hidden_channels, hidden_channels)\n",
    "            ))\n",
    "        elif gnn_type == \"MPNN\":\n",
    "            class MPNNLayer(MessagePassing):\n",
    "                def __init__(self, in_channels, out_channels):\n",
    "                    super().__init__(aggr='mean')  # Aggregation function\n",
    "                    self.linear = torch.nn.Linear(in_channels, out_channels)\n",
    "\n",
    "                def forward(self, x, edge_index):\n",
    "                    return self.linear(self.propagate(edge_index, x=x))\n",
    "\n",
    "                def message(self, x_j):\n",
    "                    return x_j\n",
    "\n",
    "            self.conv1 = MPNNLayer(in_channels, hidden_channels)\n",
    "            self.conv2 = MPNNLayer(hidden_channels, hidden_channels)\n",
    "        elif gnn_type == \"SAGE\":  # Explicitly add GraphSAGE\n",
    "            self.conv1 = SAGEConv(in_channels, hidden_channels)\n",
    "            self.conv2 = SAGEConv(hidden_channels, hidden_channels)\n",
    "        else:\n",
    "            raise ValueError(\"Invalid GNN type. Choose from ['GCN', 'GAT', 'GIN', 'MPNN', 'Graphormer', 'SAGE']\")\n",
    "\n",
    "        # Edge MLP Classifier\n",
    "        self.edge_mlp = torch.nn.Linear(hidden_channels * 2 + edge_attr.shape[1], out_channels)\n",
    "\n",
    "    def forward(self, x, edge_index, edge_attr):\n",
    "        x = self.conv1(x, edge_index)\n",
    "        x = self.conv2(x, edge_index)\n",
    "        x = F.relu(x)\n",
    "\n",
    "        # Compute Edge Embeddings\n",
    "        src, dst = edge_index\n",
    "        edge_embeddings = torch.cat([x[src], x[dst], edge_attr], dim=1)\n",
    "\n",
    "        # Predict Edge Labels\n",
    "        edge_logits = self.edge_mlp(edge_embeddings)\n",
    "        return edge_logits\n",
    "\n",
    "\n",
    "\n",
    "# Model, Optimizer, Loss\n",
    "device = torch.device('cuda' if torch.cuda.is_available() else 'cpu')\n",
    "gnn_type = \"SAGE\"\n",
    "\n",
    "# Create Model\n",
    "model = EdgeGNN(\n",
    "    in_channels=embedding_dim,\n",
    "    hidden_channels=32,\n",
    "    out_channels=len(labels.unique()),\n",
    "    gnn_type=gnn_type\n",
    ").to(device)\n",
    "\n",
    "optimizer = torch.optim.Adam(model.parameters(), lr=0.003)\n",
    "class_counts = torch.bincount(labels)  # Count occurrences of each class\n",
    "class_weights = 1.0 / class_counts.float()  # Inverse of frequency\n",
    "class_weights = class_weights / class_weights.sum()  # Normalize\n",
    "class_weights = class_weights.to(device)  # Move to GPU if needed\n",
    "criterion = torch.nn.CrossEntropyLoss(weight=class_weights)"
   ]
  },
  {
   "cell_type": "code",
   "execution_count": 23,
   "id": "37f20ac2-8119-453c-9f7b-baafde378bef",
   "metadata": {
    "scrolled": true
   },
   "outputs": [
    {
     "name": "stderr",
     "output_type": "stream",
     "text": [
      "                                                          \r"
     ]
    },
    {
     "name": "stdout",
     "output_type": "stream",
     "text": [
      "Epoch 1/100, Avg Loss: 0.6348, Train Accuracy: 0.4998\n"
     ]
    },
    {
     "name": "stderr",
     "output_type": "stream",
     "text": [
      "                                                          \r"
     ]
    },
    {
     "name": "stdout",
     "output_type": "stream",
     "text": [
      "Epoch 2/100, Avg Loss: 0.5098, Train Accuracy: 0.5829\n"
     ]
    },
    {
     "name": "stderr",
     "output_type": "stream",
     "text": [
      "                                                          \r"
     ]
    },
    {
     "name": "stdout",
     "output_type": "stream",
     "text": [
      "Epoch 3/100, Avg Loss: 0.4301, Train Accuracy: 0.6813\n"
     ]
    },
    {
     "name": "stderr",
     "output_type": "stream",
     "text": [
      "                                                          \r"
     ]
    },
    {
     "name": "stdout",
     "output_type": "stream",
     "text": [
      "Epoch 4/100, Avg Loss: 0.3785, Train Accuracy: 0.7981\n"
     ]
    },
    {
     "name": "stderr",
     "output_type": "stream",
     "text": [
      "                                                          \r"
     ]
    },
    {
     "name": "stdout",
     "output_type": "stream",
     "text": [
      "Epoch 5/100, Avg Loss: 0.3370, Train Accuracy: 0.9028\n"
     ]
    },
    {
     "name": "stderr",
     "output_type": "stream",
     "text": [
      "                                                          \r"
     ]
    },
    {
     "name": "stdout",
     "output_type": "stream",
     "text": [
      "Epoch 6/100, Avg Loss: 0.3000, Train Accuracy: 0.9589\n"
     ]
    },
    {
     "name": "stderr",
     "output_type": "stream",
     "text": [
      "                                                          \r"
     ]
    },
    {
     "name": "stdout",
     "output_type": "stream",
     "text": [
      "Epoch 7/100, Avg Loss: 0.2657, Train Accuracy: 0.9834\n"
     ]
    },
    {
     "name": "stderr",
     "output_type": "stream",
     "text": [
      "                                                          \r"
     ]
    },
    {
     "name": "stdout",
     "output_type": "stream",
     "text": [
      "Epoch 8/100, Avg Loss: 0.2340, Train Accuracy: 0.9939\n"
     ]
    },
    {
     "name": "stderr",
     "output_type": "stream",
     "text": [
      "                                                          \r"
     ]
    },
    {
     "name": "stdout",
     "output_type": "stream",
     "text": [
      "Epoch 9/100, Avg Loss: 0.2049, Train Accuracy: 0.9969\n"
     ]
    },
    {
     "name": "stderr",
     "output_type": "stream",
     "text": [
      "                                                           \r"
     ]
    },
    {
     "name": "stdout",
     "output_type": "stream",
     "text": [
      "Epoch 10/100, Avg Loss: 0.1787, Train Accuracy: 0.9974\n"
     ]
    },
    {
     "name": "stderr",
     "output_type": "stream",
     "text": [
      "                                                           \r"
     ]
    },
    {
     "name": "stdout",
     "output_type": "stream",
     "text": [
      "Epoch 11/100, Avg Loss: 0.1552, Train Accuracy: 0.9975\n"
     ]
    },
    {
     "name": "stderr",
     "output_type": "stream",
     "text": [
      "                                                           \r"
     ]
    },
    {
     "name": "stdout",
     "output_type": "stream",
     "text": [
      "Epoch 12/100, Avg Loss: 0.1344, Train Accuracy: 0.9976\n"
     ]
    },
    {
     "name": "stderr",
     "output_type": "stream",
     "text": [
      "                                                           \r"
     ]
    },
    {
     "name": "stdout",
     "output_type": "stream",
     "text": [
      "Epoch 13/100, Avg Loss: 0.1160, Train Accuracy: 0.9976\n"
     ]
    },
    {
     "name": "stderr",
     "output_type": "stream",
     "text": [
      "                                                           \r"
     ]
    },
    {
     "name": "stdout",
     "output_type": "stream",
     "text": [
      "Epoch 14/100, Avg Loss: 0.0998, Train Accuracy: 0.9977\n"
     ]
    },
    {
     "name": "stderr",
     "output_type": "stream",
     "text": [
      "                                                           \r"
     ]
    },
    {
     "name": "stdout",
     "output_type": "stream",
     "text": [
      "Epoch 15/100, Avg Loss: 0.0855, Train Accuracy: 0.9979\n"
     ]
    },
    {
     "name": "stderr",
     "output_type": "stream",
     "text": [
      "                                                           \r"
     ]
    },
    {
     "name": "stdout",
     "output_type": "stream",
     "text": [
      "Epoch 16/100, Avg Loss: 0.0730, Train Accuracy: 0.9980\n"
     ]
    },
    {
     "name": "stderr",
     "output_type": "stream",
     "text": [
      "                                                           \r"
     ]
    },
    {
     "name": "stdout",
     "output_type": "stream",
     "text": [
      "Epoch 17/100, Avg Loss: 0.0621, Train Accuracy: 0.9982\n"
     ]
    },
    {
     "name": "stderr",
     "output_type": "stream",
     "text": [
      "                                                           \r"
     ]
    },
    {
     "name": "stdout",
     "output_type": "stream",
     "text": [
      "Epoch 18/100, Avg Loss: 0.0528, Train Accuracy: 0.9984\n"
     ]
    },
    {
     "name": "stderr",
     "output_type": "stream",
     "text": [
      "                                                           \r"
     ]
    },
    {
     "name": "stdout",
     "output_type": "stream",
     "text": [
      "Epoch 19/100, Avg Loss: 0.0450, Train Accuracy: 0.9986\n"
     ]
    },
    {
     "name": "stderr",
     "output_type": "stream",
     "text": [
      "                                                           \r"
     ]
    },
    {
     "name": "stdout",
     "output_type": "stream",
     "text": [
      "Epoch 20/100, Avg Loss: 0.0383, Train Accuracy: 0.9989\n"
     ]
    },
    {
     "name": "stderr",
     "output_type": "stream",
     "text": [
      "                                                           \r"
     ]
    },
    {
     "name": "stdout",
     "output_type": "stream",
     "text": [
      "Epoch 21/100, Avg Loss: 0.0328, Train Accuracy: 0.9990\n"
     ]
    },
    {
     "name": "stderr",
     "output_type": "stream",
     "text": [
      "                                                           \r"
     ]
    },
    {
     "name": "stdout",
     "output_type": "stream",
     "text": [
      "Epoch 22/100, Avg Loss: 0.0283, Train Accuracy: 0.9991\n"
     ]
    },
    {
     "name": "stderr",
     "output_type": "stream",
     "text": [
      "                                                           \r"
     ]
    },
    {
     "name": "stdout",
     "output_type": "stream",
     "text": [
      "Epoch 23/100, Avg Loss: 0.0246, Train Accuracy: 0.9992\n"
     ]
    },
    {
     "name": "stderr",
     "output_type": "stream",
     "text": [
      "                                                           \r"
     ]
    },
    {
     "name": "stdout",
     "output_type": "stream",
     "text": [
      "Epoch 24/100, Avg Loss: 0.0216, Train Accuracy: 0.9992\n"
     ]
    },
    {
     "name": "stderr",
     "output_type": "stream",
     "text": [
      "                                                           \r"
     ]
    },
    {
     "name": "stdout",
     "output_type": "stream",
     "text": [
      "Epoch 25/100, Avg Loss: 0.0191, Train Accuracy: 0.9993\n"
     ]
    },
    {
     "name": "stderr",
     "output_type": "stream",
     "text": [
      "                                                           \r"
     ]
    },
    {
     "name": "stdout",
     "output_type": "stream",
     "text": [
      "Epoch 26/100, Avg Loss: 0.0172, Train Accuracy: 0.9993\n"
     ]
    },
    {
     "name": "stderr",
     "output_type": "stream",
     "text": [
      "                                                           \r"
     ]
    },
    {
     "name": "stdout",
     "output_type": "stream",
     "text": [
      "Epoch 27/100, Avg Loss: 0.0156, Train Accuracy: 0.9994\n"
     ]
    },
    {
     "name": "stderr",
     "output_type": "stream",
     "text": [
      "                                                           \r"
     ]
    },
    {
     "name": "stdout",
     "output_type": "stream",
     "text": [
      "Epoch 28/100, Avg Loss: 0.0144, Train Accuracy: 0.9994\n"
     ]
    },
    {
     "name": "stderr",
     "output_type": "stream",
     "text": [
      "                                                           \r"
     ]
    },
    {
     "name": "stdout",
     "output_type": "stream",
     "text": [
      "Epoch 29/100, Avg Loss: 0.0133, Train Accuracy: 0.9994\n"
     ]
    },
    {
     "name": "stderr",
     "output_type": "stream",
     "text": [
      "                                                           \r"
     ]
    },
    {
     "name": "stdout",
     "output_type": "stream",
     "text": [
      "Epoch 30/100, Avg Loss: 0.0125, Train Accuracy: 0.9994\n"
     ]
    },
    {
     "name": "stderr",
     "output_type": "stream",
     "text": [
      "                                                           \r"
     ]
    },
    {
     "name": "stdout",
     "output_type": "stream",
     "text": [
      "Epoch 31/100, Avg Loss: 0.0118, Train Accuracy: 0.9994\n"
     ]
    },
    {
     "name": "stderr",
     "output_type": "stream",
     "text": [
      "                                                           \r"
     ]
    },
    {
     "name": "stdout",
     "output_type": "stream",
     "text": [
      "Epoch 32/100, Avg Loss: 0.0112, Train Accuracy: 0.9994\n"
     ]
    },
    {
     "name": "stderr",
     "output_type": "stream",
     "text": [
      "                                                           \r"
     ]
    },
    {
     "name": "stdout",
     "output_type": "stream",
     "text": [
      "Epoch 33/100, Avg Loss: 0.0107, Train Accuracy: 0.9994\n"
     ]
    },
    {
     "name": "stderr",
     "output_type": "stream",
     "text": [
      "                                                           \r"
     ]
    },
    {
     "name": "stdout",
     "output_type": "stream",
     "text": [
      "Epoch 34/100, Avg Loss: 0.0103, Train Accuracy: 0.9994\n"
     ]
    },
    {
     "name": "stderr",
     "output_type": "stream",
     "text": [
      "                                                           \r"
     ]
    },
    {
     "name": "stdout",
     "output_type": "stream",
     "text": [
      "Epoch 35/100, Avg Loss: 0.0099, Train Accuracy: 0.9994\n"
     ]
    },
    {
     "name": "stderr",
     "output_type": "stream",
     "text": [
      "                                                           \r"
     ]
    },
    {
     "name": "stdout",
     "output_type": "stream",
     "text": [
      "Epoch 36/100, Avg Loss: 0.0096, Train Accuracy: 0.9994\n"
     ]
    },
    {
     "name": "stderr",
     "output_type": "stream",
     "text": [
      "                                                           \r"
     ]
    },
    {
     "name": "stdout",
     "output_type": "stream",
     "text": [
      "Epoch 37/100, Avg Loss: 0.0093, Train Accuracy: 0.9994\n"
     ]
    },
    {
     "name": "stderr",
     "output_type": "stream",
     "text": [
      "                                                           \r"
     ]
    },
    {
     "name": "stdout",
     "output_type": "stream",
     "text": [
      "Epoch 38/100, Avg Loss: 0.0090, Train Accuracy: 0.9994\n"
     ]
    },
    {
     "name": "stderr",
     "output_type": "stream",
     "text": [
      "                                                           \r"
     ]
    },
    {
     "name": "stdout",
     "output_type": "stream",
     "text": [
      "Epoch 39/100, Avg Loss: 0.0088, Train Accuracy: 0.9994\n"
     ]
    },
    {
     "name": "stderr",
     "output_type": "stream",
     "text": [
      "                                                           \r"
     ]
    },
    {
     "name": "stdout",
     "output_type": "stream",
     "text": [
      "Epoch 40/100, Avg Loss: 0.0085, Train Accuracy: 0.9995\n"
     ]
    },
    {
     "name": "stderr",
     "output_type": "stream",
     "text": [
      "                                                           \r"
     ]
    },
    {
     "name": "stdout",
     "output_type": "stream",
     "text": [
      "Epoch 41/100, Avg Loss: 0.0083, Train Accuracy: 0.9995\n"
     ]
    },
    {
     "name": "stderr",
     "output_type": "stream",
     "text": [
      "                                                           \r"
     ]
    },
    {
     "name": "stdout",
     "output_type": "stream",
     "text": [
      "Epoch 42/100, Avg Loss: 0.0081, Train Accuracy: 0.9995\n"
     ]
    },
    {
     "name": "stderr",
     "output_type": "stream",
     "text": [
      "                                                           \r"
     ]
    },
    {
     "name": "stdout",
     "output_type": "stream",
     "text": [
      "Epoch 43/100, Avg Loss: 0.0079, Train Accuracy: 0.9995\n"
     ]
    },
    {
     "name": "stderr",
     "output_type": "stream",
     "text": [
      "                                                           \r"
     ]
    },
    {
     "name": "stdout",
     "output_type": "stream",
     "text": [
      "Epoch 44/100, Avg Loss: 0.0078, Train Accuracy: 0.9995\n"
     ]
    },
    {
     "name": "stderr",
     "output_type": "stream",
     "text": [
      "                                                           \r"
     ]
    },
    {
     "name": "stdout",
     "output_type": "stream",
     "text": [
      "Epoch 45/100, Avg Loss: 0.0076, Train Accuracy: 0.9995\n"
     ]
    },
    {
     "name": "stderr",
     "output_type": "stream",
     "text": [
      "                                                           \r"
     ]
    },
    {
     "name": "stdout",
     "output_type": "stream",
     "text": [
      "Epoch 46/100, Avg Loss: 0.0074, Train Accuracy: 0.9995\n"
     ]
    },
    {
     "name": "stderr",
     "output_type": "stream",
     "text": [
      "                                                           \r"
     ]
    },
    {
     "name": "stdout",
     "output_type": "stream",
     "text": [
      "Epoch 47/100, Avg Loss: 0.0073, Train Accuracy: 0.9995\n"
     ]
    },
    {
     "name": "stderr",
     "output_type": "stream",
     "text": [
      "                                                           \r"
     ]
    },
    {
     "name": "stdout",
     "output_type": "stream",
     "text": [
      "Epoch 48/100, Avg Loss: 0.0072, Train Accuracy: 0.9995\n"
     ]
    },
    {
     "name": "stderr",
     "output_type": "stream",
     "text": [
      "                                                           \r"
     ]
    },
    {
     "name": "stdout",
     "output_type": "stream",
     "text": [
      "Epoch 49/100, Avg Loss: 0.0071, Train Accuracy: 0.9995\n"
     ]
    },
    {
     "name": "stderr",
     "output_type": "stream",
     "text": [
      "                                                           \r"
     ]
    },
    {
     "name": "stdout",
     "output_type": "stream",
     "text": [
      "Epoch 50/100, Avg Loss: 0.0070, Train Accuracy: 0.9995\n"
     ]
    },
    {
     "name": "stderr",
     "output_type": "stream",
     "text": [
      "                                                           \r"
     ]
    },
    {
     "name": "stdout",
     "output_type": "stream",
     "text": [
      "Epoch 51/100, Avg Loss: 0.0068, Train Accuracy: 0.9995\n"
     ]
    },
    {
     "name": "stderr",
     "output_type": "stream",
     "text": [
      "                                                           \r"
     ]
    },
    {
     "name": "stdout",
     "output_type": "stream",
     "text": [
      "Epoch 52/100, Avg Loss: 0.0067, Train Accuracy: 0.9995\n"
     ]
    },
    {
     "name": "stderr",
     "output_type": "stream",
     "text": [
      "                                                           \r"
     ]
    },
    {
     "name": "stdout",
     "output_type": "stream",
     "text": [
      "Epoch 53/100, Avg Loss: 0.0066, Train Accuracy: 0.9995\n"
     ]
    },
    {
     "name": "stderr",
     "output_type": "stream",
     "text": [
      "                                                           \r"
     ]
    },
    {
     "name": "stdout",
     "output_type": "stream",
     "text": [
      "Epoch 54/100, Avg Loss: 0.0065, Train Accuracy: 0.9995\n"
     ]
    },
    {
     "name": "stderr",
     "output_type": "stream",
     "text": [
      "                                                           \r"
     ]
    },
    {
     "name": "stdout",
     "output_type": "stream",
     "text": [
      "Epoch 55/100, Avg Loss: 0.0065, Train Accuracy: 0.9995\n"
     ]
    },
    {
     "name": "stderr",
     "output_type": "stream",
     "text": [
      "                                                           \r"
     ]
    },
    {
     "name": "stdout",
     "output_type": "stream",
     "text": [
      "Epoch 56/100, Avg Loss: 0.0064, Train Accuracy: 0.9995\n"
     ]
    },
    {
     "name": "stderr",
     "output_type": "stream",
     "text": [
      "                                                           \r"
     ]
    },
    {
     "name": "stdout",
     "output_type": "stream",
     "text": [
      "Epoch 57/100, Avg Loss: 0.0063, Train Accuracy: 0.9995\n"
     ]
    },
    {
     "name": "stderr",
     "output_type": "stream",
     "text": [
      "                                                           \r"
     ]
    },
    {
     "name": "stdout",
     "output_type": "stream",
     "text": [
      "Epoch 58/100, Avg Loss: 0.0062, Train Accuracy: 0.9995\n"
     ]
    },
    {
     "name": "stderr",
     "output_type": "stream",
     "text": [
      "                                                           \r"
     ]
    },
    {
     "name": "stdout",
     "output_type": "stream",
     "text": [
      "Epoch 59/100, Avg Loss: 0.0061, Train Accuracy: 0.9995\n"
     ]
    },
    {
     "name": "stderr",
     "output_type": "stream",
     "text": [
      "                                                           \r"
     ]
    },
    {
     "name": "stdout",
     "output_type": "stream",
     "text": [
      "Epoch 60/100, Avg Loss: 0.0060, Train Accuracy: 0.9995\n"
     ]
    },
    {
     "name": "stderr",
     "output_type": "stream",
     "text": [
      "                                                           \r"
     ]
    },
    {
     "name": "stdout",
     "output_type": "stream",
     "text": [
      "Epoch 61/100, Avg Loss: 0.0059, Train Accuracy: 0.9995\n"
     ]
    },
    {
     "name": "stderr",
     "output_type": "stream",
     "text": [
      "                                                           \r"
     ]
    },
    {
     "name": "stdout",
     "output_type": "stream",
     "text": [
      "Epoch 62/100, Avg Loss: 0.0059, Train Accuracy: 0.9995\n"
     ]
    },
    {
     "name": "stderr",
     "output_type": "stream",
     "text": [
      "                                                           \r"
     ]
    },
    {
     "name": "stdout",
     "output_type": "stream",
     "text": [
      "Epoch 63/100, Avg Loss: 0.0058, Train Accuracy: 0.9995\n"
     ]
    },
    {
     "name": "stderr",
     "output_type": "stream",
     "text": [
      "                                                           \r"
     ]
    },
    {
     "name": "stdout",
     "output_type": "stream",
     "text": [
      "Epoch 64/100, Avg Loss: 0.0057, Train Accuracy: 0.9995\n"
     ]
    },
    {
     "name": "stderr",
     "output_type": "stream",
     "text": [
      "                                                           \r"
     ]
    },
    {
     "name": "stdout",
     "output_type": "stream",
     "text": [
      "Epoch 65/100, Avg Loss: 0.0056, Train Accuracy: 0.9995\n"
     ]
    },
    {
     "name": "stderr",
     "output_type": "stream",
     "text": [
      "                                                           \r"
     ]
    },
    {
     "name": "stdout",
     "output_type": "stream",
     "text": [
      "Epoch 66/100, Avg Loss: 0.0055, Train Accuracy: 0.9995\n"
     ]
    },
    {
     "name": "stderr",
     "output_type": "stream",
     "text": [
      "                                                           \r"
     ]
    },
    {
     "name": "stdout",
     "output_type": "stream",
     "text": [
      "Epoch 67/100, Avg Loss: 0.0055, Train Accuracy: 0.9995\n"
     ]
    },
    {
     "name": "stderr",
     "output_type": "stream",
     "text": [
      "                                                           \r"
     ]
    },
    {
     "name": "stdout",
     "output_type": "stream",
     "text": [
      "Epoch 68/100, Avg Loss: 0.0054, Train Accuracy: 0.9995\n"
     ]
    },
    {
     "name": "stderr",
     "output_type": "stream",
     "text": [
      "                                                           \r"
     ]
    },
    {
     "name": "stdout",
     "output_type": "stream",
     "text": [
      "Epoch 69/100, Avg Loss: 0.0053, Train Accuracy: 0.9995\n"
     ]
    },
    {
     "name": "stderr",
     "output_type": "stream",
     "text": [
      "                                                           \r"
     ]
    },
    {
     "name": "stdout",
     "output_type": "stream",
     "text": [
      "Epoch 70/100, Avg Loss: 0.0052, Train Accuracy: 0.9995\n"
     ]
    },
    {
     "name": "stderr",
     "output_type": "stream",
     "text": [
      "                                                           \r"
     ]
    },
    {
     "name": "stdout",
     "output_type": "stream",
     "text": [
      "Epoch 71/100, Avg Loss: 0.0052, Train Accuracy: 0.9995\n"
     ]
    },
    {
     "name": "stderr",
     "output_type": "stream",
     "text": [
      "                                                           \r"
     ]
    },
    {
     "name": "stdout",
     "output_type": "stream",
     "text": [
      "Epoch 72/100, Avg Loss: 0.0051, Train Accuracy: 0.9995\n"
     ]
    },
    {
     "name": "stderr",
     "output_type": "stream",
     "text": [
      "                                                           \r"
     ]
    },
    {
     "name": "stdout",
     "output_type": "stream",
     "text": [
      "Epoch 73/100, Avg Loss: 0.0050, Train Accuracy: 0.9995\n"
     ]
    },
    {
     "name": "stderr",
     "output_type": "stream",
     "text": [
      "                                                           \r"
     ]
    },
    {
     "name": "stdout",
     "output_type": "stream",
     "text": [
      "Epoch 74/100, Avg Loss: 0.0049, Train Accuracy: 0.9995\n"
     ]
    },
    {
     "name": "stderr",
     "output_type": "stream",
     "text": [
      "                                                           \r"
     ]
    },
    {
     "name": "stdout",
     "output_type": "stream",
     "text": [
      "Epoch 75/100, Avg Loss: 0.0048, Train Accuracy: 0.9996\n"
     ]
    },
    {
     "name": "stderr",
     "output_type": "stream",
     "text": [
      "                                                           \r"
     ]
    },
    {
     "name": "stdout",
     "output_type": "stream",
     "text": [
      "Epoch 76/100, Avg Loss: 0.0048, Train Accuracy: 0.9996\n"
     ]
    },
    {
     "name": "stderr",
     "output_type": "stream",
     "text": [
      "                                                           \r"
     ]
    },
    {
     "name": "stdout",
     "output_type": "stream",
     "text": [
      "Epoch 77/100, Avg Loss: 0.0047, Train Accuracy: 0.9996\n"
     ]
    },
    {
     "name": "stderr",
     "output_type": "stream",
     "text": [
      "                                                           \r"
     ]
    },
    {
     "name": "stdout",
     "output_type": "stream",
     "text": [
      "Epoch 78/100, Avg Loss: 0.0046, Train Accuracy: 0.9996\n"
     ]
    },
    {
     "name": "stderr",
     "output_type": "stream",
     "text": [
      "                                                           \r"
     ]
    },
    {
     "name": "stdout",
     "output_type": "stream",
     "text": [
      "Epoch 79/100, Avg Loss: 0.0045, Train Accuracy: 0.9996\n"
     ]
    },
    {
     "name": "stderr",
     "output_type": "stream",
     "text": [
      "                                                           \r"
     ]
    },
    {
     "name": "stdout",
     "output_type": "stream",
     "text": [
      "Epoch 80/100, Avg Loss: 0.0045, Train Accuracy: 0.9996\n"
     ]
    },
    {
     "name": "stderr",
     "output_type": "stream",
     "text": [
      "                                                           \r"
     ]
    },
    {
     "name": "stdout",
     "output_type": "stream",
     "text": [
      "Epoch 81/100, Avg Loss: 0.0044, Train Accuracy: 0.9996\n"
     ]
    },
    {
     "name": "stderr",
     "output_type": "stream",
     "text": [
      "                                                           \r"
     ]
    },
    {
     "name": "stdout",
     "output_type": "stream",
     "text": [
      "Epoch 82/100, Avg Loss: 0.0043, Train Accuracy: 0.9996\n"
     ]
    },
    {
     "name": "stderr",
     "output_type": "stream",
     "text": [
      "                                                           \r"
     ]
    },
    {
     "name": "stdout",
     "output_type": "stream",
     "text": [
      "Epoch 83/100, Avg Loss: 0.0042, Train Accuracy: 0.9996\n"
     ]
    },
    {
     "name": "stderr",
     "output_type": "stream",
     "text": [
      "                                                           \r"
     ]
    },
    {
     "name": "stdout",
     "output_type": "stream",
     "text": [
      "Epoch 84/100, Avg Loss: 0.0041, Train Accuracy: 0.9996\n"
     ]
    },
    {
     "name": "stderr",
     "output_type": "stream",
     "text": [
      "                                                           \r"
     ]
    },
    {
     "name": "stdout",
     "output_type": "stream",
     "text": [
      "Epoch 85/100, Avg Loss: 0.0041, Train Accuracy: 0.9996\n"
     ]
    },
    {
     "name": "stderr",
     "output_type": "stream",
     "text": [
      "                                                           \r"
     ]
    },
    {
     "name": "stdout",
     "output_type": "stream",
     "text": [
      "Epoch 86/100, Avg Loss: 0.0040, Train Accuracy: 0.9996\n"
     ]
    },
    {
     "name": "stderr",
     "output_type": "stream",
     "text": [
      "                                                           \r"
     ]
    },
    {
     "name": "stdout",
     "output_type": "stream",
     "text": [
      "Epoch 87/100, Avg Loss: 0.0039, Train Accuracy: 0.9996\n"
     ]
    },
    {
     "name": "stderr",
     "output_type": "stream",
     "text": [
      "                                                           \r"
     ]
    },
    {
     "name": "stdout",
     "output_type": "stream",
     "text": [
      "Epoch 88/100, Avg Loss: 0.0038, Train Accuracy: 0.9996\n"
     ]
    },
    {
     "name": "stderr",
     "output_type": "stream",
     "text": [
      "                                                           \r"
     ]
    },
    {
     "name": "stdout",
     "output_type": "stream",
     "text": [
      "Epoch 89/100, Avg Loss: 0.0038, Train Accuracy: 0.9996\n"
     ]
    },
    {
     "name": "stderr",
     "output_type": "stream",
     "text": [
      "                                                           \r"
     ]
    },
    {
     "name": "stdout",
     "output_type": "stream",
     "text": [
      "Epoch 90/100, Avg Loss: 0.0037, Train Accuracy: 0.9996\n"
     ]
    },
    {
     "name": "stderr",
     "output_type": "stream",
     "text": [
      "                                                           \r"
     ]
    },
    {
     "name": "stdout",
     "output_type": "stream",
     "text": [
      "Epoch 91/100, Avg Loss: 0.0036, Train Accuracy: 0.9996\n"
     ]
    },
    {
     "name": "stderr",
     "output_type": "stream",
     "text": [
      "                                                           \r"
     ]
    },
    {
     "name": "stdout",
     "output_type": "stream",
     "text": [
      "Epoch 92/100, Avg Loss: 0.0035, Train Accuracy: 0.9996\n"
     ]
    },
    {
     "name": "stderr",
     "output_type": "stream",
     "text": [
      "                                                           \r"
     ]
    },
    {
     "name": "stdout",
     "output_type": "stream",
     "text": [
      "Epoch 93/100, Avg Loss: 0.0035, Train Accuracy: 0.9996\n"
     ]
    },
    {
     "name": "stderr",
     "output_type": "stream",
     "text": [
      "                                                           \r"
     ]
    },
    {
     "name": "stdout",
     "output_type": "stream",
     "text": [
      "Epoch 94/100, Avg Loss: 0.0034, Train Accuracy: 0.9996\n"
     ]
    },
    {
     "name": "stderr",
     "output_type": "stream",
     "text": [
      "                                                           \r"
     ]
    },
    {
     "name": "stdout",
     "output_type": "stream",
     "text": [
      "Epoch 95/100, Avg Loss: 0.0033, Train Accuracy: 0.9996\n"
     ]
    },
    {
     "name": "stderr",
     "output_type": "stream",
     "text": [
      "                                                           \r"
     ]
    },
    {
     "name": "stdout",
     "output_type": "stream",
     "text": [
      "Epoch 96/100, Avg Loss: 0.0033, Train Accuracy: 0.9996\n"
     ]
    },
    {
     "name": "stderr",
     "output_type": "stream",
     "text": [
      "                                                           \r"
     ]
    },
    {
     "name": "stdout",
     "output_type": "stream",
     "text": [
      "Epoch 97/100, Avg Loss: 0.0032, Train Accuracy: 0.9996\n"
     ]
    },
    {
     "name": "stderr",
     "output_type": "stream",
     "text": [
      "                                                           \r"
     ]
    },
    {
     "name": "stdout",
     "output_type": "stream",
     "text": [
      "Epoch 98/100, Avg Loss: 0.0031, Train Accuracy: 0.9996\n"
     ]
    },
    {
     "name": "stderr",
     "output_type": "stream",
     "text": [
      "                                                           \r"
     ]
    },
    {
     "name": "stdout",
     "output_type": "stream",
     "text": [
      "Epoch 99/100, Avg Loss: 0.0031, Train Accuracy: 0.9996\n"
     ]
    },
    {
     "name": "stderr",
     "output_type": "stream",
     "text": [
      "                                                            "
     ]
    },
    {
     "name": "stdout",
     "output_type": "stream",
     "text": [
      "Epoch 100/100, Avg Loss: 0.0030, Train Accuracy: 0.9997\n",
      "Training complete!\n"
     ]
    },
    {
     "name": "stderr",
     "output_type": "stream",
     "text": [
      "\r"
     ]
    }
   ],
   "source": [
    "# Train the Model\n",
    "epochs = 100\n",
    "loss_list, acc_list = [], []\n",
    "\n",
    "for epoch in range(epochs):\n",
    "    model.train()\n",
    "    total_loss, correct, total = 0, 0, 0\n",
    "\n",
    "    train_loader_tqdm = tqdm(train_loader, desc=f\"Epoch {epoch+1}/{epochs}\", leave=False)\n",
    "    \n",
    "    for batch in train_loader_tqdm:\n",
    "        batch = batch.to(device)\n",
    "        optimizer.zero_grad()\n",
    "        outputs = model(batch.x, batch.edge_index, batch.edge_attr)\n",
    "        loss = criterion(outputs, batch.y)\n",
    "        loss.backward()\n",
    "        optimizer.step()\n",
    "\n",
    "        total_loss += loss.item()\n",
    "        _, predicted = torch.max(outputs, dim=1)\n",
    "        correct += (predicted == batch.y).sum().item()\n",
    "        total += batch.y.size(0)\n",
    "\n",
    "    avg_loss = total_loss / len(train_loader)\n",
    "    train_accuracy = correct / total\n",
    "    loss_list.append(avg_loss)\n",
    "    acc_list.append(train_accuracy)\n",
    "    print(f\"Epoch {epoch+1}/{epochs}, Avg Loss: {avg_loss:.4f}, Train Accuracy: {train_accuracy:.4f}\")\n",
    "\n",
    "print(\"Training complete!\")\n"
   ]
  },
  {
   "cell_type": "markdown",
   "id": "f5a1bf4d-c676-42fd-a63d-55bdfe8b21f6",
   "metadata": {},
   "source": [
    "### Train/Validation Accuracy and Loss"
   ]
  },
  {
   "cell_type": "code",
   "execution_count": 24,
   "id": "9e7fafcc",
   "metadata": {},
   "outputs": [
    {
     "data": {
      "image/png": "[encoded data removed]",
      "text/plain": [
       "<Figure size 1400x600 with 2 Axes>"
      ]
     },
     "metadata": {},
     "output_type": "display_data"
    }
   ],
   "source": [
    "import matplotlib.pyplot as plt\n",
    "# Plot loss and accuracy for both training and validation\n",
    "plt.figure(figsize=(14, 6))\n",
    "\n",
    "# Loss plot\n",
    "plt.subplot(1, 2, 1)\n",
    "plt.plot(range(epochs), loss_list, label=\"Train Loss\", color=\"red\")\n",
    "plt.xlabel(\"Epochs\")\n",
    "plt.ylabel(\"Loss\")\n",
    "plt.title(\"Loss over Epochs\")\n",
    "plt.grid(True)\n",
    "plt.legend()\n",
    "\n",
    "# Accuracy plot\n",
    "plt.subplot(1, 2, 2)\n",
    "plt.plot(range(epochs), acc_list, label=\"Train Accuracy\", color=\"blue\")\n",
    "plt.xlabel(\"Epochs\")\n",
    "plt.ylabel(\"Accuracy\")\n",
    "plt.title(\"SAGE - Accuracy over Epochs\")\n",
    "plt.grid(True)\n",
    "plt.legend()\n",
    "\n",
    "plt.tight_layout()\n",
    "plt.show()\n"
   ]
  },
  {
   "cell_type": "code",
   "execution_count": 25,
   "id": "9ae75100-2875-4864-b23b-ab5d8011aca8",
   "metadata": {},
   "outputs": [],
   "source": [
    "sage_loss_list = loss_list.copy()\n",
    "sage_acc_list = acc_list.copy()"
   ]
  },
  {
   "cell_type": "markdown",
   "id": "f12af390-d71c-4e43-b540-632e48af2f71",
   "metadata": {},
   "source": [
    "### Test Evaluation"
   ]
  },
  {
   "cell_type": "code",
   "execution_count": 27,
   "id": "a9575e2a-38d0-4592-b87b-26ee0a1ba7b3",
   "metadata": {},
   "outputs": [
    {
     "name": "stdout",
     "output_type": "stream",
     "text": [
      "Test Accuracy: 0.9997\n",
      "\n",
      "Classification Report:\n",
      "              precision    recall  f1-score   support\n",
      "\n",
      "      Benign     0.0957    0.9091    0.1732        22\n",
      "      Attack     1.0000    0.9997    0.9998    548918\n",
      "\n",
      "    accuracy                         0.9997    548940\n",
      "   macro avg     0.5478    0.9544    0.5865    548940\n",
      "weighted avg     1.0000    0.9997    0.9998    548940\n",
      "\n"
     ]
    }
   ],
   "source": [
    "from sklearn.metrics import classification_report\n",
    "\n",
    "model.eval()\n",
    "correct, total = 0, 0\n",
    "all_predictions = []\n",
    "all_targets = []\n",
    "\n",
    "with torch.no_grad():\n",
    "    for batch in test_loader:\n",
    "        batch = batch.to(device)\n",
    "        outputs = model(batch.x, batch.edge_index, batch.edge_attr)\n",
    "        _, predicted = torch.max(outputs, 1)\n",
    "        correct += (predicted == batch.y).sum().item()\n",
    "        total += batch.y.size(0)\n",
    "\n",
    "        # Store for classification report\n",
    "        all_predictions.extend(predicted.cpu().numpy())\n",
    "        all_targets.extend(batch.y.cpu().numpy())\n",
    "target_names = [\"Benign\", \"Attack\"]\n",
    "test_accuracy = correct / total\n",
    "print(f\"Test Accuracy: {test_accuracy:.4f}\")\n",
    "\n",
    "# Print Classification Report\n",
    "print(\"\\nClassification Report:\")\n",
    "print(classification_report(all_targets, all_predictions,  target_names= target_names, digits=4))"
   ]
  },
  {
   "cell_type": "code",
   "execution_count": 28,
   "id": "b1944db6-f3a4-4da8-98a0-37e238c797b7",
   "metadata": {},
   "outputs": [],
   "source": [
    "import torch\n",
    "import gc\n",
    "\n",
    "# Free up GPU memory\n",
    "gc.collect()\n",
    "torch.cuda.empty_cache()"
   ]
  },
  {
   "cell_type": "markdown",
   "id": "58b3e9a4-30dd-4da7-ba38-16ac7cff2847",
   "metadata": {},
   "source": [
    "## GAT"
   ]
  },
  {
   "cell_type": "code",
   "execution_count": 29,
   "id": "54b3734c-fc98-45d7-819f-ea581228d094",
   "metadata": {},
   "outputs": [],
   "source": [
    "# Model, Optimizer, Loss\n",
    "device = torch.device('cuda' if torch.cuda.is_available() else 'cpu')\n",
    "gnn_type = \"GAT\"\n",
    "\n",
    "# Create Model\n",
    "model = EdgeGNN(\n",
    "    in_channels=embedding_dim,\n",
    "    hidden_channels=32,\n",
    "    out_channels=len(labels.unique()),\n",
    "    gnn_type=gnn_type\n",
    ").to(device)\n",
    "\n",
    "optimizer = torch.optim.Adam(model.parameters(), lr=0.003)\n",
    "\n",
    "class_counts = torch.bincount(labels)  # Count occurrences of each class\n",
    "class_weights = 1.0 / class_counts.float()  # Inverse of frequency\n",
    "class_weights = class_weights / class_weights.sum()  # Normalize\n",
    "class_weights = class_weights.to(device)  # Move to GPU if needed\n",
    "criterion = torch.nn.CrossEntropyLoss(weight=class_weights)"
   ]
  },
  {
   "cell_type": "code",
   "execution_count": 30,
   "id": "a3447be4-2eda-4841-96af-12945e365db8",
   "metadata": {
    "scrolled": true
   },
   "outputs": [
    {
     "name": "stderr",
     "output_type": "stream",
     "text": [
      "                                                                      \r"
     ]
    },
    {
     "name": "stdout",
     "output_type": "stream",
     "text": [
      "Epoch 1/100, Avg Loss: 0.3975, Train Accuracy: 0.6456\n"
     ]
    },
    {
     "name": "stderr",
     "output_type": "stream",
     "text": [
      "                                                                      \r"
     ]
    },
    {
     "name": "stdout",
     "output_type": "stream",
     "text": [
      "Epoch 2/100, Avg Loss: 0.3660, Train Accuracy: 0.7805\n"
     ]
    },
    {
     "name": "stderr",
     "output_type": "stream",
     "text": [
      "                                                                      \r"
     ]
    },
    {
     "name": "stdout",
     "output_type": "stream",
     "text": [
      "Epoch 3/100, Avg Loss: 0.3440, Train Accuracy: 0.8531\n"
     ]
    },
    {
     "name": "stderr",
     "output_type": "stream",
     "text": [
      "                                                                      \r"
     ]
    },
    {
     "name": "stdout",
     "output_type": "stream",
     "text": [
      "Epoch 4/100, Avg Loss: 0.3248, Train Accuracy: 0.8877\n"
     ]
    },
    {
     "name": "stderr",
     "output_type": "stream",
     "text": [
      "                                                                      \r"
     ]
    },
    {
     "name": "stdout",
     "output_type": "stream",
     "text": [
      "Epoch 5/100, Avg Loss: 0.3066, Train Accuracy: 0.9067\n"
     ]
    },
    {
     "name": "stderr",
     "output_type": "stream",
     "text": [
      "                                                                      \r"
     ]
    },
    {
     "name": "stdout",
     "output_type": "stream",
     "text": [
      "Epoch 6/100, Avg Loss: 0.2875, Train Accuracy: 0.9275\n"
     ]
    },
    {
     "name": "stderr",
     "output_type": "stream",
     "text": [
      "                                                                      \r"
     ]
    },
    {
     "name": "stdout",
     "output_type": "stream",
     "text": [
      "Epoch 7/100, Avg Loss: 0.2668, Train Accuracy: 0.9484\n"
     ]
    },
    {
     "name": "stderr",
     "output_type": "stream",
     "text": [
      "                                                                      \r"
     ]
    },
    {
     "name": "stdout",
     "output_type": "stream",
     "text": [
      "Epoch 8/100, Avg Loss: 0.2442, Train Accuracy: 0.9665\n"
     ]
    },
    {
     "name": "stderr",
     "output_type": "stream",
     "text": [
      "                                                                     \r"
     ]
    },
    {
     "name": "stdout",
     "output_type": "stream",
     "text": [
      "Epoch 9/100, Avg Loss: 0.2196, Train Accuracy: 0.9812\n"
     ]
    },
    {
     "name": "stderr",
     "output_type": "stream",
     "text": [
      "                                                                       \r"
     ]
    },
    {
     "name": "stdout",
     "output_type": "stream",
     "text": [
      "Epoch 10/100, Avg Loss: 0.1931, Train Accuracy: 0.9895\n"
     ]
    },
    {
     "name": "stderr",
     "output_type": "stream",
     "text": [
      "                                                                       \r"
     ]
    },
    {
     "name": "stdout",
     "output_type": "stream",
     "text": [
      "Epoch 11/100, Avg Loss: 0.1654, Train Accuracy: 0.9932\n"
     ]
    },
    {
     "name": "stderr",
     "output_type": "stream",
     "text": [
      "                                                                       \r"
     ]
    },
    {
     "name": "stdout",
     "output_type": "stream",
     "text": [
      "Epoch 12/100, Avg Loss: 0.1374, Train Accuracy: 0.9950\n"
     ]
    },
    {
     "name": "stderr",
     "output_type": "stream",
     "text": [
      "                                                                      \r"
     ]
    },
    {
     "name": "stdout",
     "output_type": "stream",
     "text": [
      "Epoch 13/100, Avg Loss: 0.1102, Train Accuracy: 0.9962\n"
     ]
    },
    {
     "name": "stderr",
     "output_type": "stream",
     "text": [
      "                                                                        \r"
     ]
    },
    {
     "name": "stdout",
     "output_type": "stream",
     "text": [
      "Epoch 14/100, Avg Loss: 0.0852, Train Accuracy: 0.9973\n"
     ]
    },
    {
     "name": "stderr",
     "output_type": "stream",
     "text": [
      "                                                                        \r"
     ]
    },
    {
     "name": "stdout",
     "output_type": "stream",
     "text": [
      "Epoch 15/100, Avg Loss: 0.0635, Train Accuracy: 0.9981\n"
     ]
    },
    {
     "name": "stderr",
     "output_type": "stream",
     "text": [
      "                                                                        \r"
     ]
    },
    {
     "name": "stdout",
     "output_type": "stream",
     "text": [
      "Epoch 16/100, Avg Loss: 0.0459, Train Accuracy: 0.9987\n"
     ]
    },
    {
     "name": "stderr",
     "output_type": "stream",
     "text": [
      "                                                                        \r"
     ]
    },
    {
     "name": "stdout",
     "output_type": "stream",
     "text": [
      "Epoch 17/100, Avg Loss: 0.0328, Train Accuracy: 0.9991\n"
     ]
    },
    {
     "name": "stderr",
     "output_type": "stream",
     "text": [
      "                                                                        \r"
     ]
    },
    {
     "name": "stdout",
     "output_type": "stream",
     "text": [
      "Epoch 18/100, Avg Loss: 0.0237, Train Accuracy: 0.9993\n"
     ]
    },
    {
     "name": "stderr",
     "output_type": "stream",
     "text": [
      "                                                                        \r"
     ]
    },
    {
     "name": "stdout",
     "output_type": "stream",
     "text": [
      "Epoch 19/100, Avg Loss: 0.0177, Train Accuracy: 0.9994\n"
     ]
    },
    {
     "name": "stderr",
     "output_type": "stream",
     "text": [
      "                                                                       \r"
     ]
    },
    {
     "name": "stdout",
     "output_type": "stream",
     "text": [
      "Epoch 20/100, Avg Loss: 0.0140, Train Accuracy: 0.9995\n"
     ]
    },
    {
     "name": "stderr",
     "output_type": "stream",
     "text": [
      "                                                                        \r"
     ]
    },
    {
     "name": "stdout",
     "output_type": "stream",
     "text": [
      "Epoch 21/100, Avg Loss: 0.0118, Train Accuracy: 0.9995\n"
     ]
    },
    {
     "name": "stderr",
     "output_type": "stream",
     "text": [
      "                                                                        \r"
     ]
    },
    {
     "name": "stdout",
     "output_type": "stream",
     "text": [
      "Epoch 22/100, Avg Loss: 0.0107, Train Accuracy: 0.9996\n"
     ]
    },
    {
     "name": "stderr",
     "output_type": "stream",
     "text": [
      "                                                                        \r"
     ]
    },
    {
     "name": "stdout",
     "output_type": "stream",
     "text": [
      "Epoch 23/100, Avg Loss: 0.0101, Train Accuracy: 0.9997\n"
     ]
    },
    {
     "name": "stderr",
     "output_type": "stream",
     "text": [
      "                                                                         \r"
     ]
    },
    {
     "name": "stdout",
     "output_type": "stream",
     "text": [
      "Epoch 24/100, Avg Loss: 0.0097, Train Accuracy: 0.9997\n"
     ]
    },
    {
     "name": "stderr",
     "output_type": "stream",
     "text": [
      "                                                                         \r"
     ]
    },
    {
     "name": "stdout",
     "output_type": "stream",
     "text": [
      "Epoch 25/100, Avg Loss: 0.0092, Train Accuracy: 0.9997\n"
     ]
    },
    {
     "name": "stderr",
     "output_type": "stream",
     "text": [
      "                                                                         \r"
     ]
    },
    {
     "name": "stdout",
     "output_type": "stream",
     "text": [
      "Epoch 26/100, Avg Loss: 0.0087, Train Accuracy: 0.9997\n"
     ]
    },
    {
     "name": "stderr",
     "output_type": "stream",
     "text": [
      "                                                                         \r"
     ]
    },
    {
     "name": "stdout",
     "output_type": "stream",
     "text": [
      "Epoch 27/100, Avg Loss: 0.0080, Train Accuracy: 0.9997\n"
     ]
    },
    {
     "name": "stderr",
     "output_type": "stream",
     "text": [
      "                                                                         \r"
     ]
    },
    {
     "name": "stdout",
     "output_type": "stream",
     "text": [
      "Epoch 28/100, Avg Loss: 0.0073, Train Accuracy: 0.9997\n"
     ]
    },
    {
     "name": "stderr",
     "output_type": "stream",
     "text": [
      "                                                                         \r"
     ]
    },
    {
     "name": "stdout",
     "output_type": "stream",
     "text": [
      "Epoch 29/100, Avg Loss: 0.0067, Train Accuracy: 0.9997\n"
     ]
    },
    {
     "name": "stderr",
     "output_type": "stream",
     "text": [
      "                                                                         \r"
     ]
    },
    {
     "name": "stdout",
     "output_type": "stream",
     "text": [
      "Epoch 30/100, Avg Loss: 0.0061, Train Accuracy: 0.9997\n"
     ]
    },
    {
     "name": "stderr",
     "output_type": "stream",
     "text": [
      "                                                                         \r"
     ]
    },
    {
     "name": "stdout",
     "output_type": "stream",
     "text": [
      "Epoch 31/100, Avg Loss: 0.0056, Train Accuracy: 0.9997\n"
     ]
    },
    {
     "name": "stderr",
     "output_type": "stream",
     "text": [
      "                                                                         \r"
     ]
    },
    {
     "name": "stdout",
     "output_type": "stream",
     "text": [
      "Epoch 32/100, Avg Loss: 0.0053, Train Accuracy: 0.9997\n"
     ]
    },
    {
     "name": "stderr",
     "output_type": "stream",
     "text": [
      "                                                                         \r"
     ]
    },
    {
     "name": "stdout",
     "output_type": "stream",
     "text": [
      "Epoch 33/100, Avg Loss: 0.0050, Train Accuracy: 0.9997\n"
     ]
    },
    {
     "name": "stderr",
     "output_type": "stream",
     "text": [
      "                                                                         \r"
     ]
    },
    {
     "name": "stdout",
     "output_type": "stream",
     "text": [
      "Epoch 34/100, Avg Loss: 0.0048, Train Accuracy: 0.9997\n"
     ]
    },
    {
     "name": "stderr",
     "output_type": "stream",
     "text": [
      "                                                                         \r"
     ]
    },
    {
     "name": "stdout",
     "output_type": "stream",
     "text": [
      "Epoch 35/100, Avg Loss: 0.0046, Train Accuracy: 0.9997\n"
     ]
    },
    {
     "name": "stderr",
     "output_type": "stream",
     "text": [
      "                                                                         \r"
     ]
    },
    {
     "name": "stdout",
     "output_type": "stream",
     "text": [
      "Epoch 36/100, Avg Loss: 0.0045, Train Accuracy: 0.9997\n"
     ]
    },
    {
     "name": "stderr",
     "output_type": "stream",
     "text": [
      "                                                                         \r"
     ]
    },
    {
     "name": "stdout",
     "output_type": "stream",
     "text": [
      "Epoch 37/100, Avg Loss: 0.0044, Train Accuracy: 0.9997\n"
     ]
    },
    {
     "name": "stderr",
     "output_type": "stream",
     "text": [
      "                                                                         \r"
     ]
    },
    {
     "name": "stdout",
     "output_type": "stream",
     "text": [
      "Epoch 38/100, Avg Loss: 0.0043, Train Accuracy: 0.9997\n"
     ]
    },
    {
     "name": "stderr",
     "output_type": "stream",
     "text": [
      "                                                                         \r"
     ]
    },
    {
     "name": "stdout",
     "output_type": "stream",
     "text": [
      "Epoch 39/100, Avg Loss: 0.0042, Train Accuracy: 0.9997\n"
     ]
    },
    {
     "name": "stderr",
     "output_type": "stream",
     "text": [
      "                                                                         \r"
     ]
    },
    {
     "name": "stdout",
     "output_type": "stream",
     "text": [
      "Epoch 40/100, Avg Loss: 0.0041, Train Accuracy: 0.9997\n"
     ]
    },
    {
     "name": "stderr",
     "output_type": "stream",
     "text": [
      "                                                                         \r"
     ]
    },
    {
     "name": "stdout",
     "output_type": "stream",
     "text": [
      "Epoch 41/100, Avg Loss: 0.0041, Train Accuracy: 0.9997\n"
     ]
    },
    {
     "name": "stderr",
     "output_type": "stream",
     "text": [
      "                                                                         \r"
     ]
    },
    {
     "name": "stdout",
     "output_type": "stream",
     "text": [
      "Epoch 42/100, Avg Loss: 0.0040, Train Accuracy: 0.9997\n"
     ]
    },
    {
     "name": "stderr",
     "output_type": "stream",
     "text": [
      "                                                                         \r"
     ]
    },
    {
     "name": "stdout",
     "output_type": "stream",
     "text": [
      "Epoch 43/100, Avg Loss: 0.0040, Train Accuracy: 0.9997\n"
     ]
    },
    {
     "name": "stderr",
     "output_type": "stream",
     "text": [
      "                                                                         \r"
     ]
    },
    {
     "name": "stdout",
     "output_type": "stream",
     "text": [
      "Epoch 44/100, Avg Loss: 0.0039, Train Accuracy: 0.9997\n"
     ]
    },
    {
     "name": "stderr",
     "output_type": "stream",
     "text": [
      "                                                                        \r"
     ]
    },
    {
     "name": "stdout",
     "output_type": "stream",
     "text": [
      "Epoch 45/100, Avg Loss: 0.0039, Train Accuracy: 0.9997\n"
     ]
    },
    {
     "name": "stderr",
     "output_type": "stream",
     "text": [
      "                                                                         \r"
     ]
    },
    {
     "name": "stdout",
     "output_type": "stream",
     "text": [
      "Epoch 46/100, Avg Loss: 0.0039, Train Accuracy: 0.9997\n"
     ]
    },
    {
     "name": "stderr",
     "output_type": "stream",
     "text": [
      "                                                                         \r"
     ]
    },
    {
     "name": "stdout",
     "output_type": "stream",
     "text": [
      "Epoch 47/100, Avg Loss: 0.0038, Train Accuracy: 0.9997\n"
     ]
    },
    {
     "name": "stderr",
     "output_type": "stream",
     "text": [
      "                                                                         \r"
     ]
    },
    {
     "name": "stdout",
     "output_type": "stream",
     "text": [
      "Epoch 48/100, Avg Loss: 0.0038, Train Accuracy: 0.9997\n"
     ]
    },
    {
     "name": "stderr",
     "output_type": "stream",
     "text": [
      "                                                                         \r"
     ]
    },
    {
     "name": "stdout",
     "output_type": "stream",
     "text": [
      "Epoch 49/100, Avg Loss: 0.0037, Train Accuracy: 0.9997\n"
     ]
    },
    {
     "name": "stderr",
     "output_type": "stream",
     "text": [
      "                                                                         \r"
     ]
    },
    {
     "name": "stdout",
     "output_type": "stream",
     "text": [
      "Epoch 50/100, Avg Loss: 0.0037, Train Accuracy: 0.9997\n"
     ]
    },
    {
     "name": "stderr",
     "output_type": "stream",
     "text": [
      "                                                                         \r"
     ]
    },
    {
     "name": "stdout",
     "output_type": "stream",
     "text": [
      "Epoch 51/100, Avg Loss: 0.0036, Train Accuracy: 0.9997\n"
     ]
    },
    {
     "name": "stderr",
     "output_type": "stream",
     "text": [
      "                                                                         \r"
     ]
    },
    {
     "name": "stdout",
     "output_type": "stream",
     "text": [
      "Epoch 52/100, Avg Loss: 0.0036, Train Accuracy: 0.9998\n"
     ]
    },
    {
     "name": "stderr",
     "output_type": "stream",
     "text": [
      "                                                                         \r"
     ]
    },
    {
     "name": "stdout",
     "output_type": "stream",
     "text": [
      "Epoch 53/100, Avg Loss: 0.0035, Train Accuracy: 0.9998\n"
     ]
    },
    {
     "name": "stderr",
     "output_type": "stream",
     "text": [
      "                                                                         \r"
     ]
    },
    {
     "name": "stdout",
     "output_type": "stream",
     "text": [
      "Epoch 54/100, Avg Loss: 0.0035, Train Accuracy: 0.9998\n"
     ]
    },
    {
     "name": "stderr",
     "output_type": "stream",
     "text": [
      "                                                                         \r"
     ]
    },
    {
     "name": "stdout",
     "output_type": "stream",
     "text": [
      "Epoch 55/100, Avg Loss: 0.0034, Train Accuracy: 0.9998\n"
     ]
    },
    {
     "name": "stderr",
     "output_type": "stream",
     "text": [
      "                                                                         \r"
     ]
    },
    {
     "name": "stdout",
     "output_type": "stream",
     "text": [
      "Epoch 56/100, Avg Loss: 0.0034, Train Accuracy: 0.9998\n"
     ]
    },
    {
     "name": "stderr",
     "output_type": "stream",
     "text": [
      "                                                                         \r"
     ]
    },
    {
     "name": "stdout",
     "output_type": "stream",
     "text": [
      "Epoch 57/100, Avg Loss: 0.0034, Train Accuracy: 0.9998\n"
     ]
    },
    {
     "name": "stderr",
     "output_type": "stream",
     "text": [
      "                                                                         \r"
     ]
    },
    {
     "name": "stdout",
     "output_type": "stream",
     "text": [
      "Epoch 58/100, Avg Loss: 0.0033, Train Accuracy: 0.9998\n"
     ]
    },
    {
     "name": "stderr",
     "output_type": "stream",
     "text": [
      "                                                                        \r"
     ]
    },
    {
     "name": "stdout",
     "output_type": "stream",
     "text": [
      "Epoch 59/100, Avg Loss: 0.0033, Train Accuracy: 0.9998\n"
     ]
    },
    {
     "name": "stderr",
     "output_type": "stream",
     "text": [
      "                                                                         \r"
     ]
    },
    {
     "name": "stdout",
     "output_type": "stream",
     "text": [
      "Epoch 60/100, Avg Loss: 0.0033, Train Accuracy: 0.9998\n"
     ]
    },
    {
     "name": "stderr",
     "output_type": "stream",
     "text": [
      "                                                                         \r"
     ]
    },
    {
     "name": "stdout",
     "output_type": "stream",
     "text": [
      "Epoch 61/100, Avg Loss: 0.0032, Train Accuracy: 0.9998\n"
     ]
    },
    {
     "name": "stderr",
     "output_type": "stream",
     "text": [
      "                                                                         \r"
     ]
    },
    {
     "name": "stdout",
     "output_type": "stream",
     "text": [
      "Epoch 62/100, Avg Loss: 0.0032, Train Accuracy: 0.9998\n"
     ]
    },
    {
     "name": "stderr",
     "output_type": "stream",
     "text": [
      "                                                                         \r"
     ]
    },
    {
     "name": "stdout",
     "output_type": "stream",
     "text": [
      "Epoch 63/100, Avg Loss: 0.0032, Train Accuracy: 0.9998\n"
     ]
    },
    {
     "name": "stderr",
     "output_type": "stream",
     "text": [
      "                                                                         \r"
     ]
    },
    {
     "name": "stdout",
     "output_type": "stream",
     "text": [
      "Epoch 64/100, Avg Loss: 0.0031, Train Accuracy: 0.9998\n"
     ]
    },
    {
     "name": "stderr",
     "output_type": "stream",
     "text": [
      "                                                                         \r"
     ]
    },
    {
     "name": "stdout",
     "output_type": "stream",
     "text": [
      "Epoch 65/100, Avg Loss: 0.0031, Train Accuracy: 0.9998\n"
     ]
    },
    {
     "name": "stderr",
     "output_type": "stream",
     "text": [
      "                                                                         \r"
     ]
    },
    {
     "name": "stdout",
     "output_type": "stream",
     "text": [
      "Epoch 66/100, Avg Loss: 0.0031, Train Accuracy: 0.9998\n"
     ]
    },
    {
     "name": "stderr",
     "output_type": "stream",
     "text": [
      "                                                                         \r"
     ]
    },
    {
     "name": "stdout",
     "output_type": "stream",
     "text": [
      "Epoch 67/100, Avg Loss: 0.0030, Train Accuracy: 0.9998\n"
     ]
    },
    {
     "name": "stderr",
     "output_type": "stream",
     "text": [
      "                                                                       \r"
     ]
    },
    {
     "name": "stdout",
     "output_type": "stream",
     "text": [
      "Epoch 68/100, Avg Loss: 0.0030, Train Accuracy: 0.9998\n"
     ]
    },
    {
     "name": "stderr",
     "output_type": "stream",
     "text": [
      "                                                                         \r"
     ]
    },
    {
     "name": "stdout",
     "output_type": "stream",
     "text": [
      "Epoch 69/100, Avg Loss: 0.0030, Train Accuracy: 0.9998\n"
     ]
    },
    {
     "name": "stderr",
     "output_type": "stream",
     "text": [
      "                                                                         \r"
     ]
    },
    {
     "name": "stdout",
     "output_type": "stream",
     "text": [
      "Epoch 70/100, Avg Loss: 0.0029, Train Accuracy: 0.9998\n"
     ]
    },
    {
     "name": "stderr",
     "output_type": "stream",
     "text": [
      "                                                                        \r"
     ]
    },
    {
     "name": "stdout",
     "output_type": "stream",
     "text": [
      "Epoch 71/100, Avg Loss: 0.0029, Train Accuracy: 0.9998\n"
     ]
    },
    {
     "name": "stderr",
     "output_type": "stream",
     "text": [
      "                                                                         \r"
     ]
    },
    {
     "name": "stdout",
     "output_type": "stream",
     "text": [
      "Epoch 72/100, Avg Loss: 0.0029, Train Accuracy: 0.9998\n"
     ]
    },
    {
     "name": "stderr",
     "output_type": "stream",
     "text": [
      "                                                                         \r"
     ]
    },
    {
     "name": "stdout",
     "output_type": "stream",
     "text": [
      "Epoch 73/100, Avg Loss: 0.0028, Train Accuracy: 0.9998\n"
     ]
    },
    {
     "name": "stderr",
     "output_type": "stream",
     "text": [
      "                                                                         \r"
     ]
    },
    {
     "name": "stdout",
     "output_type": "stream",
     "text": [
      "Epoch 74/100, Avg Loss: 0.0028, Train Accuracy: 0.9998\n"
     ]
    },
    {
     "name": "stderr",
     "output_type": "stream",
     "text": [
      "                                                                         \r"
     ]
    },
    {
     "name": "stdout",
     "output_type": "stream",
     "text": [
      "Epoch 75/100, Avg Loss: 0.0028, Train Accuracy: 0.9998\n"
     ]
    },
    {
     "name": "stderr",
     "output_type": "stream",
     "text": [
      "                                                                         \r"
     ]
    },
    {
     "name": "stdout",
     "output_type": "stream",
     "text": [
      "Epoch 76/100, Avg Loss: 0.0028, Train Accuracy: 0.9998\n"
     ]
    },
    {
     "name": "stderr",
     "output_type": "stream",
     "text": [
      "                                                                         \r"
     ]
    },
    {
     "name": "stdout",
     "output_type": "stream",
     "text": [
      "Epoch 77/100, Avg Loss: 0.0027, Train Accuracy: 0.9998\n"
     ]
    },
    {
     "name": "stderr",
     "output_type": "stream",
     "text": [
      "                                                                        \r"
     ]
    },
    {
     "name": "stdout",
     "output_type": "stream",
     "text": [
      "Epoch 78/100, Avg Loss: 0.0027, Train Accuracy: 0.9998\n"
     ]
    },
    {
     "name": "stderr",
     "output_type": "stream",
     "text": [
      "                                                                         \r"
     ]
    },
    {
     "name": "stdout",
     "output_type": "stream",
     "text": [
      "Epoch 79/100, Avg Loss: 0.0027, Train Accuracy: 0.9998\n"
     ]
    },
    {
     "name": "stderr",
     "output_type": "stream",
     "text": [
      "                                                                         \r"
     ]
    },
    {
     "name": "stdout",
     "output_type": "stream",
     "text": [
      "Epoch 80/100, Avg Loss: 0.0026, Train Accuracy: 0.9998\n"
     ]
    },
    {
     "name": "stderr",
     "output_type": "stream",
     "text": [
      "                                                                         \r"
     ]
    },
    {
     "name": "stdout",
     "output_type": "stream",
     "text": [
      "Epoch 81/100, Avg Loss: 0.0026, Train Accuracy: 0.9998\n"
     ]
    },
    {
     "name": "stderr",
     "output_type": "stream",
     "text": [
      "                                                                         \r"
     ]
    },
    {
     "name": "stdout",
     "output_type": "stream",
     "text": [
      "Epoch 82/100, Avg Loss: 0.0026, Train Accuracy: 0.9998\n"
     ]
    },
    {
     "name": "stderr",
     "output_type": "stream",
     "text": [
      "                                                                         \r"
     ]
    },
    {
     "name": "stdout",
     "output_type": "stream",
     "text": [
      "Epoch 83/100, Avg Loss: 0.0026, Train Accuracy: 0.9998\n"
     ]
    },
    {
     "name": "stderr",
     "output_type": "stream",
     "text": [
      "                                                                         \r"
     ]
    },
    {
     "name": "stdout",
     "output_type": "stream",
     "text": [
      "Epoch 84/100, Avg Loss: 0.0025, Train Accuracy: 0.9998\n"
     ]
    },
    {
     "name": "stderr",
     "output_type": "stream",
     "text": [
      "                                                                         \r"
     ]
    },
    {
     "name": "stdout",
     "output_type": "stream",
     "text": [
      "Epoch 85/100, Avg Loss: 0.0025, Train Accuracy: 0.9998\n"
     ]
    },
    {
     "name": "stderr",
     "output_type": "stream",
     "text": [
      "                                                                         \r"
     ]
    },
    {
     "name": "stdout",
     "output_type": "stream",
     "text": [
      "Epoch 86/100, Avg Loss: 0.0025, Train Accuracy: 0.9998\n"
     ]
    },
    {
     "name": "stderr",
     "output_type": "stream",
     "text": [
      "                                                                         \r"
     ]
    },
    {
     "name": "stdout",
     "output_type": "stream",
     "text": [
      "Epoch 87/100, Avg Loss: 0.0025, Train Accuracy: 0.9998\n"
     ]
    },
    {
     "name": "stderr",
     "output_type": "stream",
     "text": [
      "                                                                         \r"
     ]
    },
    {
     "name": "stdout",
     "output_type": "stream",
     "text": [
      "Epoch 88/100, Avg Loss: 0.0024, Train Accuracy: 0.9998\n"
     ]
    },
    {
     "name": "stderr",
     "output_type": "stream",
     "text": [
      "                                                                        \r"
     ]
    },
    {
     "name": "stdout",
     "output_type": "stream",
     "text": [
      "Epoch 89/100, Avg Loss: 0.0024, Train Accuracy: 0.9998\n"
     ]
    },
    {
     "name": "stderr",
     "output_type": "stream",
     "text": [
      "                                                                         \r"
     ]
    },
    {
     "name": "stdout",
     "output_type": "stream",
     "text": [
      "Epoch 90/100, Avg Loss: 0.0024, Train Accuracy: 0.9998\n"
     ]
    },
    {
     "name": "stderr",
     "output_type": "stream",
     "text": [
      "                                                                         \r"
     ]
    },
    {
     "name": "stdout",
     "output_type": "stream",
     "text": [
      "Epoch 91/100, Avg Loss: 0.0023, Train Accuracy: 0.9998\n"
     ]
    },
    {
     "name": "stderr",
     "output_type": "stream",
     "text": [
      "                                                                         \r"
     ]
    },
    {
     "name": "stdout",
     "output_type": "stream",
     "text": [
      "Epoch 92/100, Avg Loss: 0.0023, Train Accuracy: 0.9998\n"
     ]
    },
    {
     "name": "stderr",
     "output_type": "stream",
     "text": [
      "                                                                         \r"
     ]
    },
    {
     "name": "stdout",
     "output_type": "stream",
     "text": [
      "Epoch 93/100, Avg Loss: 0.0023, Train Accuracy: 0.9998\n"
     ]
    },
    {
     "name": "stderr",
     "output_type": "stream",
     "text": [
      "                                                                         \r"
     ]
    },
    {
     "name": "stdout",
     "output_type": "stream",
     "text": [
      "Epoch 94/100, Avg Loss: 0.0023, Train Accuracy: 0.9998\n"
     ]
    },
    {
     "name": "stderr",
     "output_type": "stream",
     "text": [
      "                                                                         \r"
     ]
    },
    {
     "name": "stdout",
     "output_type": "stream",
     "text": [
      "Epoch 95/100, Avg Loss: 0.0022, Train Accuracy: 0.9998\n"
     ]
    },
    {
     "name": "stderr",
     "output_type": "stream",
     "text": [
      "                                                                         \r"
     ]
    },
    {
     "name": "stdout",
     "output_type": "stream",
     "text": [
      "Epoch 96/100, Avg Loss: 0.0022, Train Accuracy: 0.9998\n"
     ]
    },
    {
     "name": "stderr",
     "output_type": "stream",
     "text": [
      "                                                                         \r"
     ]
    },
    {
     "name": "stdout",
     "output_type": "stream",
     "text": [
      "Epoch 97/100, Avg Loss: 0.0022, Train Accuracy: 0.9998\n"
     ]
    },
    {
     "name": "stderr",
     "output_type": "stream",
     "text": [
      "                                                                         \r"
     ]
    },
    {
     "name": "stdout",
     "output_type": "stream",
     "text": [
      "Epoch 98/100, Avg Loss: 0.0022, Train Accuracy: 0.9998\n"
     ]
    },
    {
     "name": "stderr",
     "output_type": "stream",
     "text": [
      "                                                                         \r"
     ]
    },
    {
     "name": "stdout",
     "output_type": "stream",
     "text": [
      "Epoch 99/100, Avg Loss: 0.0021, Train Accuracy: 0.9998\n"
     ]
    },
    {
     "name": "stderr",
     "output_type": "stream",
     "text": [
      "                                                                          "
     ]
    },
    {
     "name": "stdout",
     "output_type": "stream",
     "text": [
      "Epoch 100/100, Avg Loss: 0.0021, Train Accuracy: 0.9998\n"
     ]
    },
    {
     "name": "stderr",
     "output_type": "stream",
     "text": [
      "\r"
     ]
    }
   ],
   "source": [
    "\n",
    "# Train the Model\n",
    "epochs = 100\n",
    "loss_list, acc_list = [], []\n",
    "\n",
    "for epoch in range(epochs):\n",
    "    model.train()\n",
    "    total_loss, correct, total = 0, 0, 0\n",
    "\n",
    "    train_loader_tqdm = tqdm(train_loader, desc=f\"Epoch {epoch+1}/{epochs}\", leave=False)\n",
    "    for batch in train_loader_tqdm:\n",
    "        batch = batch.to(device)\n",
    "        optimizer.zero_grad()\n",
    "        outputs = model(batch.x, batch.edge_index, batch.edge_attr)\n",
    "        loss = criterion(outputs, batch.y)\n",
    "        loss.backward()\n",
    "        optimizer.step()\n",
    "        total_loss += loss.item()\n",
    "\n",
    "        # Compute Accuracy\n",
    "        _, predicted = torch.max(outputs, 1)\n",
    "        correct += (predicted == batch.y).sum().item()\n",
    "        total += batch.y.size(0)\n",
    "        train_loader_tqdm.set_postfix(loss=loss.item())\n",
    "\n",
    "    avg_loss = total_loss / len(train_loader)\n",
    "    train_accuracy = correct / total\n",
    "    loss_list.append(avg_loss)\n",
    "    acc_list.append(train_accuracy)\n",
    "    print(f\"Epoch {epoch+1}/{epochs}, Avg Loss: {avg_loss:.4f}, Train Accuracy: {train_accuracy:.4f}\")\n"
   ]
  },
  {
   "cell_type": "code",
   "execution_count": 31,
   "id": "56bb7825-ad28-40c7-a3fe-1940e013b73f",
   "metadata": {},
   "outputs": [
    {
     "data": {
      "image/png": "[encoded data removed]",
      "text/plain": [
       "<Figure size 1400x600 with 2 Axes>"
      ]
     },
     "metadata": {},
     "output_type": "display_data"
    }
   ],
   "source": [
    "import matplotlib.pyplot as plt\n",
    "# Plot loss and accuracy for both training and validation\n",
    "plt.figure(figsize=(14, 6))\n",
    "\n",
    "# Loss plot\n",
    "plt.subplot(1, 2, 1)\n",
    "plt.plot(range(epochs), loss_list, label=\"Train Loss\", color=\"red\")\n",
    "plt.xlabel(\"Epochs\")\n",
    "plt.ylabel(\"Loss\")\n",
    "plt.title(\"Loss over Epochs\")\n",
    "plt.grid(True)\n",
    "plt.legend()\n",
    "\n",
    "# Accuracy plot\n",
    "plt.subplot(1, 2, 2)\n",
    "plt.plot(range(epochs), acc_list, label=\"Train Accuracy\", color=\"blue\")\n",
    "plt.xlabel(\"Epochs\")\n",
    "plt.ylabel(\"Accuracy\")\n",
    "plt.title(\"Accuracy over Epochs\")\n",
    "plt.grid(True)\n",
    "plt.legend()\n",
    "\n",
    "plt.tight_layout()\n",
    "plt.show()"
   ]
  },
  {
   "cell_type": "code",
   "execution_count": 32,
   "id": "8936e48e-0aa0-4aa3-903c-a7a969f3d619",
   "metadata": {},
   "outputs": [],
   "source": [
    "gat_loss_list = loss_list.copy()\n",
    "gat_acc_list = acc_list.copy()"
   ]
  },
  {
   "cell_type": "code",
   "execution_count": 34,
   "id": "af37d203-529a-4652-b6f1-d15a2ddc1fd7",
   "metadata": {},
   "outputs": [
    {
     "name": "stdout",
     "output_type": "stream",
     "text": [
      "Test Accuracy: 0.9998\n",
      "\n",
      "Classification Report:\n",
      "              precision    recall  f1-score   support\n",
      "\n",
      "      Benign     0.1515    0.9091    0.2597        22\n",
      "      Attack     1.0000    0.9998    0.9999    548918\n",
      "\n",
      "    accuracy                         0.9998    548940\n",
      "   macro avg     0.5758    0.9544    0.6298    548940\n",
      "weighted avg     1.0000    0.9998    0.9999    548940\n",
      "\n"
     ]
    }
   ],
   "source": [
    "from sklearn.metrics import classification_report\n",
    "\n",
    "model.eval()\n",
    "correct, total = 0, 0\n",
    "all_predictions = []\n",
    "all_targets = []\n",
    "\n",
    "with torch.no_grad():\n",
    "    for batch in test_loader:\n",
    "        batch = batch.to(device)\n",
    "        outputs = model(batch.x, batch.edge_index, batch.edge_attr)\n",
    "        _, predicted = torch.max(outputs, 1)\n",
    "        correct += (predicted == batch.y).sum().item()\n",
    "        total += batch.y.size(0)\n",
    "\n",
    "        # Store for classification report\n",
    "        all_predictions.extend(predicted.cpu().numpy())\n",
    "        all_targets.extend(batch.y.cpu().numpy())\n",
    "target_names = [\"Benign\", \"Attack\"]\n",
    "test_accuracy = correct / total\n",
    "print(f\"Test Accuracy: {test_accuracy:.4f}\")\n",
    "\n",
    "# Print Classification Report\n",
    "print(\"\\nClassification Report:\")\n",
    "print(classification_report(all_targets, all_predictions,  target_names= target_names, digits=4))"
   ]
  },
  {
   "cell_type": "code",
   "execution_count": null,
   "id": "0815d038-b070-4f8a-9f12-c1ee3c59bda6",
   "metadata": {},
   "outputs": [],
   "source": []
  },
  {
   "cell_type": "markdown",
   "id": "d49d1806-1ca2-417c-b229-ef87bd776af0",
   "metadata": {},
   "source": [
    "## GCN"
   ]
  },
  {
   "cell_type": "code",
   "execution_count": 35,
   "id": "e6164daf-f1a8-4dbd-806f-3954de88df41",
   "metadata": {},
   "outputs": [],
   "source": [
    "# Model, Optimizer, Loss\n",
    "device = torch.device('cuda' if torch.cuda.is_available() else 'cpu')\n",
    "gnn_type = \"GCN\"\n",
    "\n",
    "# Create Model\n",
    "model = EdgeGNN(\n",
    "    in_channels=embedding_dim,\n",
    "    hidden_channels=32,\n",
    "    out_channels=len(labels.unique()),\n",
    "    gnn_type=gnn_type\n",
    ").to(device)\n",
    "\n",
    "optimizer = torch.optim.Adam(model.parameters(), lr=0.003)\n",
    "\n",
    "class_counts = torch.bincount(labels)  # Count occurrences of each class\n",
    "class_weights = 1.0 / class_counts.float()  # Inverse of frequency\n",
    "class_weights = class_weights / class_weights.sum()  # Normalize\n",
    "class_weights = class_weights.to(device)  # Move to GPU if needed\n",
    "criterion = torch.nn.CrossEntropyLoss(weight=class_weights)"
   ]
  },
  {
   "cell_type": "code",
   "execution_count": 36,
   "id": "203cbe39-0d4b-4511-862d-b4936d205bc9",
   "metadata": {
    "scrolled": true
   },
   "outputs": [
    {
     "name": "stderr",
     "output_type": "stream",
     "text": [
      "                                                                      \r"
     ]
    },
    {
     "name": "stdout",
     "output_type": "stream",
     "text": [
      "Epoch 1/100, Avg Loss: 0.7005, Train Accuracy: 0.6858\n"
     ]
    },
    {
     "name": "stderr",
     "output_type": "stream",
     "text": [
      "                                                                      \r"
     ]
    },
    {
     "name": "stdout",
     "output_type": "stream",
     "text": [
      "Epoch 2/100, Avg Loss: 0.3641, Train Accuracy: 0.8155\n"
     ]
    },
    {
     "name": "stderr",
     "output_type": "stream",
     "text": [
      "                                                                      \r"
     ]
    },
    {
     "name": "stdout",
     "output_type": "stream",
     "text": [
      "Epoch 3/100, Avg Loss: 0.2439, Train Accuracy: 0.9052\n"
     ]
    },
    {
     "name": "stderr",
     "output_type": "stream",
     "text": [
      "                                                                      \r"
     ]
    },
    {
     "name": "stdout",
     "output_type": "stream",
     "text": [
      "Epoch 4/100, Avg Loss: 0.1888, Train Accuracy: 0.9544\n"
     ]
    },
    {
     "name": "stderr",
     "output_type": "stream",
     "text": [
      "                                                                      \r"
     ]
    },
    {
     "name": "stdout",
     "output_type": "stream",
     "text": [
      "Epoch 5/100, Avg Loss: 0.1520, Train Accuracy: 0.9760\n"
     ]
    },
    {
     "name": "stderr",
     "output_type": "stream",
     "text": [
      "                                                                      \r"
     ]
    },
    {
     "name": "stdout",
     "output_type": "stream",
     "text": [
      "Epoch 6/100, Avg Loss: 0.1231, Train Accuracy: 0.9839\n"
     ]
    },
    {
     "name": "stderr",
     "output_type": "stream",
     "text": [
      "                                                                       \r"
     ]
    },
    {
     "name": "stdout",
     "output_type": "stream",
     "text": [
      "Epoch 7/100, Avg Loss: 0.0997, Train Accuracy: 0.9864\n"
     ]
    },
    {
     "name": "stderr",
     "output_type": "stream",
     "text": [
      "                                                                       \r"
     ]
    },
    {
     "name": "stdout",
     "output_type": "stream",
     "text": [
      "Epoch 8/100, Avg Loss: 0.0807, Train Accuracy: 0.9874\n"
     ]
    },
    {
     "name": "stderr",
     "output_type": "stream",
     "text": [
      "                                                                       \r"
     ]
    },
    {
     "name": "stdout",
     "output_type": "stream",
     "text": [
      "Epoch 9/100, Avg Loss: 0.0656, Train Accuracy: 0.9881\n"
     ]
    },
    {
     "name": "stderr",
     "output_type": "stream",
     "text": [
      "                                                                        \r"
     ]
    },
    {
     "name": "stdout",
     "output_type": "stream",
     "text": [
      "Epoch 10/100, Avg Loss: 0.0538, Train Accuracy: 0.9886\n"
     ]
    },
    {
     "name": "stderr",
     "output_type": "stream",
     "text": [
      "                                                                        \r"
     ]
    },
    {
     "name": "stdout",
     "output_type": "stream",
     "text": [
      "Epoch 11/100, Avg Loss: 0.0446, Train Accuracy: 0.9891\n"
     ]
    },
    {
     "name": "stderr",
     "output_type": "stream",
     "text": [
      "                                                                        \r"
     ]
    },
    {
     "name": "stdout",
     "output_type": "stream",
     "text": [
      "Epoch 12/100, Avg Loss: 0.0374, Train Accuracy: 0.9897\n"
     ]
    },
    {
     "name": "stderr",
     "output_type": "stream",
     "text": [
      "                                                                        \r"
     ]
    },
    {
     "name": "stdout",
     "output_type": "stream",
     "text": [
      "Epoch 13/100, Avg Loss: 0.0319, Train Accuracy: 0.9904\n"
     ]
    },
    {
     "name": "stderr",
     "output_type": "stream",
     "text": [
      "                                                                        \r"
     ]
    },
    {
     "name": "stdout",
     "output_type": "stream",
     "text": [
      "Epoch 14/100, Avg Loss: 0.0275, Train Accuracy: 0.9910\n"
     ]
    },
    {
     "name": "stderr",
     "output_type": "stream",
     "text": [
      "                                                                        \r"
     ]
    },
    {
     "name": "stdout",
     "output_type": "stream",
     "text": [
      "Epoch 15/100, Avg Loss: 0.0242, Train Accuracy: 0.9917\n"
     ]
    },
    {
     "name": "stderr",
     "output_type": "stream",
     "text": [
      "                                                                        \r"
     ]
    },
    {
     "name": "stdout",
     "output_type": "stream",
     "text": [
      "Epoch 16/100, Avg Loss: 0.0215, Train Accuracy: 0.9923\n"
     ]
    },
    {
     "name": "stderr",
     "output_type": "stream",
     "text": [
      "                                                                        \r"
     ]
    },
    {
     "name": "stdout",
     "output_type": "stream",
     "text": [
      "Epoch 17/100, Avg Loss: 0.0194, Train Accuracy: 0.9929\n"
     ]
    },
    {
     "name": "stderr",
     "output_type": "stream",
     "text": [
      "                                                                        \r"
     ]
    },
    {
     "name": "stdout",
     "output_type": "stream",
     "text": [
      "Epoch 18/100, Avg Loss: 0.0177, Train Accuracy: 0.9934\n"
     ]
    },
    {
     "name": "stderr",
     "output_type": "stream",
     "text": [
      "                                                                        \r"
     ]
    },
    {
     "name": "stdout",
     "output_type": "stream",
     "text": [
      "Epoch 19/100, Avg Loss: 0.0163, Train Accuracy: 0.9939\n"
     ]
    },
    {
     "name": "stderr",
     "output_type": "stream",
     "text": [
      "                                                                        \r"
     ]
    },
    {
     "name": "stdout",
     "output_type": "stream",
     "text": [
      "Epoch 20/100, Avg Loss: 0.0152, Train Accuracy: 0.9944\n"
     ]
    },
    {
     "name": "stderr",
     "output_type": "stream",
     "text": [
      "                                                                        \r"
     ]
    },
    {
     "name": "stdout",
     "output_type": "stream",
     "text": [
      "Epoch 21/100, Avg Loss: 0.0142, Train Accuracy: 0.9948\n"
     ]
    },
    {
     "name": "stderr",
     "output_type": "stream",
     "text": [
      "                                                                        \r"
     ]
    },
    {
     "name": "stdout",
     "output_type": "stream",
     "text": [
      "Epoch 22/100, Avg Loss: 0.0134, Train Accuracy: 0.9952\n"
     ]
    },
    {
     "name": "stderr",
     "output_type": "stream",
     "text": [
      "                                                                        \r"
     ]
    },
    {
     "name": "stdout",
     "output_type": "stream",
     "text": [
      "Epoch 23/100, Avg Loss: 0.0127, Train Accuracy: 0.9956\n"
     ]
    },
    {
     "name": "stderr",
     "output_type": "stream",
     "text": [
      "                                                                       \r"
     ]
    },
    {
     "name": "stdout",
     "output_type": "stream",
     "text": [
      "Epoch 24/100, Avg Loss: 0.0120, Train Accuracy: 0.9959\n"
     ]
    },
    {
     "name": "stderr",
     "output_type": "stream",
     "text": [
      "                                                                        \r"
     ]
    },
    {
     "name": "stdout",
     "output_type": "stream",
     "text": [
      "Epoch 25/100, Avg Loss: 0.0115, Train Accuracy: 0.9962\n"
     ]
    },
    {
     "name": "stderr",
     "output_type": "stream",
     "text": [
      "                                                                       \r"
     ]
    },
    {
     "name": "stdout",
     "output_type": "stream",
     "text": [
      "Epoch 26/100, Avg Loss: 0.0110, Train Accuracy: 0.9965\n"
     ]
    },
    {
     "name": "stderr",
     "output_type": "stream",
     "text": [
      "                                                                        \r"
     ]
    },
    {
     "name": "stdout",
     "output_type": "stream",
     "text": [
      "Epoch 27/100, Avg Loss: 0.0105, Train Accuracy: 0.9967\n"
     ]
    },
    {
     "name": "stderr",
     "output_type": "stream",
     "text": [
      "                                                                        \r"
     ]
    },
    {
     "name": "stdout",
     "output_type": "stream",
     "text": [
      "Epoch 28/100, Avg Loss: 0.0101, Train Accuracy: 0.9970\n"
     ]
    },
    {
     "name": "stderr",
     "output_type": "stream",
     "text": [
      "                                                                         \r"
     ]
    },
    {
     "name": "stdout",
     "output_type": "stream",
     "text": [
      "Epoch 29/100, Avg Loss: 0.0097, Train Accuracy: 0.9972\n"
     ]
    },
    {
     "name": "stderr",
     "output_type": "stream",
     "text": [
      "                                                                        \r"
     ]
    },
    {
     "name": "stdout",
     "output_type": "stream",
     "text": [
      "Epoch 30/100, Avg Loss: 0.0093, Train Accuracy: 0.9973\n"
     ]
    },
    {
     "name": "stderr",
     "output_type": "stream",
     "text": [
      "                                                                         \r"
     ]
    },
    {
     "name": "stdout",
     "output_type": "stream",
     "text": [
      "Epoch 31/100, Avg Loss: 0.0089, Train Accuracy: 0.9975\n"
     ]
    },
    {
     "name": "stderr",
     "output_type": "stream",
     "text": [
      "                                                                         \r"
     ]
    },
    {
     "name": "stdout",
     "output_type": "stream",
     "text": [
      "Epoch 32/100, Avg Loss: 0.0086, Train Accuracy: 0.9976\n"
     ]
    },
    {
     "name": "stderr",
     "output_type": "stream",
     "text": [
      "                                                                         \r"
     ]
    },
    {
     "name": "stdout",
     "output_type": "stream",
     "text": [
      "Epoch 33/100, Avg Loss: 0.0083, Train Accuracy: 0.9978\n"
     ]
    },
    {
     "name": "stderr",
     "output_type": "stream",
     "text": [
      "                                                                         \r"
     ]
    },
    {
     "name": "stdout",
     "output_type": "stream",
     "text": [
      "Epoch 34/100, Avg Loss: 0.0080, Train Accuracy: 0.9979\n"
     ]
    },
    {
     "name": "stderr",
     "output_type": "stream",
     "text": [
      "                                                                         \r"
     ]
    },
    {
     "name": "stdout",
     "output_type": "stream",
     "text": [
      "Epoch 35/100, Avg Loss: 0.0077, Train Accuracy: 0.9980\n"
     ]
    },
    {
     "name": "stderr",
     "output_type": "stream",
     "text": [
      "                                                                         \r"
     ]
    },
    {
     "name": "stdout",
     "output_type": "stream",
     "text": [
      "Epoch 36/100, Avg Loss: 0.0074, Train Accuracy: 0.9981\n"
     ]
    },
    {
     "name": "stderr",
     "output_type": "stream",
     "text": [
      "                                                                         \r"
     ]
    },
    {
     "name": "stdout",
     "output_type": "stream",
     "text": [
      "Epoch 37/100, Avg Loss: 0.0071, Train Accuracy: 0.9982\n"
     ]
    },
    {
     "name": "stderr",
     "output_type": "stream",
     "text": [
      "                                                                         \r"
     ]
    },
    {
     "name": "stdout",
     "output_type": "stream",
     "text": [
      "Epoch 38/100, Avg Loss: 0.0069, Train Accuracy: 0.9983\n"
     ]
    },
    {
     "name": "stderr",
     "output_type": "stream",
     "text": [
      "                                                                         \r"
     ]
    },
    {
     "name": "stdout",
     "output_type": "stream",
     "text": [
      "Epoch 39/100, Avg Loss: 0.0066, Train Accuracy: 0.9984\n"
     ]
    },
    {
     "name": "stderr",
     "output_type": "stream",
     "text": [
      "                                                                        \r"
     ]
    },
    {
     "name": "stdout",
     "output_type": "stream",
     "text": [
      "Epoch 40/100, Avg Loss: 0.0064, Train Accuracy: 0.9985\n"
     ]
    },
    {
     "name": "stderr",
     "output_type": "stream",
     "text": [
      "                                                                         \r"
     ]
    },
    {
     "name": "stdout",
     "output_type": "stream",
     "text": [
      "Epoch 41/100, Avg Loss: 0.0062, Train Accuracy: 0.9986\n"
     ]
    },
    {
     "name": "stderr",
     "output_type": "stream",
     "text": [
      "                                                                         \r"
     ]
    },
    {
     "name": "stdout",
     "output_type": "stream",
     "text": [
      "Epoch 42/100, Avg Loss: 0.0060, Train Accuracy: 0.9987\n"
     ]
    },
    {
     "name": "stderr",
     "output_type": "stream",
     "text": [
      "                                                                         \r"
     ]
    },
    {
     "name": "stdout",
     "output_type": "stream",
     "text": [
      "Epoch 43/100, Avg Loss: 0.0058, Train Accuracy: 0.9988\n"
     ]
    },
    {
     "name": "stderr",
     "output_type": "stream",
     "text": [
      "                                                                         \r"
     ]
    },
    {
     "name": "stdout",
     "output_type": "stream",
     "text": [
      "Epoch 44/100, Avg Loss: 0.0056, Train Accuracy: 0.9989\n"
     ]
    },
    {
     "name": "stderr",
     "output_type": "stream",
     "text": [
      "                                                                         \r"
     ]
    },
    {
     "name": "stdout",
     "output_type": "stream",
     "text": [
      "Epoch 45/100, Avg Loss: 0.0054, Train Accuracy: 0.9990\n"
     ]
    },
    {
     "name": "stderr",
     "output_type": "stream",
     "text": [
      "                                                                         \r"
     ]
    },
    {
     "name": "stdout",
     "output_type": "stream",
     "text": [
      "Epoch 46/100, Avg Loss: 0.0052, Train Accuracy: 0.9990\n"
     ]
    },
    {
     "name": "stderr",
     "output_type": "stream",
     "text": [
      "                                                                         \r"
     ]
    },
    {
     "name": "stdout",
     "output_type": "stream",
     "text": [
      "Epoch 47/100, Avg Loss: 0.0051, Train Accuracy: 0.9990\n"
     ]
    },
    {
     "name": "stderr",
     "output_type": "stream",
     "text": [
      "                                                                        \r"
     ]
    },
    {
     "name": "stdout",
     "output_type": "stream",
     "text": [
      "Epoch 48/100, Avg Loss: 0.0049, Train Accuracy: 0.9991\n"
     ]
    },
    {
     "name": "stderr",
     "output_type": "stream",
     "text": [
      "                                                                         \r"
     ]
    },
    {
     "name": "stdout",
     "output_type": "stream",
     "text": [
      "Epoch 49/100, Avg Loss: 0.0048, Train Accuracy: 0.9991\n"
     ]
    },
    {
     "name": "stderr",
     "output_type": "stream",
     "text": [
      "                                                                         \r"
     ]
    },
    {
     "name": "stdout",
     "output_type": "stream",
     "text": [
      "Epoch 50/100, Avg Loss: 0.0046, Train Accuracy: 0.9991\n"
     ]
    },
    {
     "name": "stderr",
     "output_type": "stream",
     "text": [
      "                                                                         \r"
     ]
    },
    {
     "name": "stdout",
     "output_type": "stream",
     "text": [
      "Epoch 51/100, Avg Loss: 0.0045, Train Accuracy: 0.9991\n"
     ]
    },
    {
     "name": "stderr",
     "output_type": "stream",
     "text": [
      "                                                                         \r"
     ]
    },
    {
     "name": "stdout",
     "output_type": "stream",
     "text": [
      "Epoch 52/100, Avg Loss: 0.0043, Train Accuracy: 0.9992\n"
     ]
    },
    {
     "name": "stderr",
     "output_type": "stream",
     "text": [
      "                                                                         \r"
     ]
    },
    {
     "name": "stdout",
     "output_type": "stream",
     "text": [
      "Epoch 53/100, Avg Loss: 0.0042, Train Accuracy: 0.9992\n"
     ]
    },
    {
     "name": "stderr",
     "output_type": "stream",
     "text": [
      "                                                                         \r"
     ]
    },
    {
     "name": "stdout",
     "output_type": "stream",
     "text": [
      "Epoch 54/100, Avg Loss: 0.0041, Train Accuracy: 0.9992\n"
     ]
    },
    {
     "name": "stderr",
     "output_type": "stream",
     "text": [
      "                                                                         \r"
     ]
    },
    {
     "name": "stdout",
     "output_type": "stream",
     "text": [
      "Epoch 55/100, Avg Loss: 0.0040, Train Accuracy: 0.9993\n"
     ]
    },
    {
     "name": "stderr",
     "output_type": "stream",
     "text": [
      "                                                                         \r"
     ]
    },
    {
     "name": "stdout",
     "output_type": "stream",
     "text": [
      "Epoch 56/100, Avg Loss: 0.0039, Train Accuracy: 0.9993\n"
     ]
    },
    {
     "name": "stderr",
     "output_type": "stream",
     "text": [
      "                                                                         \r"
     ]
    },
    {
     "name": "stdout",
     "output_type": "stream",
     "text": [
      "Epoch 57/100, Avg Loss: 0.0038, Train Accuracy: 0.9994\n"
     ]
    },
    {
     "name": "stderr",
     "output_type": "stream",
     "text": [
      "                                                                         \r"
     ]
    },
    {
     "name": "stdout",
     "output_type": "stream",
     "text": [
      "Epoch 58/100, Avg Loss: 0.0038, Train Accuracy: 0.9995\n"
     ]
    },
    {
     "name": "stderr",
     "output_type": "stream",
     "text": [
      "                                                                        \r"
     ]
    },
    {
     "name": "stdout",
     "output_type": "stream",
     "text": [
      "Epoch 59/100, Avg Loss: 0.0037, Train Accuracy: 0.9996\n"
     ]
    },
    {
     "name": "stderr",
     "output_type": "stream",
     "text": [
      "                                                                         \r"
     ]
    },
    {
     "name": "stdout",
     "output_type": "stream",
     "text": [
      "Epoch 60/100, Avg Loss: 0.0036, Train Accuracy: 0.9996\n"
     ]
    },
    {
     "name": "stderr",
     "output_type": "stream",
     "text": [
      "                                                                         \r"
     ]
    },
    {
     "name": "stdout",
     "output_type": "stream",
     "text": [
      "Epoch 61/100, Avg Loss: 0.0036, Train Accuracy: 0.9996\n"
     ]
    },
    {
     "name": "stderr",
     "output_type": "stream",
     "text": [
      "                                                                         \r"
     ]
    },
    {
     "name": "stdout",
     "output_type": "stream",
     "text": [
      "Epoch 62/100, Avg Loss: 0.0035, Train Accuracy: 0.9997\n"
     ]
    },
    {
     "name": "stderr",
     "output_type": "stream",
     "text": [
      "                                                                        \r"
     ]
    },
    {
     "name": "stdout",
     "output_type": "stream",
     "text": [
      "Epoch 63/100, Avg Loss: 0.0035, Train Accuracy: 0.9997\n"
     ]
    },
    {
     "name": "stderr",
     "output_type": "stream",
     "text": [
      "                                                                         \r"
     ]
    },
    {
     "name": "stdout",
     "output_type": "stream",
     "text": [
      "Epoch 64/100, Avg Loss: 0.0035, Train Accuracy: 0.9997\n"
     ]
    },
    {
     "name": "stderr",
     "output_type": "stream",
     "text": [
      "                                                                         \r"
     ]
    },
    {
     "name": "stdout",
     "output_type": "stream",
     "text": [
      "Epoch 65/100, Avg Loss: 0.0034, Train Accuracy: 0.9997\n"
     ]
    },
    {
     "name": "stderr",
     "output_type": "stream",
     "text": [
      "                                                                         \r"
     ]
    },
    {
     "name": "stdout",
     "output_type": "stream",
     "text": [
      "Epoch 66/100, Avg Loss: 0.0034, Train Accuracy: 0.9997\n"
     ]
    },
    {
     "name": "stderr",
     "output_type": "stream",
     "text": [
      "                                                                         \r"
     ]
    },
    {
     "name": "stdout",
     "output_type": "stream",
     "text": [
      "Epoch 67/100, Avg Loss: 0.0033, Train Accuracy: 0.9997\n"
     ]
    },
    {
     "name": "stderr",
     "output_type": "stream",
     "text": [
      "                                                                         \r"
     ]
    },
    {
     "name": "stdout",
     "output_type": "stream",
     "text": [
      "Epoch 68/100, Avg Loss: 0.0033, Train Accuracy: 0.9997\n"
     ]
    },
    {
     "name": "stderr",
     "output_type": "stream",
     "text": [
      "                                                                         \r"
     ]
    },
    {
     "name": "stdout",
     "output_type": "stream",
     "text": [
      "Epoch 69/100, Avg Loss: 0.0033, Train Accuracy: 0.9997\n"
     ]
    },
    {
     "name": "stderr",
     "output_type": "stream",
     "text": [
      "                                                                         \r"
     ]
    },
    {
     "name": "stdout",
     "output_type": "stream",
     "text": [
      "Epoch 70/100, Avg Loss: 0.0033, Train Accuracy: 0.9997\n"
     ]
    },
    {
     "name": "stderr",
     "output_type": "stream",
     "text": [
      "                                                                         \r"
     ]
    },
    {
     "name": "stdout",
     "output_type": "stream",
     "text": [
      "Epoch 71/100, Avg Loss: 0.0032, Train Accuracy: 0.9997\n"
     ]
    },
    {
     "name": "stderr",
     "output_type": "stream",
     "text": [
      "                                                                         \r"
     ]
    },
    {
     "name": "stdout",
     "output_type": "stream",
     "text": [
      "Epoch 72/100, Avg Loss: 0.0032, Train Accuracy: 0.9997\n"
     ]
    },
    {
     "name": "stderr",
     "output_type": "stream",
     "text": [
      "                                                                         \r"
     ]
    },
    {
     "name": "stdout",
     "output_type": "stream",
     "text": [
      "Epoch 73/100, Avg Loss: 0.0032, Train Accuracy: 0.9997\n"
     ]
    },
    {
     "name": "stderr",
     "output_type": "stream",
     "text": [
      "                                                                         \r"
     ]
    },
    {
     "name": "stdout",
     "output_type": "stream",
     "text": [
      "Epoch 74/100, Avg Loss: 0.0031, Train Accuracy: 0.9997\n"
     ]
    },
    {
     "name": "stderr",
     "output_type": "stream",
     "text": [
      "                                                                         \r"
     ]
    },
    {
     "name": "stdout",
     "output_type": "stream",
     "text": [
      "Epoch 75/100, Avg Loss: 0.0031, Train Accuracy: 0.9997\n"
     ]
    },
    {
     "name": "stderr",
     "output_type": "stream",
     "text": [
      "                                                                         \r"
     ]
    },
    {
     "name": "stdout",
     "output_type": "stream",
     "text": [
      "Epoch 76/100, Avg Loss: 0.0031, Train Accuracy: 0.9997\n"
     ]
    },
    {
     "name": "stderr",
     "output_type": "stream",
     "text": [
      "                                                                         \r"
     ]
    },
    {
     "name": "stdout",
     "output_type": "stream",
     "text": [
      "Epoch 77/100, Avg Loss: 0.0031, Train Accuracy: 0.9997\n"
     ]
    },
    {
     "name": "stderr",
     "output_type": "stream",
     "text": [
      "                                                                         \r"
     ]
    },
    {
     "name": "stdout",
     "output_type": "stream",
     "text": [
      "Epoch 78/100, Avg Loss: 0.0030, Train Accuracy: 0.9997\n"
     ]
    },
    {
     "name": "stderr",
     "output_type": "stream",
     "text": [
      "                                                                       \r"
     ]
    },
    {
     "name": "stdout",
     "output_type": "stream",
     "text": [
      "Epoch 79/100, Avg Loss: 0.0030, Train Accuracy: 0.9997\n"
     ]
    },
    {
     "name": "stderr",
     "output_type": "stream",
     "text": [
      "                                                                         \r"
     ]
    },
    {
     "name": "stdout",
     "output_type": "stream",
     "text": [
      "Epoch 80/100, Avg Loss: 0.0030, Train Accuracy: 0.9997\n"
     ]
    },
    {
     "name": "stderr",
     "output_type": "stream",
     "text": [
      "                                                                         \r"
     ]
    },
    {
     "name": "stdout",
     "output_type": "stream",
     "text": [
      "Epoch 81/100, Avg Loss: 0.0030, Train Accuracy: 0.9997\n"
     ]
    },
    {
     "name": "stderr",
     "output_type": "stream",
     "text": [
      "                                                                         \r"
     ]
    },
    {
     "name": "stdout",
     "output_type": "stream",
     "text": [
      "Epoch 82/100, Avg Loss: 0.0029, Train Accuracy: 0.9997\n"
     ]
    },
    {
     "name": "stderr",
     "output_type": "stream",
     "text": [
      "                                                                         \r"
     ]
    },
    {
     "name": "stdout",
     "output_type": "stream",
     "text": [
      "Epoch 83/100, Avg Loss: 0.0029, Train Accuracy: 0.9997\n"
     ]
    },
    {
     "name": "stderr",
     "output_type": "stream",
     "text": [
      "                                                                         \r"
     ]
    },
    {
     "name": "stdout",
     "output_type": "stream",
     "text": [
      "Epoch 84/100, Avg Loss: 0.0029, Train Accuracy: 0.9997\n"
     ]
    },
    {
     "name": "stderr",
     "output_type": "stream",
     "text": [
      "                                                                         \r"
     ]
    },
    {
     "name": "stdout",
     "output_type": "stream",
     "text": [
      "Epoch 85/100, Avg Loss: 0.0029, Train Accuracy: 0.9997\n"
     ]
    },
    {
     "name": "stderr",
     "output_type": "stream",
     "text": [
      "                                                                         \r"
     ]
    },
    {
     "name": "stdout",
     "output_type": "stream",
     "text": [
      "Epoch 86/100, Avg Loss: 0.0028, Train Accuracy: 0.9997\n"
     ]
    },
    {
     "name": "stderr",
     "output_type": "stream",
     "text": [
      "                                                                         \r"
     ]
    },
    {
     "name": "stdout",
     "output_type": "stream",
     "text": [
      "Epoch 87/100, Avg Loss: 0.0028, Train Accuracy: 0.9997\n"
     ]
    },
    {
     "name": "stderr",
     "output_type": "stream",
     "text": [
      "                                                                        \r"
     ]
    },
    {
     "name": "stdout",
     "output_type": "stream",
     "text": [
      "Epoch 88/100, Avg Loss: 0.0028, Train Accuracy: 0.9997\n"
     ]
    },
    {
     "name": "stderr",
     "output_type": "stream",
     "text": [
      "                                                                         \r"
     ]
    },
    {
     "name": "stdout",
     "output_type": "stream",
     "text": [
      "Epoch 89/100, Avg Loss: 0.0028, Train Accuracy: 0.9997\n"
     ]
    },
    {
     "name": "stderr",
     "output_type": "stream",
     "text": [
      "                                                                         \r"
     ]
    },
    {
     "name": "stdout",
     "output_type": "stream",
     "text": [
      "Epoch 90/100, Avg Loss: 0.0028, Train Accuracy: 0.9997\n"
     ]
    },
    {
     "name": "stderr",
     "output_type": "stream",
     "text": [
      "                                                                         \r"
     ]
    },
    {
     "name": "stdout",
     "output_type": "stream",
     "text": [
      "Epoch 91/100, Avg Loss: 0.0027, Train Accuracy: 0.9997\n"
     ]
    },
    {
     "name": "stderr",
     "output_type": "stream",
     "text": [
      "                                                                         \r"
     ]
    },
    {
     "name": "stdout",
     "output_type": "stream",
     "text": [
      "Epoch 92/100, Avg Loss: 0.0027, Train Accuracy: 0.9997\n"
     ]
    },
    {
     "name": "stderr",
     "output_type": "stream",
     "text": [
      "                                                                        \r"
     ]
    },
    {
     "name": "stdout",
     "output_type": "stream",
     "text": [
      "Epoch 93/100, Avg Loss: 0.0027, Train Accuracy: 0.9997\n"
     ]
    },
    {
     "name": "stderr",
     "output_type": "stream",
     "text": [
      "                                                                         \r"
     ]
    },
    {
     "name": "stdout",
     "output_type": "stream",
     "text": [
      "Epoch 94/100, Avg Loss: 0.0027, Train Accuracy: 0.9997\n"
     ]
    },
    {
     "name": "stderr",
     "output_type": "stream",
     "text": [
      "                                                                         \r"
     ]
    },
    {
     "name": "stdout",
     "output_type": "stream",
     "text": [
      "Epoch 95/100, Avg Loss: 0.0027, Train Accuracy: 0.9997\n"
     ]
    },
    {
     "name": "stderr",
     "output_type": "stream",
     "text": [
      "                                                                         \r"
     ]
    },
    {
     "name": "stdout",
     "output_type": "stream",
     "text": [
      "Epoch 96/100, Avg Loss: 0.0026, Train Accuracy: 0.9997\n"
     ]
    },
    {
     "name": "stderr",
     "output_type": "stream",
     "text": [
      "                                                                         \r"
     ]
    },
    {
     "name": "stdout",
     "output_type": "stream",
     "text": [
      "Epoch 97/100, Avg Loss: 0.0026, Train Accuracy: 0.9997\n"
     ]
    },
    {
     "name": "stderr",
     "output_type": "stream",
     "text": [
      "                                                                        \r"
     ]
    },
    {
     "name": "stdout",
     "output_type": "stream",
     "text": [
      "Epoch 98/100, Avg Loss: 0.0026, Train Accuracy: 0.9997\n"
     ]
    },
    {
     "name": "stderr",
     "output_type": "stream",
     "text": [
      "                                                                         \r"
     ]
    },
    {
     "name": "stdout",
     "output_type": "stream",
     "text": [
      "Epoch 99/100, Avg Loss: 0.0026, Train Accuracy: 0.9997\n"
     ]
    },
    {
     "name": "stderr",
     "output_type": "stream",
     "text": [
      "                                                                          "
     ]
    },
    {
     "name": "stdout",
     "output_type": "stream",
     "text": [
      "Epoch 100/100, Avg Loss: 0.0026, Train Accuracy: 0.9997\n"
     ]
    },
    {
     "name": "stderr",
     "output_type": "stream",
     "text": [
      "\r"
     ]
    }
   ],
   "source": [
    "\n",
    "# Train the Model\n",
    "epochs = 100\n",
    "loss_list, acc_list = [], []\n",
    "\n",
    "for epoch in range(epochs):\n",
    "    model.train()\n",
    "    total_loss, correct, total = 0, 0, 0\n",
    "\n",
    "    train_loader_tqdm = tqdm(train_loader, desc=f\"Epoch {epoch+1}/{epochs}\", leave=False)\n",
    "    for batch in train_loader_tqdm:\n",
    "        batch = batch.to(device)\n",
    "        optimizer.zero_grad()\n",
    "        outputs = model(batch.x, batch.edge_index, batch.edge_attr)\n",
    "        loss = criterion(outputs, batch.y)\n",
    "        loss.backward()\n",
    "        optimizer.step()\n",
    "        total_loss += loss.item()\n",
    "\n",
    "        # Compute Accuracy\n",
    "        _, predicted = torch.max(outputs, 1)\n",
    "        correct += (predicted == batch.y).sum().item()\n",
    "        total += batch.y.size(0)\n",
    "        train_loader_tqdm.set_postfix(loss=loss.item())\n",
    "\n",
    "    avg_loss = total_loss / len(train_loader)\n",
    "    train_accuracy = correct / total\n",
    "    loss_list.append(avg_loss)\n",
    "    acc_list.append(train_accuracy)\n",
    "    print(f\"Epoch {epoch+1}/{epochs}, Avg Loss: {avg_loss:.4f}, Train Accuracy: {train_accuracy:.4f}\")\n"
   ]
  },
  {
   "cell_type": "code",
   "execution_count": 37,
   "id": "5060cc4b-2b9c-4d61-bbc7-918141f825b6",
   "metadata": {},
   "outputs": [
    {
     "data": {
      "image/png": "[encoded data removed]",
      "text/plain": [
       "<Figure size 1400x600 with 2 Axes>"
      ]
     },
     "metadata": {},
     "output_type": "display_data"
    }
   ],
   "source": [
    "import matplotlib.pyplot as plt\n",
    "# Plot loss and accuracy for both training and validation\n",
    "plt.figure(figsize=(14, 6))\n",
    "\n",
    "# Loss plot\n",
    "plt.subplot(1, 2, 1)\n",
    "plt.plot(range(epochs), loss_list, label=\"Train Loss\", color=\"red\")\n",
    "plt.xlabel(\"Epochs\")\n",
    "plt.ylabel(\"Loss\")\n",
    "plt.title(\"Loss over Epochs\")\n",
    "plt.grid(True)\n",
    "plt.legend()\n",
    "\n",
    "# Accuracy plot\n",
    "plt.subplot(1, 2, 2)\n",
    "plt.plot(range(epochs), acc_list, label=\"Train Accuracy\", color=\"blue\")\n",
    "plt.xlabel(\"Epochs\")\n",
    "plt.ylabel(\"Accuracy\")\n",
    "plt.title(\"Accuracy over Epochs\")\n",
    "plt.grid(True)\n",
    "plt.legend()\n",
    "\n",
    "plt.tight_layout()\n",
    "plt.show()"
   ]
  },
  {
   "cell_type": "code",
   "execution_count": 38,
   "id": "5dd5ae1b-d8d4-403e-b692-9cafd63ddb9f",
   "metadata": {},
   "outputs": [],
   "source": [
    "gcn_loss_list = loss_list.copy()\n",
    "gcn_acc_list = acc_list.copy()"
   ]
  },
  {
   "cell_type": "code",
   "execution_count": 39,
   "id": "8e059367-e71f-4e83-a398-074314c7144e",
   "metadata": {},
   "outputs": [
    {
     "name": "stdout",
     "output_type": "stream",
     "text": [
      "Test Accuracy: 0.9997\n",
      "\n",
      "Classification Report:\n",
      "              precision    recall  f1-score   support\n",
      "\n",
      "      Benign     0.1089    1.0000    0.1964        22\n",
      "      Attack     1.0000    0.9997    0.9998    548918\n",
      "\n",
      "    accuracy                         0.9997    548940\n",
      "   macro avg     0.5545    0.9998    0.5981    548940\n",
      "weighted avg     1.0000    0.9997    0.9998    548940\n",
      "\n"
     ]
    }
   ],
   "source": [
    "from sklearn.metrics import classification_report\n",
    "\n",
    "model.eval()\n",
    "correct, total = 0, 0\n",
    "all_predictions = []\n",
    "all_targets = []\n",
    "\n",
    "with torch.no_grad():\n",
    "    for batch in test_loader:\n",
    "        batch = batch.to(device)\n",
    "        outputs = model(batch.x, batch.edge_index, batch.edge_attr)\n",
    "        _, predicted = torch.max(outputs, 1)\n",
    "        correct += (predicted == batch.y).sum().item()\n",
    "        total += batch.y.size(0)\n",
    "\n",
    "        # Store for classification report\n",
    "        all_predictions.extend(predicted.cpu().numpy())\n",
    "        all_targets.extend(batch.y.cpu().numpy())\n",
    "target_names = [\"Benign\", \"Attack\"]\n",
    "test_accuracy = correct / total\n",
    "print(f\"Test Accuracy: {test_accuracy:.4f}\")\n",
    "\n",
    "# Print Classification Report\n",
    "print(\"\\nClassification Report:\")\n",
    "print(classification_report(all_targets, all_predictions,  target_names= target_names, digits=4))"
   ]
  },
  {
   "cell_type": "markdown",
   "id": "0e52b91a-5283-4667-8667-d1da868cc038",
   "metadata": {},
   "source": [
    "## MPNN"
   ]
  },
  {
   "cell_type": "code",
   "execution_count": 40,
   "id": "77a84782-0f05-45b7-94de-506a5a8f00f5",
   "metadata": {},
   "outputs": [],
   "source": [
    "# Model, Optimizer, Loss\n",
    "device = torch.device('cuda' if torch.cuda.is_available() else 'cpu')\n",
    "gnn_type = \"MPNN\"\n",
    "\n",
    "# Create Model\n",
    "model = EdgeGNN(\n",
    "    in_channels=embedding_dim,\n",
    "    hidden_channels=32,\n",
    "    out_channels=len(labels.unique()),\n",
    "    gnn_type=gnn_type\n",
    ").to(device)\n",
    "\n",
    "optimizer = torch.optim.Adam(model.parameters(), lr=0.003)\n",
    "\n",
    "class_counts = torch.bincount(labels)  # Count occurrences of each class\n",
    "class_weights = 1.0 / class_counts.float()  # Inverse of frequency\n",
    "class_weights = class_weights / class_weights.sum()  # Normalize\n",
    "class_weights = class_weights.to(device)  # Move to GPU if needed\n",
    "criterion = torch.nn.CrossEntropyLoss(weight=class_weights)"
   ]
  },
  {
   "cell_type": "code",
   "execution_count": 41,
   "id": "33bb9c29-289d-455b-b8bc-008c9b2fabb5",
   "metadata": {
    "scrolled": true
   },
   "outputs": [
    {
     "name": "stderr",
     "output_type": "stream",
     "text": [
      "                                                                      \r"
     ]
    },
    {
     "name": "stdout",
     "output_type": "stream",
     "text": [
      "Epoch 1/100, Avg Loss: 0.3867, Train Accuracy: 0.3238\n"
     ]
    },
    {
     "name": "stderr",
     "output_type": "stream",
     "text": [
      "                                                                      \r"
     ]
    },
    {
     "name": "stdout",
     "output_type": "stream",
     "text": [
      "Epoch 2/100, Avg Loss: 0.3660, Train Accuracy: 0.3673\n"
     ]
    },
    {
     "name": "stderr",
     "output_type": "stream",
     "text": [
      "                                                                      \r"
     ]
    },
    {
     "name": "stdout",
     "output_type": "stream",
     "text": [
      "Epoch 3/100, Avg Loss: 0.3505, Train Accuracy: 0.3679\n"
     ]
    },
    {
     "name": "stderr",
     "output_type": "stream",
     "text": [
      "                                                                      \r"
     ]
    },
    {
     "name": "stdout",
     "output_type": "stream",
     "text": [
      "Epoch 4/100, Avg Loss: 0.3386, Train Accuracy: 0.6688\n"
     ]
    },
    {
     "name": "stderr",
     "output_type": "stream",
     "text": [
      "                                                                      \r"
     ]
    },
    {
     "name": "stdout",
     "output_type": "stream",
     "text": [
      "Epoch 5/100, Avg Loss: 0.3284, Train Accuracy: 0.9349\n"
     ]
    },
    {
     "name": "stderr",
     "output_type": "stream",
     "text": [
      "                                                                      \r"
     ]
    },
    {
     "name": "stdout",
     "output_type": "stream",
     "text": [
      "Epoch 6/100, Avg Loss: 0.3191, Train Accuracy: 0.9452\n"
     ]
    },
    {
     "name": "stderr",
     "output_type": "stream",
     "text": [
      "                                                                     \r"
     ]
    },
    {
     "name": "stdout",
     "output_type": "stream",
     "text": [
      "Epoch 7/100, Avg Loss: 0.3103, Train Accuracy: 0.9689\n"
     ]
    },
    {
     "name": "stderr",
     "output_type": "stream",
     "text": [
      "                                                                      \r"
     ]
    },
    {
     "name": "stdout",
     "output_type": "stream",
     "text": [
      "Epoch 8/100, Avg Loss: 0.3018, Train Accuracy: 0.9789\n"
     ]
    },
    {
     "name": "stderr",
     "output_type": "stream",
     "text": [
      "                                                                      \r"
     ]
    },
    {
     "name": "stdout",
     "output_type": "stream",
     "text": [
      "Epoch 9/100, Avg Loss: 0.2933, Train Accuracy: 0.9900\n"
     ]
    },
    {
     "name": "stderr",
     "output_type": "stream",
     "text": [
      "                                                                       \r"
     ]
    },
    {
     "name": "stdout",
     "output_type": "stream",
     "text": [
      "Epoch 10/100, Avg Loss: 0.2845, Train Accuracy: 0.9935\n"
     ]
    },
    {
     "name": "stderr",
     "output_type": "stream",
     "text": [
      "                                                                       \r"
     ]
    },
    {
     "name": "stdout",
     "output_type": "stream",
     "text": [
      "Epoch 11/100, Avg Loss: 0.2752, Train Accuracy: 0.9938\n"
     ]
    },
    {
     "name": "stderr",
     "output_type": "stream",
     "text": [
      "                                                                       \r"
     ]
    },
    {
     "name": "stdout",
     "output_type": "stream",
     "text": [
      "Epoch 12/100, Avg Loss: 0.2654, Train Accuracy: 0.9939\n"
     ]
    },
    {
     "name": "stderr",
     "output_type": "stream",
     "text": [
      "                                                                       \r"
     ]
    },
    {
     "name": "stdout",
     "output_type": "stream",
     "text": [
      "Epoch 13/100, Avg Loss: 0.2551, Train Accuracy: 0.9945\n"
     ]
    },
    {
     "name": "stderr",
     "output_type": "stream",
     "text": [
      "                                                                       \r"
     ]
    },
    {
     "name": "stdout",
     "output_type": "stream",
     "text": [
      "Epoch 14/100, Avg Loss: 0.2444, Train Accuracy: 0.9969\n"
     ]
    },
    {
     "name": "stderr",
     "output_type": "stream",
     "text": [
      "                                                                       \r"
     ]
    },
    {
     "name": "stdout",
     "output_type": "stream",
     "text": [
      "Epoch 15/100, Avg Loss: 0.2331, Train Accuracy: 0.9988\n"
     ]
    },
    {
     "name": "stderr",
     "output_type": "stream",
     "text": [
      "                                                                       \r"
     ]
    },
    {
     "name": "stdout",
     "output_type": "stream",
     "text": [
      "Epoch 16/100, Avg Loss: 0.2216, Train Accuracy: 0.9990\n"
     ]
    },
    {
     "name": "stderr",
     "output_type": "stream",
     "text": [
      "                                                                      \r"
     ]
    },
    {
     "name": "stdout",
     "output_type": "stream",
     "text": [
      "Epoch 17/100, Avg Loss: 0.2097, Train Accuracy: 0.9991\n"
     ]
    },
    {
     "name": "stderr",
     "output_type": "stream",
     "text": [
      "                                                                       \r"
     ]
    },
    {
     "name": "stdout",
     "output_type": "stream",
     "text": [
      "Epoch 18/100, Avg Loss: 0.1976, Train Accuracy: 0.9995\n"
     ]
    },
    {
     "name": "stderr",
     "output_type": "stream",
     "text": [
      "                                                                       \r"
     ]
    },
    {
     "name": "stdout",
     "output_type": "stream",
     "text": [
      "Epoch 19/100, Avg Loss: 0.1853, Train Accuracy: 0.9996\n"
     ]
    },
    {
     "name": "stderr",
     "output_type": "stream",
     "text": [
      "                                                                       \r"
     ]
    },
    {
     "name": "stdout",
     "output_type": "stream",
     "text": [
      "Epoch 20/100, Avg Loss: 0.1728, Train Accuracy: 0.9996\n"
     ]
    },
    {
     "name": "stderr",
     "output_type": "stream",
     "text": [
      "                                                                      \r"
     ]
    },
    {
     "name": "stdout",
     "output_type": "stream",
     "text": [
      "Epoch 21/100, Avg Loss: 0.1603, Train Accuracy: 0.9997\n"
     ]
    },
    {
     "name": "stderr",
     "output_type": "stream",
     "text": [
      "                                                                       \r"
     ]
    },
    {
     "name": "stdout",
     "output_type": "stream",
     "text": [
      "Epoch 22/100, Avg Loss: 0.1479, Train Accuracy: 0.9997\n"
     ]
    },
    {
     "name": "stderr",
     "output_type": "stream",
     "text": [
      "                                                                       \r"
     ]
    },
    {
     "name": "stdout",
     "output_type": "stream",
     "text": [
      "Epoch 23/100, Avg Loss: 0.1356, Train Accuracy: 0.9998\n"
     ]
    },
    {
     "name": "stderr",
     "output_type": "stream",
     "text": [
      "                                                                       \r"
     ]
    },
    {
     "name": "stdout",
     "output_type": "stream",
     "text": [
      "Epoch 24/100, Avg Loss: 0.1236, Train Accuracy: 0.9998\n"
     ]
    },
    {
     "name": "stderr",
     "output_type": "stream",
     "text": [
      "                                                                       \r"
     ]
    },
    {
     "name": "stdout",
     "output_type": "stream",
     "text": [
      "Epoch 25/100, Avg Loss: 0.1120, Train Accuracy: 0.9998\n"
     ]
    },
    {
     "name": "stderr",
     "output_type": "stream",
     "text": [
      "                                                                       \r"
     ]
    },
    {
     "name": "stdout",
     "output_type": "stream",
     "text": [
      "Epoch 26/100, Avg Loss: 0.1009, Train Accuracy: 0.9998\n"
     ]
    },
    {
     "name": "stderr",
     "output_type": "stream",
     "text": [
      "                                                                        \r"
     ]
    },
    {
     "name": "stdout",
     "output_type": "stream",
     "text": [
      "Epoch 27/100, Avg Loss: 0.0903, Train Accuracy: 0.9998\n"
     ]
    },
    {
     "name": "stderr",
     "output_type": "stream",
     "text": [
      "                                                                        \r"
     ]
    },
    {
     "name": "stdout",
     "output_type": "stream",
     "text": [
      "Epoch 28/100, Avg Loss: 0.0804, Train Accuracy: 0.9998\n"
     ]
    },
    {
     "name": "stderr",
     "output_type": "stream",
     "text": [
      "                                                                        \r"
     ]
    },
    {
     "name": "stdout",
     "output_type": "stream",
     "text": [
      "Epoch 29/100, Avg Loss: 0.0711, Train Accuracy: 0.9998\n"
     ]
    },
    {
     "name": "stderr",
     "output_type": "stream",
     "text": [
      "                                                                        \r"
     ]
    },
    {
     "name": "stdout",
     "output_type": "stream",
     "text": [
      "Epoch 30/100, Avg Loss: 0.0625, Train Accuracy: 0.9998\n"
     ]
    },
    {
     "name": "stderr",
     "output_type": "stream",
     "text": [
      "                                                                        \r"
     ]
    },
    {
     "name": "stdout",
     "output_type": "stream",
     "text": [
      "Epoch 31/100, Avg Loss: 0.0546, Train Accuracy: 0.9998\n"
     ]
    },
    {
     "name": "stderr",
     "output_type": "stream",
     "text": [
      "                                                                        \r"
     ]
    },
    {
     "name": "stdout",
     "output_type": "stream",
     "text": [
      "Epoch 32/100, Avg Loss: 0.0474, Train Accuracy: 0.9998\n"
     ]
    },
    {
     "name": "stderr",
     "output_type": "stream",
     "text": [
      "                                                                        \r"
     ]
    },
    {
     "name": "stdout",
     "output_type": "stream",
     "text": [
      "Epoch 33/100, Avg Loss: 0.0411, Train Accuracy: 0.9998\n"
     ]
    },
    {
     "name": "stderr",
     "output_type": "stream",
     "text": [
      "                                                                        \r"
     ]
    },
    {
     "name": "stdout",
     "output_type": "stream",
     "text": [
      "Epoch 34/100, Avg Loss: 0.0355, Train Accuracy: 0.9998\n"
     ]
    },
    {
     "name": "stderr",
     "output_type": "stream",
     "text": [
      "                                                                        \r"
     ]
    },
    {
     "name": "stdout",
     "output_type": "stream",
     "text": [
      "Epoch 35/100, Avg Loss: 0.0307, Train Accuracy: 0.9998\n"
     ]
    },
    {
     "name": "stderr",
     "output_type": "stream",
     "text": [
      "                                                                        \r"
     ]
    },
    {
     "name": "stdout",
     "output_type": "stream",
     "text": [
      "Epoch 36/100, Avg Loss: 0.0265, Train Accuracy: 0.9998\n"
     ]
    },
    {
     "name": "stderr",
     "output_type": "stream",
     "text": [
      "                                                                       \r"
     ]
    },
    {
     "name": "stdout",
     "output_type": "stream",
     "text": [
      "Epoch 37/100, Avg Loss: 0.0230, Train Accuracy: 0.9998\n"
     ]
    },
    {
     "name": "stderr",
     "output_type": "stream",
     "text": [
      "                                                                      \r"
     ]
    },
    {
     "name": "stdout",
     "output_type": "stream",
     "text": [
      "Epoch 38/100, Avg Loss: 0.0200, Train Accuracy: 0.9998\n"
     ]
    },
    {
     "name": "stderr",
     "output_type": "stream",
     "text": [
      "                                                                        \r"
     ]
    },
    {
     "name": "stdout",
     "output_type": "stream",
     "text": [
      "Epoch 39/100, Avg Loss: 0.0175, Train Accuracy: 0.9998\n"
     ]
    },
    {
     "name": "stderr",
     "output_type": "stream",
     "text": [
      "                                                                        \r"
     ]
    },
    {
     "name": "stdout",
     "output_type": "stream",
     "text": [
      "Epoch 40/100, Avg Loss: 0.0153, Train Accuracy: 0.9998\n"
     ]
    },
    {
     "name": "stderr",
     "output_type": "stream",
     "text": [
      "                                                                        \r"
     ]
    },
    {
     "name": "stdout",
     "output_type": "stream",
     "text": [
      "Epoch 41/100, Avg Loss: 0.0135, Train Accuracy: 0.9998\n"
     ]
    },
    {
     "name": "stderr",
     "output_type": "stream",
     "text": [
      "                                                                       \r"
     ]
    },
    {
     "name": "stdout",
     "output_type": "stream",
     "text": [
      "Epoch 42/100, Avg Loss: 0.0120, Train Accuracy: 0.9998\n"
     ]
    },
    {
     "name": "stderr",
     "output_type": "stream",
     "text": [
      "                                                                        \r"
     ]
    },
    {
     "name": "stdout",
     "output_type": "stream",
     "text": [
      "Epoch 43/100, Avg Loss: 0.0108, Train Accuracy: 0.9998\n"
     ]
    },
    {
     "name": "stderr",
     "output_type": "stream",
     "text": [
      "                                                                         \r"
     ]
    },
    {
     "name": "stdout",
     "output_type": "stream",
     "text": [
      "Epoch 44/100, Avg Loss: 0.0097, Train Accuracy: 0.9998\n"
     ]
    },
    {
     "name": "stderr",
     "output_type": "stream",
     "text": [
      "                                                                         \r"
     ]
    },
    {
     "name": "stdout",
     "output_type": "stream",
     "text": [
      "Epoch 45/100, Avg Loss: 0.0088, Train Accuracy: 0.9998\n"
     ]
    },
    {
     "name": "stderr",
     "output_type": "stream",
     "text": [
      "                                                                         \r"
     ]
    },
    {
     "name": "stdout",
     "output_type": "stream",
     "text": [
      "Epoch 46/100, Avg Loss: 0.0080, Train Accuracy: 0.9998\n"
     ]
    },
    {
     "name": "stderr",
     "output_type": "stream",
     "text": [
      "                                                                         \r"
     ]
    },
    {
     "name": "stdout",
     "output_type": "stream",
     "text": [
      "Epoch 47/100, Avg Loss: 0.0073, Train Accuracy: 0.9998\n"
     ]
    },
    {
     "name": "stderr",
     "output_type": "stream",
     "text": [
      "                                                                         \r"
     ]
    },
    {
     "name": "stdout",
     "output_type": "stream",
     "text": [
      "Epoch 48/100, Avg Loss: 0.0067, Train Accuracy: 0.9998\n"
     ]
    },
    {
     "name": "stderr",
     "output_type": "stream",
     "text": [
      "                                                                         \r"
     ]
    },
    {
     "name": "stdout",
     "output_type": "stream",
     "text": [
      "Epoch 49/100, Avg Loss: 0.0062, Train Accuracy: 0.9998\n"
     ]
    },
    {
     "name": "stderr",
     "output_type": "stream",
     "text": [
      "                                                                         \r"
     ]
    },
    {
     "name": "stdout",
     "output_type": "stream",
     "text": [
      "Epoch 50/100, Avg Loss: 0.0057, Train Accuracy: 0.9998\n"
     ]
    },
    {
     "name": "stderr",
     "output_type": "stream",
     "text": [
      "                                                                         \r"
     ]
    },
    {
     "name": "stdout",
     "output_type": "stream",
     "text": [
      "Epoch 51/100, Avg Loss: 0.0053, Train Accuracy: 0.9998\n"
     ]
    },
    {
     "name": "stderr",
     "output_type": "stream",
     "text": [
      "                                                                         \r"
     ]
    },
    {
     "name": "stdout",
     "output_type": "stream",
     "text": [
      "Epoch 52/100, Avg Loss: 0.0050, Train Accuracy: 0.9998\n"
     ]
    },
    {
     "name": "stderr",
     "output_type": "stream",
     "text": [
      "                                                                         \r"
     ]
    },
    {
     "name": "stdout",
     "output_type": "stream",
     "text": [
      "Epoch 53/100, Avg Loss: 0.0047, Train Accuracy: 0.9998\n"
     ]
    },
    {
     "name": "stderr",
     "output_type": "stream",
     "text": [
      "                                                                         \r"
     ]
    },
    {
     "name": "stdout",
     "output_type": "stream",
     "text": [
      "Epoch 54/100, Avg Loss: 0.0044, Train Accuracy: 0.9998\n"
     ]
    },
    {
     "name": "stderr",
     "output_type": "stream",
     "text": [
      "                                                                         \r"
     ]
    },
    {
     "name": "stdout",
     "output_type": "stream",
     "text": [
      "Epoch 55/100, Avg Loss: 0.0041, Train Accuracy: 0.9998\n"
     ]
    },
    {
     "name": "stderr",
     "output_type": "stream",
     "text": [
      "                                                                        \r"
     ]
    },
    {
     "name": "stdout",
     "output_type": "stream",
     "text": [
      "Epoch 56/100, Avg Loss: 0.0039, Train Accuracy: 0.9998\n"
     ]
    },
    {
     "name": "stderr",
     "output_type": "stream",
     "text": [
      "                                                                        \r"
     ]
    },
    {
     "name": "stdout",
     "output_type": "stream",
     "text": [
      "Epoch 57/100, Avg Loss: 0.0037, Train Accuracy: 0.9998\n"
     ]
    },
    {
     "name": "stderr",
     "output_type": "stream",
     "text": [
      "                                                                         \r"
     ]
    },
    {
     "name": "stdout",
     "output_type": "stream",
     "text": [
      "Epoch 58/100, Avg Loss: 0.0035, Train Accuracy: 0.9998\n"
     ]
    },
    {
     "name": "stderr",
     "output_type": "stream",
     "text": [
      "                                                                         \r"
     ]
    },
    {
     "name": "stdout",
     "output_type": "stream",
     "text": [
      "Epoch 59/100, Avg Loss: 0.0034, Train Accuracy: 0.9998\n"
     ]
    },
    {
     "name": "stderr",
     "output_type": "stream",
     "text": [
      "                                                                         \r"
     ]
    },
    {
     "name": "stdout",
     "output_type": "stream",
     "text": [
      "Epoch 60/100, Avg Loss: 0.0032, Train Accuracy: 0.9998\n"
     ]
    },
    {
     "name": "stderr",
     "output_type": "stream",
     "text": [
      "                                                                        \r"
     ]
    },
    {
     "name": "stdout",
     "output_type": "stream",
     "text": [
      "Epoch 61/100, Avg Loss: 0.0031, Train Accuracy: 0.9998\n"
     ]
    },
    {
     "name": "stderr",
     "output_type": "stream",
     "text": [
      "                                                                         \r"
     ]
    },
    {
     "name": "stdout",
     "output_type": "stream",
     "text": [
      "Epoch 62/100, Avg Loss: 0.0030, Train Accuracy: 0.9998\n"
     ]
    },
    {
     "name": "stderr",
     "output_type": "stream",
     "text": [
      "                                                                         \r"
     ]
    },
    {
     "name": "stdout",
     "output_type": "stream",
     "text": [
      "Epoch 63/100, Avg Loss: 0.0029, Train Accuracy: 0.9998\n"
     ]
    },
    {
     "name": "stderr",
     "output_type": "stream",
     "text": [
      "                                                                         \r"
     ]
    },
    {
     "name": "stdout",
     "output_type": "stream",
     "text": [
      "Epoch 64/100, Avg Loss: 0.0028, Train Accuracy: 0.9998\n"
     ]
    },
    {
     "name": "stderr",
     "output_type": "stream",
     "text": [
      "                                                                         \r"
     ]
    },
    {
     "name": "stdout",
     "output_type": "stream",
     "text": [
      "Epoch 65/100, Avg Loss: 0.0027, Train Accuracy: 0.9998\n"
     ]
    },
    {
     "name": "stderr",
     "output_type": "stream",
     "text": [
      "                                                                         \r"
     ]
    },
    {
     "name": "stdout",
     "output_type": "stream",
     "text": [
      "Epoch 66/100, Avg Loss: 0.0026, Train Accuracy: 0.9998\n"
     ]
    },
    {
     "name": "stderr",
     "output_type": "stream",
     "text": [
      "                                                                         \r"
     ]
    },
    {
     "name": "stdout",
     "output_type": "stream",
     "text": [
      "Epoch 67/100, Avg Loss: 0.0025, Train Accuracy: 0.9998\n"
     ]
    },
    {
     "name": "stderr",
     "output_type": "stream",
     "text": [
      "                                                                         \r"
     ]
    },
    {
     "name": "stdout",
     "output_type": "stream",
     "text": [
      "Epoch 68/100, Avg Loss: 0.0025, Train Accuracy: 0.9998\n"
     ]
    },
    {
     "name": "stderr",
     "output_type": "stream",
     "text": [
      "                                                                         \r"
     ]
    },
    {
     "name": "stdout",
     "output_type": "stream",
     "text": [
      "Epoch 69/100, Avg Loss: 0.0024, Train Accuracy: 0.9998\n"
     ]
    },
    {
     "name": "stderr",
     "output_type": "stream",
     "text": [
      "                                                                         \r"
     ]
    },
    {
     "name": "stdout",
     "output_type": "stream",
     "text": [
      "Epoch 70/100, Avg Loss: 0.0023, Train Accuracy: 0.9998\n"
     ]
    },
    {
     "name": "stderr",
     "output_type": "stream",
     "text": [
      "                                                                         \r"
     ]
    },
    {
     "name": "stdout",
     "output_type": "stream",
     "text": [
      "Epoch 71/100, Avg Loss: 0.0023, Train Accuracy: 0.9998\n"
     ]
    },
    {
     "name": "stderr",
     "output_type": "stream",
     "text": [
      "                                                                         \r"
     ]
    },
    {
     "name": "stdout",
     "output_type": "stream",
     "text": [
      "Epoch 72/100, Avg Loss: 0.0022, Train Accuracy: 0.9998\n"
     ]
    },
    {
     "name": "stderr",
     "output_type": "stream",
     "text": [
      "                                                                         \r"
     ]
    },
    {
     "name": "stdout",
     "output_type": "stream",
     "text": [
      "Epoch 73/100, Avg Loss: 0.0021, Train Accuracy: 0.9998\n"
     ]
    },
    {
     "name": "stderr",
     "output_type": "stream",
     "text": [
      "                                                                         \r"
     ]
    },
    {
     "name": "stdout",
     "output_type": "stream",
     "text": [
      "Epoch 74/100, Avg Loss: 0.0021, Train Accuracy: 0.9998\n"
     ]
    },
    {
     "name": "stderr",
     "output_type": "stream",
     "text": [
      "                                                                         \r"
     ]
    },
    {
     "name": "stdout",
     "output_type": "stream",
     "text": [
      "Epoch 75/100, Avg Loss: 0.0020, Train Accuracy: 0.9998\n"
     ]
    },
    {
     "name": "stderr",
     "output_type": "stream",
     "text": [
      "                                                                         \r"
     ]
    },
    {
     "name": "stdout",
     "output_type": "stream",
     "text": [
      "Epoch 76/100, Avg Loss: 0.0020, Train Accuracy: 0.9998\n"
     ]
    },
    {
     "name": "stderr",
     "output_type": "stream",
     "text": [
      "                                                                         \r"
     ]
    },
    {
     "name": "stdout",
     "output_type": "stream",
     "text": [
      "Epoch 77/100, Avg Loss: 0.0019, Train Accuracy: 0.9998\n"
     ]
    },
    {
     "name": "stderr",
     "output_type": "stream",
     "text": [
      "                                                                        \r"
     ]
    },
    {
     "name": "stdout",
     "output_type": "stream",
     "text": [
      "Epoch 78/100, Avg Loss: 0.0019, Train Accuracy: 0.9998\n"
     ]
    },
    {
     "name": "stderr",
     "output_type": "stream",
     "text": [
      "                                                                         \r"
     ]
    },
    {
     "name": "stdout",
     "output_type": "stream",
     "text": [
      "Epoch 79/100, Avg Loss: 0.0019, Train Accuracy: 0.9998\n"
     ]
    },
    {
     "name": "stderr",
     "output_type": "stream",
     "text": [
      "                                                                         \r"
     ]
    },
    {
     "name": "stdout",
     "output_type": "stream",
     "text": [
      "Epoch 80/100, Avg Loss: 0.0018, Train Accuracy: 0.9998\n"
     ]
    },
    {
     "name": "stderr",
     "output_type": "stream",
     "text": [
      "                                                                         \r"
     ]
    },
    {
     "name": "stdout",
     "output_type": "stream",
     "text": [
      "Epoch 81/100, Avg Loss: 0.0018, Train Accuracy: 0.9998\n"
     ]
    },
    {
     "name": "stderr",
     "output_type": "stream",
     "text": [
      "                                                                         \r"
     ]
    },
    {
     "name": "stdout",
     "output_type": "stream",
     "text": [
      "Epoch 82/100, Avg Loss: 0.0017, Train Accuracy: 0.9998\n"
     ]
    },
    {
     "name": "stderr",
     "output_type": "stream",
     "text": [
      "                                                                         \r"
     ]
    },
    {
     "name": "stdout",
     "output_type": "stream",
     "text": [
      "Epoch 83/100, Avg Loss: 0.0017, Train Accuracy: 0.9998\n"
     ]
    },
    {
     "name": "stderr",
     "output_type": "stream",
     "text": [
      "                                                                         \r"
     ]
    },
    {
     "name": "stdout",
     "output_type": "stream",
     "text": [
      "Epoch 84/100, Avg Loss: 0.0017, Train Accuracy: 0.9998\n"
     ]
    },
    {
     "name": "stderr",
     "output_type": "stream",
     "text": [
      "                                                                         \r"
     ]
    },
    {
     "name": "stdout",
     "output_type": "stream",
     "text": [
      "Epoch 85/100, Avg Loss: 0.0016, Train Accuracy: 0.9998\n"
     ]
    },
    {
     "name": "stderr",
     "output_type": "stream",
     "text": [
      "                                                                         \r"
     ]
    },
    {
     "name": "stdout",
     "output_type": "stream",
     "text": [
      "Epoch 86/100, Avg Loss: 0.0016, Train Accuracy: 0.9998\n"
     ]
    },
    {
     "name": "stderr",
     "output_type": "stream",
     "text": [
      "                                                                         \r"
     ]
    },
    {
     "name": "stdout",
     "output_type": "stream",
     "text": [
      "Epoch 87/100, Avg Loss: 0.0016, Train Accuracy: 0.9998\n"
     ]
    },
    {
     "name": "stderr",
     "output_type": "stream",
     "text": [
      "                                                                         \r"
     ]
    },
    {
     "name": "stdout",
     "output_type": "stream",
     "text": [
      "Epoch 88/100, Avg Loss: 0.0015, Train Accuracy: 0.9998\n"
     ]
    },
    {
     "name": "stderr",
     "output_type": "stream",
     "text": [
      "                                                                        \r"
     ]
    },
    {
     "name": "stdout",
     "output_type": "stream",
     "text": [
      "Epoch 89/100, Avg Loss: 0.0015, Train Accuracy: 0.9998\n"
     ]
    },
    {
     "name": "stderr",
     "output_type": "stream",
     "text": [
      "                                                                         \r"
     ]
    },
    {
     "name": "stdout",
     "output_type": "stream",
     "text": [
      "Epoch 90/100, Avg Loss: 0.0015, Train Accuracy: 0.9998\n"
     ]
    },
    {
     "name": "stderr",
     "output_type": "stream",
     "text": [
      "                                                                         \r"
     ]
    },
    {
     "name": "stdout",
     "output_type": "stream",
     "text": [
      "Epoch 91/100, Avg Loss: 0.0014, Train Accuracy: 0.9998\n"
     ]
    },
    {
     "name": "stderr",
     "output_type": "stream",
     "text": [
      "                                                                         \r"
     ]
    },
    {
     "name": "stdout",
     "output_type": "stream",
     "text": [
      "Epoch 92/100, Avg Loss: 0.0014, Train Accuracy: 0.9998\n"
     ]
    },
    {
     "name": "stderr",
     "output_type": "stream",
     "text": [
      "                                                                         \r"
     ]
    },
    {
     "name": "stdout",
     "output_type": "stream",
     "text": [
      "Epoch 93/100, Avg Loss: 0.0014, Train Accuracy: 0.9998\n"
     ]
    },
    {
     "name": "stderr",
     "output_type": "stream",
     "text": [
      "                                                                         \r"
     ]
    },
    {
     "name": "stdout",
     "output_type": "stream",
     "text": [
      "Epoch 94/100, Avg Loss: 0.0014, Train Accuracy: 0.9998\n"
     ]
    },
    {
     "name": "stderr",
     "output_type": "stream",
     "text": [
      "                                                                         \r"
     ]
    },
    {
     "name": "stdout",
     "output_type": "stream",
     "text": [
      "Epoch 95/100, Avg Loss: 0.0013, Train Accuracy: 0.9998\n"
     ]
    },
    {
     "name": "stderr",
     "output_type": "stream",
     "text": [
      "                                                                        \r"
     ]
    },
    {
     "name": "stdout",
     "output_type": "stream",
     "text": [
      "Epoch 96/100, Avg Loss: 0.0013, Train Accuracy: 0.9998\n"
     ]
    },
    {
     "name": "stderr",
     "output_type": "stream",
     "text": [
      "                                                                         \r"
     ]
    },
    {
     "name": "stdout",
     "output_type": "stream",
     "text": [
      "Epoch 97/100, Avg Loss: 0.0013, Train Accuracy: 0.9998\n"
     ]
    },
    {
     "name": "stderr",
     "output_type": "stream",
     "text": [
      "                                                                         \r"
     ]
    },
    {
     "name": "stdout",
     "output_type": "stream",
     "text": [
      "Epoch 98/100, Avg Loss: 0.0012, Train Accuracy: 0.9998\n"
     ]
    },
    {
     "name": "stderr",
     "output_type": "stream",
     "text": [
      "                                                                         \r"
     ]
    },
    {
     "name": "stdout",
     "output_type": "stream",
     "text": [
      "Epoch 99/100, Avg Loss: 0.0012, Train Accuracy: 0.9998\n"
     ]
    },
    {
     "name": "stderr",
     "output_type": "stream",
     "text": [
      "                                                                          "
     ]
    },
    {
     "name": "stdout",
     "output_type": "stream",
     "text": [
      "Epoch 100/100, Avg Loss: 0.0012, Train Accuracy: 0.9998\n"
     ]
    },
    {
     "name": "stderr",
     "output_type": "stream",
     "text": [
      "\r"
     ]
    }
   ],
   "source": [
    "\n",
    "# Train the Model\n",
    "epochs = 100\n",
    "loss_list, acc_list = [], []\n",
    "\n",
    "for epoch in range(epochs):\n",
    "    model.train()\n",
    "    total_loss, correct, total = 0, 0, 0\n",
    "\n",
    "    train_loader_tqdm = tqdm(train_loader, desc=f\"Epoch {epoch+1}/{epochs}\", leave=False)\n",
    "    for batch in train_loader_tqdm:\n",
    "        batch = batch.to(device)\n",
    "        optimizer.zero_grad()\n",
    "        outputs = model(batch.x, batch.edge_index, batch.edge_attr)\n",
    "        loss = criterion(outputs, batch.y)\n",
    "        loss.backward()\n",
    "        optimizer.step()\n",
    "        total_loss += loss.item()\n",
    "\n",
    "        # Compute Accuracy\n",
    "        _, predicted = torch.max(outputs, 1)\n",
    "        correct += (predicted == batch.y).sum().item()\n",
    "        total += batch.y.size(0)\n",
    "        train_loader_tqdm.set_postfix(loss=loss.item())\n",
    "\n",
    "    avg_loss = total_loss / len(train_loader)\n",
    "    train_accuracy = correct / total\n",
    "    loss_list.append(avg_loss)\n",
    "    acc_list.append(train_accuracy)\n",
    "    print(f\"Epoch {epoch+1}/{epochs}, Avg Loss: {avg_loss:.4f}, Train Accuracy: {train_accuracy:.4f}\")\n"
   ]
  },
  {
   "cell_type": "code",
   "execution_count": 42,
   "id": "cea4561d-84e6-4b28-9994-ec805baa1c24",
   "metadata": {},
   "outputs": [
    {
     "data": {
      "image/png": "[encoded data removed]",
      "text/plain": [
       "<Figure size 1400x600 with 2 Axes>"
      ]
     },
     "metadata": {},
     "output_type": "display_data"
    }
   ],
   "source": [
    "import matplotlib.pyplot as plt\n",
    "# Plot loss and accuracy for both training and validation\n",
    "plt.figure(figsize=(14, 6))\n",
    "\n",
    "# Loss plot\n",
    "plt.subplot(1, 2, 1)\n",
    "plt.plot(range(epochs), loss_list, label=\"Train Loss\", color=\"red\")\n",
    "plt.xlabel(\"Epochs\")\n",
    "plt.ylabel(\"Loss\")\n",
    "plt.title(\"Loss over Epochs\")\n",
    "plt.grid(True)\n",
    "plt.legend()\n",
    "\n",
    "# Accuracy plot\n",
    "plt.subplot(1, 2, 2)\n",
    "plt.plot(range(epochs), acc_list, label=\"Train Accuracy\", color=\"blue\")\n",
    "plt.xlabel(\"Epochs\")\n",
    "plt.ylabel(\"Accuracy\")\n",
    "plt.title(\"Accuracy over Epochs\")\n",
    "plt.grid(True)\n",
    "plt.legend()\n",
    "\n",
    "plt.tight_layout()\n",
    "plt.show()"
   ]
  },
  {
   "cell_type": "code",
   "execution_count": 43,
   "id": "54f09a5d-372f-4056-bd2a-2623eae80978",
   "metadata": {},
   "outputs": [],
   "source": [
    "mpnn_loss_list = loss_list.copy()\n",
    "mpnn_acc_list = acc_list.copy()"
   ]
  },
  {
   "cell_type": "code",
   "execution_count": 44,
   "id": "3dd8ee9e-e304-49f7-b377-515ac3f36c82",
   "metadata": {},
   "outputs": [
    {
     "name": "stdout",
     "output_type": "stream",
     "text": [
      "Test Accuracy: 0.9998\n",
      "\n",
      "Classification Report:\n",
      "              precision    recall  f1-score   support\n",
      "\n",
      "      Benign     0.0808    0.3636    0.1322        22\n",
      "      Attack     1.0000    0.9998    0.9999    548918\n",
      "\n",
      "    accuracy                         0.9998    548940\n",
      "   macro avg     0.5404    0.6817    0.5661    548940\n",
      "weighted avg     0.9999    0.9998    0.9999    548940\n",
      "\n"
     ]
    }
   ],
   "source": [
    "from sklearn.metrics import classification_report\n",
    "\n",
    "model.eval()\n",
    "correct, total = 0, 0\n",
    "all_predictions = []\n",
    "all_targets = []\n",
    "\n",
    "with torch.no_grad():\n",
    "    for batch in test_loader:\n",
    "        batch = batch.to(device)\n",
    "        outputs = model(batch.x, batch.edge_index, batch.edge_attr)\n",
    "        _, predicted = torch.max(outputs, 1)\n",
    "        correct += (predicted == batch.y).sum().item()\n",
    "        total += batch.y.size(0)\n",
    "\n",
    "        # Store for classification report\n",
    "        all_predictions.extend(predicted.cpu().numpy())\n",
    "        all_targets.extend(batch.y.cpu().numpy())\n",
    "target_names = [\"Benign\", \"Attack\"]\n",
    "test_accuracy = correct / total\n",
    "print(f\"Test Accuracy: {test_accuracy:.4f}\")\n",
    "\n",
    "# Print Classification Report\n",
    "print(\"\\nClassification Report:\")\n",
    "print(classification_report(all_targets, all_predictions,  target_names= target_names, digits=4))"
   ]
  },
  {
   "cell_type": "code",
   "execution_count": null,
   "id": "97d0af11-b176-4065-a442-3bfa5812b63a",
   "metadata": {},
   "outputs": [],
   "source": []
  },
  {
   "cell_type": "markdown",
   "id": "8c366da3-512c-4314-afe1-48b42e1bcb97",
   "metadata": {},
   "source": [
    "## Graph-transformer"
   ]
  },
  {
   "cell_type": "code",
   "execution_count": 46,
   "id": "ec0a2539-6d7e-4c77-9272-34cae4052f3c",
   "metadata": {
    "scrolled": true
   },
   "outputs": [],
   "source": [
    "import torch\n",
    "import torch.nn.functional as F\n",
    "from torch_geometric.nn import TransformerConv\n",
    "\n",
    "class GraphTransformer(torch.nn.Module):\n",
    "    def __init__(self, in_channels, hidden_channels, out_channels, num_heads=4, num_layers=2):\n",
    "        super(GraphTransformer, self).__init__()\n",
    "        \n",
    "        self.num_heads = num_heads\n",
    "        self.hidden_dim = hidden_channels\n",
    "\n",
    "        # Add an edge attribute projection layer\n",
    "        self.edge_encoder = torch.nn.Linear(edge_attr.shape[1], hidden_channels * num_heads)\n",
    "\n",
    "        # Initialize TransformerConv layers\n",
    "        self.layers = torch.nn.ModuleList()\n",
    "        self.layers.append(TransformerConv(in_channels, hidden_channels, heads=num_heads, concat=True))\n",
    "        for _ in range(num_layers - 1):\n",
    "            self.layers.append(TransformerConv(hidden_channels * num_heads, hidden_channels, heads=num_heads, concat=True))\n",
    "        \n",
    "        # Dynamically compute input size for edge_mlp\n",
    "        self.edge_mlp_input_dim = 2 * (hidden_channels * 2 + (hidden_channels * num_heads))\n",
    "        self.edge_mlp = torch.nn.Linear(self.edge_mlp_input_dim, out_channels)\n",
    "    def forward(self, x, edge_index, edge_attr):\n",
    "        # Project edge_attr to the required size\n",
    "        if edge_attr is not None:\n",
    "            # Project edge_attr to [num_edges, hidden_dim * num_heads]\n",
    "            edge_attr = self.edge_encoder(edge_attr)\n",
    "            \n",
    "            # Reshape edge_attr to [num_edges, num_heads, hidden_dim]\n",
    "            edge_attr = edge_attr.view(-1, self.num_heads, self.hidden_dim)\n",
    "    \n",
    "        # Pass through TransformerConv layers\n",
    "        for layer in self.layers:\n",
    "            x = F.relu(layer(x, edge_index, edge_attr))\n",
    "        \n",
    "        # Compute Edge Embeddings\n",
    "        src, dst = edge_index\n",
    "        edge_embeddings = torch.cat([x[src], x[dst], edge_attr.view(-1, self.hidden_dim * self.num_heads)], dim=1)\n",
    "        \n",
    "        \n",
    "        # Predict Edge Labels\n",
    "        edge_logits = self.edge_mlp(edge_embeddings)\n",
    "        return edge_logits\n",
    "\n",
    "\n",
    "\n",
    "# Initialize the model\n",
    "device = torch.device('cuda' if torch.cuda.is_available() else 'cpu')\n",
    "model = GraphTransformer(\n",
    "    in_channels=node_features.embedding_dim,  # Dimension of node features\n",
    "    hidden_channels=32,                       # Hidden layer size\n",
    "    out_channels=len(labels.unique()),        # Number of output classes\n",
    "    num_heads=4,                              # Number of attention heads\n",
    "    num_layers=2                              # Number of Transformer layers\n",
    ").to(device)\n",
    "\n",
    "# Optimizer\n",
    "optimizer = torch.optim.Adam(model.parameters(), lr=0.003)\n",
    "\n",
    "# Weighted Loss Function for Class Imbalance\n",
    "class_counts = torch.bincount(labels)\n",
    "class_weights = 1.0 / class_counts.float()\n",
    "class_weights = class_weights / class_weights.sum()\n",
    "class_weights = class_weights.to(device)\n",
    "criterion = torch.nn.CrossEntropyLoss(weight=class_weights)\n"
   ]
  },
  {
   "cell_type": "code",
   "execution_count": 47,
   "id": "f835ba74-8496-45ae-a5d9-4e06cafe9141",
   "metadata": {
    "scrolled": true
   },
   "outputs": [
    {
     "name": "stderr",
     "output_type": "stream",
     "text": [
      "                                                                    \r"
     ]
    },
    {
     "name": "stdout",
     "output_type": "stream",
     "text": [
      "Epoch 1/100, Avg Loss: 1.5988, Train Accuracy: 0.4567\n"
     ]
    },
    {
     "name": "stderr",
     "output_type": "stream",
     "text": [
      "                                                                     \r"
     ]
    },
    {
     "name": "stdout",
     "output_type": "stream",
     "text": [
      "Epoch 2/100, Avg Loss: 0.3900, Train Accuracy: 0.4533\n"
     ]
    },
    {
     "name": "stderr",
     "output_type": "stream",
     "text": [
      "                                                                      \r"
     ]
    },
    {
     "name": "stdout",
     "output_type": "stream",
     "text": [
      "Epoch 3/100, Avg Loss: 0.3321, Train Accuracy: 0.7212\n"
     ]
    },
    {
     "name": "stderr",
     "output_type": "stream",
     "text": [
      "                                                                      \r"
     ]
    },
    {
     "name": "stdout",
     "output_type": "stream",
     "text": [
      "Epoch 4/100, Avg Loss: 0.2574, Train Accuracy: 0.9173\n"
     ]
    },
    {
     "name": "stderr",
     "output_type": "stream",
     "text": [
      "                                                                     \r"
     ]
    },
    {
     "name": "stdout",
     "output_type": "stream",
     "text": [
      "Epoch 5/100, Avg Loss: 0.1803, Train Accuracy: 0.9889\n"
     ]
    },
    {
     "name": "stderr",
     "output_type": "stream",
     "text": [
      "                                                                      \r"
     ]
    },
    {
     "name": "stdout",
     "output_type": "stream",
     "text": [
      "Epoch 6/100, Avg Loss: 0.1088, Train Accuracy: 0.9985\n"
     ]
    },
    {
     "name": "stderr",
     "output_type": "stream",
     "text": [
      "                                                                       \r"
     ]
    },
    {
     "name": "stdout",
     "output_type": "stream",
     "text": [
      "Epoch 7/100, Avg Loss: 0.0651, Train Accuracy: 0.9988\n"
     ]
    },
    {
     "name": "stderr",
     "output_type": "stream",
     "text": [
      "                                                                       \r"
     ]
    },
    {
     "name": "stdout",
     "output_type": "stream",
     "text": [
      "Epoch 8/100, Avg Loss: 0.0369, Train Accuracy: 0.9995\n"
     ]
    },
    {
     "name": "stderr",
     "output_type": "stream",
     "text": [
      "                                                                       \r"
     ]
    },
    {
     "name": "stdout",
     "output_type": "stream",
     "text": [
      "Epoch 9/100, Avg Loss: 0.0193, Train Accuracy: 0.9996\n"
     ]
    },
    {
     "name": "stderr",
     "output_type": "stream",
     "text": [
      "                                                                        \r"
     ]
    },
    {
     "name": "stdout",
     "output_type": "stream",
     "text": [
      "Epoch 10/100, Avg Loss: 0.0111, Train Accuracy: 0.9997\n"
     ]
    },
    {
     "name": "stderr",
     "output_type": "stream",
     "text": [
      "                                                                         \r"
     ]
    },
    {
     "name": "stdout",
     "output_type": "stream",
     "text": [
      "Epoch 11/100, Avg Loss: 0.0090, Train Accuracy: 0.9997\n"
     ]
    },
    {
     "name": "stderr",
     "output_type": "stream",
     "text": [
      "                                                                        \r"
     ]
    },
    {
     "name": "stdout",
     "output_type": "stream",
     "text": [
      "Epoch 12/100, Avg Loss: 0.0102, Train Accuracy: 0.9998\n"
     ]
    },
    {
     "name": "stderr",
     "output_type": "stream",
     "text": [
      "                                                                        \r"
     ]
    },
    {
     "name": "stdout",
     "output_type": "stream",
     "text": [
      "Epoch 13/100, Avg Loss: 0.0123, Train Accuracy: 0.9998\n"
     ]
    },
    {
     "name": "stderr",
     "output_type": "stream",
     "text": [
      "                                                                        \r"
     ]
    },
    {
     "name": "stdout",
     "output_type": "stream",
     "text": [
      "Epoch 14/100, Avg Loss: 0.0045, Train Accuracy: 0.9998\n"
     ]
    },
    {
     "name": "stderr",
     "output_type": "stream",
     "text": [
      "                                                                         \r"
     ]
    },
    {
     "name": "stdout",
     "output_type": "stream",
     "text": [
      "Epoch 15/100, Avg Loss: 0.0034, Train Accuracy: 0.9998\n"
     ]
    },
    {
     "name": "stderr",
     "output_type": "stream",
     "text": [
      "                                                                        \r"
     ]
    },
    {
     "name": "stdout",
     "output_type": "stream",
     "text": [
      "Epoch 16/100, Avg Loss: 0.0029, Train Accuracy: 0.9998\n"
     ]
    },
    {
     "name": "stderr",
     "output_type": "stream",
     "text": [
      "                                                                         \r"
     ]
    },
    {
     "name": "stdout",
     "output_type": "stream",
     "text": [
      "Epoch 17/100, Avg Loss: 0.0027, Train Accuracy: 0.9998\n"
     ]
    },
    {
     "name": "stderr",
     "output_type": "stream",
     "text": [
      "                                                                         \r"
     ]
    },
    {
     "name": "stdout",
     "output_type": "stream",
     "text": [
      "Epoch 18/100, Avg Loss: 0.0027, Train Accuracy: 0.9998\n"
     ]
    },
    {
     "name": "stderr",
     "output_type": "stream",
     "text": [
      "                                                                         \r"
     ]
    },
    {
     "name": "stdout",
     "output_type": "stream",
     "text": [
      "Epoch 19/100, Avg Loss: 0.0027, Train Accuracy: 0.9998\n"
     ]
    },
    {
     "name": "stderr",
     "output_type": "stream",
     "text": [
      "                                                                         \r"
     ]
    },
    {
     "name": "stdout",
     "output_type": "stream",
     "text": [
      "Epoch 20/100, Avg Loss: 0.0028, Train Accuracy: 0.9998\n"
     ]
    },
    {
     "name": "stderr",
     "output_type": "stream",
     "text": [
      "                                                                         \r"
     ]
    },
    {
     "name": "stdout",
     "output_type": "stream",
     "text": [
      "Epoch 21/100, Avg Loss: 0.0028, Train Accuracy: 0.9998\n"
     ]
    },
    {
     "name": "stderr",
     "output_type": "stream",
     "text": [
      "                                                                         \r"
     ]
    },
    {
     "name": "stdout",
     "output_type": "stream",
     "text": [
      "Epoch 22/100, Avg Loss: 0.0028, Train Accuracy: 0.9998\n"
     ]
    },
    {
     "name": "stderr",
     "output_type": "stream",
     "text": [
      "                                                                         \r"
     ]
    },
    {
     "name": "stdout",
     "output_type": "stream",
     "text": [
      "Epoch 23/100, Avg Loss: 0.0028, Train Accuracy: 0.9998\n"
     ]
    },
    {
     "name": "stderr",
     "output_type": "stream",
     "text": [
      "                                                                         \r"
     ]
    },
    {
     "name": "stdout",
     "output_type": "stream",
     "text": [
      "Epoch 24/100, Avg Loss: 0.0028, Train Accuracy: 0.9998\n"
     ]
    },
    {
     "name": "stderr",
     "output_type": "stream",
     "text": [
      "                                                                         \r"
     ]
    },
    {
     "name": "stdout",
     "output_type": "stream",
     "text": [
      "Epoch 25/100, Avg Loss: 0.0028, Train Accuracy: 0.9998\n"
     ]
    },
    {
     "name": "stderr",
     "output_type": "stream",
     "text": [
      "                                                                         \r"
     ]
    },
    {
     "name": "stdout",
     "output_type": "stream",
     "text": [
      "Epoch 26/100, Avg Loss: 0.0027, Train Accuracy: 0.9998\n"
     ]
    },
    {
     "name": "stderr",
     "output_type": "stream",
     "text": [
      "                                                                         \r"
     ]
    },
    {
     "name": "stdout",
     "output_type": "stream",
     "text": [
      "Epoch 27/100, Avg Loss: 0.0027, Train Accuracy: 0.9998\n"
     ]
    },
    {
     "name": "stderr",
     "output_type": "stream",
     "text": [
      "                                                                         \r"
     ]
    },
    {
     "name": "stdout",
     "output_type": "stream",
     "text": [
      "Epoch 28/100, Avg Loss: 0.0026, Train Accuracy: 0.9998\n"
     ]
    },
    {
     "name": "stderr",
     "output_type": "stream",
     "text": [
      "                                                                         \r"
     ]
    },
    {
     "name": "stdout",
     "output_type": "stream",
     "text": [
      "Epoch 29/100, Avg Loss: 0.0025, Train Accuracy: 0.9998\n"
     ]
    },
    {
     "name": "stderr",
     "output_type": "stream",
     "text": [
      "                                                                         \r"
     ]
    },
    {
     "name": "stdout",
     "output_type": "stream",
     "text": [
      "Epoch 30/100, Avg Loss: 0.0024, Train Accuracy: 0.9998\n"
     ]
    },
    {
     "name": "stderr",
     "output_type": "stream",
     "text": [
      "                                                                         \r"
     ]
    },
    {
     "name": "stdout",
     "output_type": "stream",
     "text": [
      "Epoch 31/100, Avg Loss: 0.0023, Train Accuracy: 0.9998\n"
     ]
    },
    {
     "name": "stderr",
     "output_type": "stream",
     "text": [
      "                                                                         \r"
     ]
    },
    {
     "name": "stdout",
     "output_type": "stream",
     "text": [
      "Epoch 32/100, Avg Loss: 0.0022, Train Accuracy: 0.9998\n"
     ]
    },
    {
     "name": "stderr",
     "output_type": "stream",
     "text": [
      "                                                                         \r"
     ]
    },
    {
     "name": "stdout",
     "output_type": "stream",
     "text": [
      "Epoch 33/100, Avg Loss: 0.0021, Train Accuracy: 0.9998\n"
     ]
    },
    {
     "name": "stderr",
     "output_type": "stream",
     "text": [
      "                                                                         \r"
     ]
    },
    {
     "name": "stdout",
     "output_type": "stream",
     "text": [
      "Epoch 34/100, Avg Loss: 0.0019, Train Accuracy: 0.9998\n"
     ]
    },
    {
     "name": "stderr",
     "output_type": "stream",
     "text": [
      "                                                                         \r"
     ]
    },
    {
     "name": "stdout",
     "output_type": "stream",
     "text": [
      "Epoch 35/100, Avg Loss: 0.0018, Train Accuracy: 0.9998\n"
     ]
    },
    {
     "name": "stderr",
     "output_type": "stream",
     "text": [
      "                                                                         \r"
     ]
    },
    {
     "name": "stdout",
     "output_type": "stream",
     "text": [
      "Epoch 36/100, Avg Loss: 0.0017, Train Accuracy: 0.9998\n"
     ]
    },
    {
     "name": "stderr",
     "output_type": "stream",
     "text": [
      "                                                                         \r"
     ]
    },
    {
     "name": "stdout",
     "output_type": "stream",
     "text": [
      "Epoch 37/100, Avg Loss: 0.0015, Train Accuracy: 0.9998\n"
     ]
    },
    {
     "name": "stderr",
     "output_type": "stream",
     "text": [
      "                                                                         \r"
     ]
    },
    {
     "name": "stdout",
     "output_type": "stream",
     "text": [
      "Epoch 38/100, Avg Loss: 0.0014, Train Accuracy: 0.9998\n"
     ]
    },
    {
     "name": "stderr",
     "output_type": "stream",
     "text": [
      "                                                                         \r"
     ]
    },
    {
     "name": "stdout",
     "output_type": "stream",
     "text": [
      "Epoch 39/100, Avg Loss: 0.0012, Train Accuracy: 0.9998\n"
     ]
    },
    {
     "name": "stderr",
     "output_type": "stream",
     "text": [
      "                                                                         \r"
     ]
    },
    {
     "name": "stdout",
     "output_type": "stream",
     "text": [
      "Epoch 40/100, Avg Loss: 0.0010, Train Accuracy: 0.9998\n"
     ]
    },
    {
     "name": "stderr",
     "output_type": "stream",
     "text": [
      "                                                                        \r"
     ]
    },
    {
     "name": "stdout",
     "output_type": "stream",
     "text": [
      "Epoch 41/100, Avg Loss: 0.0009, Train Accuracy: 0.9998\n"
     ]
    },
    {
     "name": "stderr",
     "output_type": "stream",
     "text": [
      "                                                                          \r"
     ]
    },
    {
     "name": "stdout",
     "output_type": "stream",
     "text": [
      "Epoch 42/100, Avg Loss: 0.0008, Train Accuracy: 0.9999\n"
     ]
    },
    {
     "name": "stderr",
     "output_type": "stream",
     "text": [
      "                                                                          \r"
     ]
    },
    {
     "name": "stdout",
     "output_type": "stream",
     "text": [
      "Epoch 43/100, Avg Loss: 0.0008, Train Accuracy: 0.9999\n"
     ]
    },
    {
     "name": "stderr",
     "output_type": "stream",
     "text": [
      "                                                                          \r"
     ]
    },
    {
     "name": "stdout",
     "output_type": "stream",
     "text": [
      "Epoch 44/100, Avg Loss: 0.0008, Train Accuracy: 0.9999\n"
     ]
    },
    {
     "name": "stderr",
     "output_type": "stream",
     "text": [
      "                                                                          \r"
     ]
    },
    {
     "name": "stdout",
     "output_type": "stream",
     "text": [
      "Epoch 45/100, Avg Loss: 0.0007, Train Accuracy: 0.9999\n"
     ]
    },
    {
     "name": "stderr",
     "output_type": "stream",
     "text": [
      "                                                                          \r"
     ]
    },
    {
     "name": "stdout",
     "output_type": "stream",
     "text": [
      "Epoch 46/100, Avg Loss: 0.0007, Train Accuracy: 0.9999\n"
     ]
    },
    {
     "name": "stderr",
     "output_type": "stream",
     "text": [
      "                                                                         \r"
     ]
    },
    {
     "name": "stdout",
     "output_type": "stream",
     "text": [
      "Epoch 47/100, Avg Loss: 0.0007, Train Accuracy: 0.9999\n"
     ]
    },
    {
     "name": "stderr",
     "output_type": "stream",
     "text": [
      "                                                                          \r"
     ]
    },
    {
     "name": "stdout",
     "output_type": "stream",
     "text": [
      "Epoch 48/100, Avg Loss: 0.0007, Train Accuracy: 0.9999\n"
     ]
    },
    {
     "name": "stderr",
     "output_type": "stream",
     "text": [
      "                                                                          \r"
     ]
    },
    {
     "name": "stdout",
     "output_type": "stream",
     "text": [
      "Epoch 49/100, Avg Loss: 0.0007, Train Accuracy: 0.9999\n"
     ]
    },
    {
     "name": "stderr",
     "output_type": "stream",
     "text": [
      "                                                                         \r"
     ]
    },
    {
     "name": "stdout",
     "output_type": "stream",
     "text": [
      "Epoch 50/100, Avg Loss: 0.0007, Train Accuracy: 0.9999\n"
     ]
    },
    {
     "name": "stderr",
     "output_type": "stream",
     "text": [
      "                                                                          \r"
     ]
    },
    {
     "name": "stdout",
     "output_type": "stream",
     "text": [
      "Epoch 51/100, Avg Loss: 0.0007, Train Accuracy: 0.9999\n"
     ]
    },
    {
     "name": "stderr",
     "output_type": "stream",
     "text": [
      "                                                                          \r"
     ]
    },
    {
     "name": "stdout",
     "output_type": "stream",
     "text": [
      "Epoch 52/100, Avg Loss: 0.0007, Train Accuracy: 0.9999\n"
     ]
    },
    {
     "name": "stderr",
     "output_type": "stream",
     "text": [
      "                                                                          \r"
     ]
    },
    {
     "name": "stdout",
     "output_type": "stream",
     "text": [
      "Epoch 53/100, Avg Loss: 0.0007, Train Accuracy: 0.9999\n"
     ]
    },
    {
     "name": "stderr",
     "output_type": "stream",
     "text": [
      "                                                                          \r"
     ]
    },
    {
     "name": "stdout",
     "output_type": "stream",
     "text": [
      "Epoch 54/100, Avg Loss: 0.0007, Train Accuracy: 0.9999\n"
     ]
    },
    {
     "name": "stderr",
     "output_type": "stream",
     "text": [
      "                                                                          \r"
     ]
    },
    {
     "name": "stdout",
     "output_type": "stream",
     "text": [
      "Epoch 55/100, Avg Loss: 0.0007, Train Accuracy: 0.9999\n"
     ]
    },
    {
     "name": "stderr",
     "output_type": "stream",
     "text": [
      "                                                                          \r"
     ]
    },
    {
     "name": "stdout",
     "output_type": "stream",
     "text": [
      "Epoch 56/100, Avg Loss: 0.0007, Train Accuracy: 0.9999\n"
     ]
    },
    {
     "name": "stderr",
     "output_type": "stream",
     "text": [
      "                                                                          \r"
     ]
    },
    {
     "name": "stdout",
     "output_type": "stream",
     "text": [
      "Epoch 57/100, Avg Loss: 0.0007, Train Accuracy: 0.9999\n"
     ]
    },
    {
     "name": "stderr",
     "output_type": "stream",
     "text": [
      "                                                                          \r"
     ]
    },
    {
     "name": "stdout",
     "output_type": "stream",
     "text": [
      "Epoch 58/100, Avg Loss: 0.0007, Train Accuracy: 0.9999\n"
     ]
    },
    {
     "name": "stderr",
     "output_type": "stream",
     "text": [
      "                                                                         \r"
     ]
    },
    {
     "name": "stdout",
     "output_type": "stream",
     "text": [
      "Epoch 59/100, Avg Loss: 0.0006, Train Accuracy: 0.9999\n"
     ]
    },
    {
     "name": "stderr",
     "output_type": "stream",
     "text": [
      "                                                                          \r"
     ]
    },
    {
     "name": "stdout",
     "output_type": "stream",
     "text": [
      "Epoch 60/100, Avg Loss: 0.0006, Train Accuracy: 0.9999\n"
     ]
    },
    {
     "name": "stderr",
     "output_type": "stream",
     "text": [
      "                                                                          \r"
     ]
    },
    {
     "name": "stdout",
     "output_type": "stream",
     "text": [
      "Epoch 61/100, Avg Loss: 0.0006, Train Accuracy: 0.9999\n"
     ]
    },
    {
     "name": "stderr",
     "output_type": "stream",
     "text": [
      "                                                                          \r"
     ]
    },
    {
     "name": "stdout",
     "output_type": "stream",
     "text": [
      "Epoch 62/100, Avg Loss: 0.0006, Train Accuracy: 0.9999\n"
     ]
    },
    {
     "name": "stderr",
     "output_type": "stream",
     "text": [
      "                                                                          \r"
     ]
    },
    {
     "name": "stdout",
     "output_type": "stream",
     "text": [
      "Epoch 63/100, Avg Loss: 0.0006, Train Accuracy: 0.9999\n"
     ]
    },
    {
     "name": "stderr",
     "output_type": "stream",
     "text": [
      "                                                                          \r"
     ]
    },
    {
     "name": "stdout",
     "output_type": "stream",
     "text": [
      "Epoch 64/100, Avg Loss: 0.0006, Train Accuracy: 0.9999\n"
     ]
    },
    {
     "name": "stderr",
     "output_type": "stream",
     "text": [
      "                                                                          \r"
     ]
    },
    {
     "name": "stdout",
     "output_type": "stream",
     "text": [
      "Epoch 65/100, Avg Loss: 0.0006, Train Accuracy: 0.9999\n"
     ]
    },
    {
     "name": "stderr",
     "output_type": "stream",
     "text": [
      "                                                                          \r"
     ]
    },
    {
     "name": "stdout",
     "output_type": "stream",
     "text": [
      "Epoch 66/100, Avg Loss: 0.0006, Train Accuracy: 0.9999\n"
     ]
    },
    {
     "name": "stderr",
     "output_type": "stream",
     "text": [
      "                                                                          \r"
     ]
    },
    {
     "name": "stdout",
     "output_type": "stream",
     "text": [
      "Epoch 67/100, Avg Loss: 0.0006, Train Accuracy: 0.9999\n"
     ]
    },
    {
     "name": "stderr",
     "output_type": "stream",
     "text": [
      "                                                                         \r"
     ]
    },
    {
     "name": "stdout",
     "output_type": "stream",
     "text": [
      "Epoch 68/100, Avg Loss: 0.0006, Train Accuracy: 0.9999\n"
     ]
    },
    {
     "name": "stderr",
     "output_type": "stream",
     "text": [
      "                                                                          \r"
     ]
    },
    {
     "name": "stdout",
     "output_type": "stream",
     "text": [
      "Epoch 69/100, Avg Loss: 0.0006, Train Accuracy: 0.9999\n"
     ]
    },
    {
     "name": "stderr",
     "output_type": "stream",
     "text": [
      "                                                                          \r"
     ]
    },
    {
     "name": "stdout",
     "output_type": "stream",
     "text": [
      "Epoch 70/100, Avg Loss: 0.0006, Train Accuracy: 0.9999\n"
     ]
    },
    {
     "name": "stderr",
     "output_type": "stream",
     "text": [
      "                                                                          \r"
     ]
    },
    {
     "name": "stdout",
     "output_type": "stream",
     "text": [
      "Epoch 71/100, Avg Loss: 0.0006, Train Accuracy: 0.9999\n"
     ]
    },
    {
     "name": "stderr",
     "output_type": "stream",
     "text": [
      "                                                                         \r"
     ]
    },
    {
     "name": "stdout",
     "output_type": "stream",
     "text": [
      "Epoch 72/100, Avg Loss: 0.0006, Train Accuracy: 0.9999\n"
     ]
    },
    {
     "name": "stderr",
     "output_type": "stream",
     "text": [
      "                                                                          \r"
     ]
    },
    {
     "name": "stdout",
     "output_type": "stream",
     "text": [
      "Epoch 73/100, Avg Loss: 0.0005, Train Accuracy: 0.9999\n"
     ]
    },
    {
     "name": "stderr",
     "output_type": "stream",
     "text": [
      "                                                                          \r"
     ]
    },
    {
     "name": "stdout",
     "output_type": "stream",
     "text": [
      "Epoch 74/100, Avg Loss: 0.0005, Train Accuracy: 0.9999\n"
     ]
    },
    {
     "name": "stderr",
     "output_type": "stream",
     "text": [
      "                                                                          \r"
     ]
    },
    {
     "name": "stdout",
     "output_type": "stream",
     "text": [
      "Epoch 75/100, Avg Loss: 0.0005, Train Accuracy: 0.9999\n"
     ]
    },
    {
     "name": "stderr",
     "output_type": "stream",
     "text": [
      "                                                                          \r"
     ]
    },
    {
     "name": "stdout",
     "output_type": "stream",
     "text": [
      "Epoch 76/100, Avg Loss: 0.0005, Train Accuracy: 0.9999\n"
     ]
    },
    {
     "name": "stderr",
     "output_type": "stream",
     "text": [
      "                                                                          \r"
     ]
    },
    {
     "name": "stdout",
     "output_type": "stream",
     "text": [
      "Epoch 77/100, Avg Loss: 0.0005, Train Accuracy: 0.9999\n"
     ]
    },
    {
     "name": "stderr",
     "output_type": "stream",
     "text": [
      "                                                                          \r"
     ]
    },
    {
     "name": "stdout",
     "output_type": "stream",
     "text": [
      "Epoch 78/100, Avg Loss: 0.0005, Train Accuracy: 0.9999\n"
     ]
    },
    {
     "name": "stderr",
     "output_type": "stream",
     "text": [
      "                                                                          \r"
     ]
    },
    {
     "name": "stdout",
     "output_type": "stream",
     "text": [
      "Epoch 79/100, Avg Loss: 0.0005, Train Accuracy: 0.9999\n"
     ]
    },
    {
     "name": "stderr",
     "output_type": "stream",
     "text": [
      "                                                                          \r"
     ]
    },
    {
     "name": "stdout",
     "output_type": "stream",
     "text": [
      "Epoch 80/100, Avg Loss: 0.0005, Train Accuracy: 0.9999\n"
     ]
    },
    {
     "name": "stderr",
     "output_type": "stream",
     "text": [
      "                                                                          \r"
     ]
    },
    {
     "name": "stdout",
     "output_type": "stream",
     "text": [
      "Epoch 81/100, Avg Loss: 0.0005, Train Accuracy: 0.9999\n"
     ]
    },
    {
     "name": "stderr",
     "output_type": "stream",
     "text": [
      "                                                                          \r"
     ]
    },
    {
     "name": "stdout",
     "output_type": "stream",
     "text": [
      "Epoch 82/100, Avg Loss: 0.0005, Train Accuracy: 0.9999\n"
     ]
    },
    {
     "name": "stderr",
     "output_type": "stream",
     "text": [
      "                                                                          \r"
     ]
    },
    {
     "name": "stdout",
     "output_type": "stream",
     "text": [
      "Epoch 83/100, Avg Loss: 0.0005, Train Accuracy: 0.9999\n"
     ]
    },
    {
     "name": "stderr",
     "output_type": "stream",
     "text": [
      "                                                                          \r"
     ]
    },
    {
     "name": "stdout",
     "output_type": "stream",
     "text": [
      "Epoch 84/100, Avg Loss: 0.0005, Train Accuracy: 0.9999\n"
     ]
    },
    {
     "name": "stderr",
     "output_type": "stream",
     "text": [
      "                                                                          \r"
     ]
    },
    {
     "name": "stdout",
     "output_type": "stream",
     "text": [
      "Epoch 85/100, Avg Loss: 0.0005, Train Accuracy: 0.9999\n"
     ]
    },
    {
     "name": "stderr",
     "output_type": "stream",
     "text": [
      "                                                                          \r"
     ]
    },
    {
     "name": "stdout",
     "output_type": "stream",
     "text": [
      "Epoch 86/100, Avg Loss: 0.0005, Train Accuracy: 0.9999\n"
     ]
    },
    {
     "name": "stderr",
     "output_type": "stream",
     "text": [
      "                                                                          \r"
     ]
    },
    {
     "name": "stdout",
     "output_type": "stream",
     "text": [
      "Epoch 87/100, Avg Loss: 0.0004, Train Accuracy: 0.9999\n"
     ]
    },
    {
     "name": "stderr",
     "output_type": "stream",
     "text": [
      "                                                                         \r"
     ]
    },
    {
     "name": "stdout",
     "output_type": "stream",
     "text": [
      "Epoch 88/100, Avg Loss: 0.0004, Train Accuracy: 0.9999\n"
     ]
    },
    {
     "name": "stderr",
     "output_type": "stream",
     "text": [
      "                                                                          \r"
     ]
    },
    {
     "name": "stdout",
     "output_type": "stream",
     "text": [
      "Epoch 89/100, Avg Loss: 0.0004, Train Accuracy: 0.9999\n"
     ]
    },
    {
     "name": "stderr",
     "output_type": "stream",
     "text": [
      "                                                                          \r"
     ]
    },
    {
     "name": "stdout",
     "output_type": "stream",
     "text": [
      "Epoch 90/100, Avg Loss: 0.0004, Train Accuracy: 0.9999\n"
     ]
    },
    {
     "name": "stderr",
     "output_type": "stream",
     "text": [
      "                                                                         \r"
     ]
    },
    {
     "name": "stdout",
     "output_type": "stream",
     "text": [
      "Epoch 91/100, Avg Loss: 0.0004, Train Accuracy: 0.9999\n"
     ]
    },
    {
     "name": "stderr",
     "output_type": "stream",
     "text": [
      "                                                                          \r"
     ]
    },
    {
     "name": "stdout",
     "output_type": "stream",
     "text": [
      "Epoch 92/100, Avg Loss: 0.0004, Train Accuracy: 0.9999\n"
     ]
    },
    {
     "name": "stderr",
     "output_type": "stream",
     "text": [
      "                                                                          \r"
     ]
    },
    {
     "name": "stdout",
     "output_type": "stream",
     "text": [
      "Epoch 93/100, Avg Loss: 0.0004, Train Accuracy: 0.9999\n"
     ]
    },
    {
     "name": "stderr",
     "output_type": "stream",
     "text": [
      "                                                                          \r"
     ]
    },
    {
     "name": "stdout",
     "output_type": "stream",
     "text": [
      "Epoch 94/100, Avg Loss: 0.0004, Train Accuracy: 0.9999\n"
     ]
    },
    {
     "name": "stderr",
     "output_type": "stream",
     "text": [
      "                                                                          \r"
     ]
    },
    {
     "name": "stdout",
     "output_type": "stream",
     "text": [
      "Epoch 95/100, Avg Loss: 0.0004, Train Accuracy: 0.9999\n"
     ]
    },
    {
     "name": "stderr",
     "output_type": "stream",
     "text": [
      "                                                                         \r"
     ]
    },
    {
     "name": "stdout",
     "output_type": "stream",
     "text": [
      "Epoch 96/100, Avg Loss: 0.0004, Train Accuracy: 0.9999\n"
     ]
    },
    {
     "name": "stderr",
     "output_type": "stream",
     "text": [
      "                                                                          \r"
     ]
    },
    {
     "name": "stdout",
     "output_type": "stream",
     "text": [
      "Epoch 97/100, Avg Loss: 0.0004, Train Accuracy: 0.9999\n"
     ]
    },
    {
     "name": "stderr",
     "output_type": "stream",
     "text": [
      "                                                                         \r"
     ]
    },
    {
     "name": "stdout",
     "output_type": "stream",
     "text": [
      "Epoch 98/100, Avg Loss: 0.0004, Train Accuracy: 0.9999\n"
     ]
    },
    {
     "name": "stderr",
     "output_type": "stream",
     "text": [
      "                                                                          \r"
     ]
    },
    {
     "name": "stdout",
     "output_type": "stream",
     "text": [
      "Epoch 99/100, Avg Loss: 0.0004, Train Accuracy: 0.9999\n"
     ]
    },
    {
     "name": "stderr",
     "output_type": "stream",
     "text": [
      "                                                                           "
     ]
    },
    {
     "name": "stdout",
     "output_type": "stream",
     "text": [
      "Epoch 100/100, Avg Loss: 0.0004, Train Accuracy: 0.9999\n",
      "Training complete.\n"
     ]
    },
    {
     "name": "stderr",
     "output_type": "stream",
     "text": [
      "\r"
     ]
    }
   ],
   "source": [
    "# Train the Model\n",
    "epochs = 100\n",
    "loss_list, acc_list = [], []\n",
    "\n",
    "for epoch in range(epochs):\n",
    "    model.train()\n",
    "    total_loss, correct, total = 0, 0, 0\n",
    "\n",
    "    train_loader_tqdm = tqdm(train_loader, desc=f\"Epoch {epoch+1}/{epochs}\", leave=False)\n",
    "    for batch in train_loader_tqdm:\n",
    "        # Move data to the device (GPU/CPU)\n",
    "        batch = batch.to(device)\n",
    "        \n",
    "        # Zero gradients\n",
    "        optimizer.zero_grad()\n",
    "\n",
    "        # Forward pass\n",
    "        outputs = model(batch.x, batch.edge_index, batch.edge_attr)\n",
    "       \n",
    "        # Compute loss\n",
    "        loss = criterion(outputs, batch.y)\n",
    "        \n",
    "        # Backward pass and optimization\n",
    "        loss.backward()\n",
    "        optimizer.step()\n",
    "        \n",
    "        # Accumulate total loss\n",
    "        total_loss += loss.item()\n",
    "\n",
    "        # Compute Accuracy\n",
    "        _, predicted = torch.max(outputs, 1)\n",
    "        correct += (predicted == batch.y).sum().item()\n",
    "        total += batch.y.size(0)\n",
    "\n",
    "        # Update tqdm progress bar with current loss\n",
    "        train_loader_tqdm.set_postfix(loss=loss.item())\n",
    "\n",
    "    # Compute average loss and accuracy for the epoch\n",
    "    avg_loss = total_loss / len(train_loader)\n",
    "    train_accuracy = correct / total\n",
    "\n",
    "    # Store loss and accuracy for plotting\n",
    "    loss_list.append(avg_loss)\n",
    "    acc_list.append(train_accuracy)\n",
    "\n",
    "    # Print training progress\n",
    "    print(f\"Epoch {epoch+1}/{epochs}, Avg Loss: {avg_loss:.4f}, Train Accuracy: {train_accuracy:.4f}\")\n",
    "\n",
    "# Save Training Loss and Accuracy\n",
    "print(\"Training complete.\")\n"
   ]
  },
  {
   "cell_type": "code",
   "execution_count": 48,
   "id": "de11fcf3-3fe0-4a68-88d8-d7c742d3cc9d",
   "metadata": {},
   "outputs": [
    {
     "data": {
      "image/png": "[encoded data removed]",
      "text/plain": [
       "<Figure size 1400x600 with 2 Axes>"
      ]
     },
     "metadata": {},
     "output_type": "display_data"
    }
   ],
   "source": [
    "import matplotlib.pyplot as plt\n",
    "# Plot loss and accuracy for both training and validation\n",
    "plt.figure(figsize=(14, 6))\n",
    "\n",
    "# Loss plot\n",
    "plt.subplot(1, 2, 1)\n",
    "plt.plot(range(epochs), loss_list, label=\"Train Loss\", color=\"red\")\n",
    "plt.xlabel(\"Epochs\")\n",
    "plt.ylabel(\"Loss\")\n",
    "plt.title(\"Loss over Epochs\")\n",
    "plt.grid(True)\n",
    "plt.legend()\n",
    "\n",
    "# Accuracy plot\n",
    "plt.subplot(1, 2, 2)\n",
    "plt.plot(range(epochs), acc_list, label=\"Train Accuracy\", color=\"blue\")\n",
    "plt.xlabel(\"Epochs\")\n",
    "plt.ylabel(\"Accuracy\")\n",
    "plt.title(\"Accuracy over Epochs\")\n",
    "plt.grid(True)\n",
    "plt.legend()\n",
    "\n",
    "plt.tight_layout()\n",
    "plt.show()"
   ]
  },
  {
   "cell_type": "code",
   "execution_count": 49,
   "id": "f0248537-e859-4b1d-927d-21b4da58e0e8",
   "metadata": {},
   "outputs": [],
   "source": [
    "gt_loss_list = loss_list.copy()\n",
    "gt_acc_list = acc_list.copy()"
   ]
  },
  {
   "cell_type": "code",
   "execution_count": 50,
   "id": "9f06a3b0-5dc0-4f8a-aa47-ee5bf7bf4174",
   "metadata": {},
   "outputs": [
    {
     "name": "stdout",
     "output_type": "stream",
     "text": [
      "Test Accuracy: 0.9999\n",
      "\n",
      "Classification Report:\n",
      "              precision    recall  f1-score   support\n",
      "\n",
      "      Benign     0.1974    0.6818    0.3061        22\n",
      "      Attack     1.0000    0.9999    0.9999    548918\n",
      "\n",
      "    accuracy                         0.9999    548940\n",
      "   macro avg     0.5987    0.8409    0.6530    548940\n",
      "weighted avg     1.0000    0.9999    0.9999    548940\n",
      "\n"
     ]
    }
   ],
   "source": [
    "from sklearn.metrics import classification_report\n",
    "\n",
    "model.eval()\n",
    "correct, total = 0, 0\n",
    "all_predictions = []\n",
    "all_targets = []\n",
    "\n",
    "with torch.no_grad():\n",
    "    for batch in test_loader:\n",
    "        batch = batch.to(device)\n",
    "        outputs = model(batch.x, batch.edge_index, batch.edge_attr)\n",
    "        _, predicted = torch.max(outputs, 1)\n",
    "        correct += (predicted == batch.y).sum().item()\n",
    "        total += batch.y.size(0)\n",
    "\n",
    "        # Store for classification report\n",
    "        all_predictions.extend(predicted.cpu().numpy())\n",
    "        all_targets.extend(batch.y.cpu().numpy())\n",
    "target_names = [\"Benign\", \"Attack\"]\n",
    "test_accuracy = correct / total\n",
    "print(f\"Test Accuracy: {test_accuracy:.4f}\")\n",
    "\n",
    "# Print Classification Report\n",
    "print(\"\\nClassification Report:\")\n",
    "print(classification_report(all_targets, all_predictions,  target_names= target_names, digits=4))"
   ]
  },
  {
   "cell_type": "code",
   "execution_count": null,
   "id": "8757357e-ec3b-46bb-82ae-b246aa3a2b33",
   "metadata": {},
   "outputs": [],
   "source": []
  },
  {
   "cell_type": "code",
   "execution_count": null,
   "id": "391dba82-a3b3-4196-861e-99f871a2886c",
   "metadata": {},
   "outputs": [],
   "source": []
  },
  {
   "cell_type": "code",
   "execution_count": null,
   "id": "ddc6a38e-a054-42de-99b6-f77c5f5d3a2d",
   "metadata": {},
   "outputs": [],
   "source": []
  },
  {
   "cell_type": "markdown",
   "id": "86ec2eb7-66fd-476b-9470-2868ddc29ffb",
   "metadata": {},
   "source": [
    "# Model Train Loss, Acc"
   ]
  },
  {
   "cell_type": "code",
   "execution_count": 51,
   "id": "f611df71-a67b-44e6-bc43-333533eaa924",
   "metadata": {},
   "outputs": [
    {
     "data": {
      "image/png": "[encoded data removed]",
      "text/plain": [
       "<Figure size 1400x600 with 2 Axes>"
      ]
     },
     "metadata": {},
     "output_type": "display_data"
    }
   ],
   "source": [
    "import matplotlib.pyplot as plt\n",
    "\n",
    "# Assuming gt_loss_list and gt_acc_list are defined and have the same length as other lists\n",
    "# Define the number of epochs (ensure all lists are of the same length)\n",
    "epochs_range = range(len(mpnn_acc_list))\n",
    "\n",
    "plt.figure(figsize=(14, 6))\n",
    "\n",
    "# 🔹 Loss Plot (With Markers)\n",
    "plt.subplot(1, 2, 1)\n",
    "plt.plot(epochs_range, sage_loss_list, label=\"SAGE\", linestyle=\"--\", marker=\"s\", markersize=4)\n",
    "plt.plot(epochs_range, gat_loss_list, label=\"GAT\", linestyle=\"--\", marker=\"d\", markersize=4)\n",
    "plt.plot(epochs_range, gcn_loss_list, label=\"GCN\", linestyle=\"--\", marker=\"^\", markersize=4)\n",
    "plt.plot(epochs_range, mpnn_loss_list, label=\"MPNN\", linestyle=\"--\", marker=\"o\", markersize=4)\n",
    "plt.plot(epochs_range, gt_loss_list, label=\"GraphTransformer\", linestyle=\"--\", marker=\"*\", markersize=4)\n",
    "plt.xlabel(\"Epochs\", fontsize=12)\n",
    "plt.ylabel(\"Loss\", fontsize=12)\n",
    "plt.title(\"Comparison of Training Loss Across GNN Architectures\", fontsize=14)\n",
    "plt.legend(fontsize=10)\n",
    "plt.grid(True)\n",
    "\n",
    "# 🔹 Accuracy Plot (Without Markers)\n",
    "plt.subplot(1, 2, 2)\n",
    "plt.plot(epochs_range, sage_acc_list, label=\"SAGE\", linestyle=\"-\", linewidth=1.5)\n",
    "plt.plot(epochs_range, gat_acc_list, label=\"GAT\", linestyle=\"-\", linewidth=1.5)\n",
    "plt.plot(epochs_range, gcn_acc_list, label=\"GCN\", linestyle=\"-\", linewidth=1.5)\n",
    "plt.plot(epochs_range, mpnn_acc_list, label=\"MPNN\", linestyle=\"-\", linewidth=1.5)\n",
    "plt.plot(epochs_range, gt_acc_list, label=\"GraphTransformer\", linestyle=\"-\", linewidth=1.5)\n",
    "plt.xlabel(\"Epochs\", fontsize=12)\n",
    "plt.ylabel(\"Accuracy\", fontsize=12)\n",
    "plt.title(\"Comparison of Training Accuracy Across GNN Architectures\", fontsize=14)\n",
    "plt.legend(fontsize=10)\n",
    "plt.grid(True)\n",
    "\n",
    "# Adjust layout for a professional appearance\n",
    "plt.tight_layout()\n",
    "plt.show()\n"
   ]
  },
  {
   "cell_type": "markdown",
   "id": "4776606e-3fa3-4ce1-9006-bb90d8d5640f",
   "metadata": {},
   "source": [
    "# Model Performance Visualization"
   ]
  },
  {
   "cell_type": "code",
   "execution_count": 55,
   "id": "36bc1133-fdca-41a0-b000-e5fc1b805bd1",
   "metadata": {},
   "outputs": [
    {
     "name": "stdout",
     "output_type": "stream",
     "text": [
      "           Dataset             Model  Precision  Recall  F1-Score  Accuracy\n",
      "0  Network Traffic              SAGE     1.0000  0.9997    0.9998    0.9997\n",
      "1  Network Traffic               GAT     1.0000  0.9998    0.9999    0.9998\n",
      "2  Network Traffic               GCN     1.0000  0.9997    0.9998    0.9997\n",
      "3  Network Traffic              MPNN     0.9999  0.9998    0.9999    0.9998\n",
      "4  Network Traffic  GraphTransformer     1.0000  0.9999    0.9999    0.9999\n"
     ]
    }
   ],
   "source": [
    "import pandas as pd\n",
    "\n",
    "# Define the dataset as a dictionary\n",
    "result = {\n",
    "    \"Dataset\": [\"Network Traffic\"] * 5,  # Repeated for all models\n",
    "    \"Model\": [\"SAGE\", \"GAT\", \"GCN\", \"MPNN\", \"GraphTransformer\"],\n",
    "    \"Precision\": [1.0000, 1.0000, 1.0000  , 0.9999, 1.0000],\n",
    "    \"Recall\": [0.9997, 0.9998, 0.9997, 0.9998, 0.9999],\n",
    "    \"F1-Score\": [0.9998, 0.9999, 0.9998, 0.9999, 0.9999],\n",
    "    \"Accuracy\": [0.9997, 0.9998, 0.9997, 0.9998, 0.9999]\n",
    "}\n",
    "\n",
    "# Create the DataFrame\n",
    "df = pd.DataFrame(result)\n",
    "\n",
    "# Display the DataFrame\n",
    "print(df)\n"
   ]
  },
  {
   "cell_type": "code",
   "execution_count": 56,
   "id": "65ddc06a-51c4-43f2-ab00-a3d9ee5b928f",
   "metadata": {},
   "outputs": [
    {
     "name": "stderr",
     "output_type": "stream",
     "text": [
      "/tmp/ipykernel_2298366/2222733584.py:4: MatplotlibDeprecationWarning: The get_cmap function was deprecated in Matplotlib 3.7 and will be removed two minor releases later. Use ``matplotlib.colormaps[name]`` or ``matplotlib.colormaps.get_cmap(obj)`` instead.\n",
      "  colormap = get_cmap('tab10')\n"
     ]
    },
    {
     "data": {
      "image/png": "[encoded data removed]",
      "text/plain": [
       "<Figure size 1200x600 with 1 Axes>"
      ]
     },
     "metadata": {},
     "output_type": "display_data"
    }
   ],
   "source": [
    "from matplotlib.cm import get_cmap\n",
    "\n",
    "# Generate a color palette using a colormap (e.g., 'tab10')\n",
    "colormap = get_cmap('tab10')\n",
    "colors = {\n",
    "    \"SAGE\": colormap(0),       # Blue\n",
    "    \"GAT\": colormap(1),        # Orange\n",
    "    \"GCN\": colormap(2),        # Green\n",
    "    \"MPNN\": colormap(3),       # Red\n",
    "    \"GraphTransformer\": colormap(4)  # Purple\n",
    "}\n",
    "\n",
    "# Metrics for plotting\n",
    "metrics = [\"Precision\", \"Recall\", \"F1-Score\", \"Accuracy\"]\n",
    "x = np.arange(len(metrics))  # X positions for metrics\n",
    "bar_width = 0.15  # Width of the bars\n",
    "\n",
    "# Create a figure\n",
    "plt.figure(figsize=(12, 6))\n",
    "\n",
    "# Plot bars for each model\n",
    "for i, model in enumerate(df[\"Model\"]):\n",
    "    plt.bar(\n",
    "        x + i * bar_width,  # Shift bars for each model\n",
    "        df.loc[i, metrics],  # Model's metrics\n",
    "        bar_width,  # Width of the bar\n",
    "        label=model,  # Legend label\n",
    "        color=colors[model],  # Color for the model\n",
    "    )\n",
    "\n",
    "# Configure the plot\n",
    "plt.xticks(x + bar_width * (len(df[\"Model\"]) - 1) / 2, metrics, fontsize=12)\n",
    "plt.ylabel(\"Score\", fontsize=12)\n",
    "plt.title(\"Performance Metrics Across GNN Models\", fontsize=14)\n",
    "plt.ylim(0.98, 1.0)  # Focus on high scores for better visibility\n",
    "plt.legend(fontsize=10)\n",
    "plt.grid(axis=\"y\", linestyle=\"--\", alpha=0.7)\n",
    "\n",
    "# Adjust layout for clarity\n",
    "plt.tight_layout()\n",
    "\n",
    "# Show the plot\n",
    "plt.show()\n"
   ]
  },
  {
   "cell_type": "code",
   "execution_count": 57,
   "id": "5c5d9c1a-3333-4cae-96dc-fa60774de33e",
   "metadata": {},
   "outputs": [
    {
     "data": {
      "image/png": "[encoded data removed]",
      "text/plain": [
       "<Figure size 1200x600 with 1 Axes>"
      ]
     },
     "metadata": {},
     "output_type": "display_data"
    }
   ],
   "source": [
    "\n",
    "# Visualization - Bar Chart for Metrics\n",
    "metrics = [\"Precision\", \"Recall\", \"F1-Score\", \"Accuracy\"]\n",
    "x = np.arange(len(df[\"Model\"]))  # X positions for the groups\n",
    "width = 0.2  # Width of the bars\n",
    "\n",
    "# Create a figure\n",
    "plt.figure(figsize=(12, 6))\n",
    "\n",
    "# Plot each metric\n",
    "for i, metric in enumerate(metrics):\n",
    "    plt.bar(x + i * width, df[metric], width, label=metric)\n",
    "\n",
    "# Configure the plot\n",
    "plt.xticks(x + width * (len(metrics) - 1) / 2, df[\"Model\"], fontsize=10, rotation=45)\n",
    "plt.ylabel(\"Score\", fontsize=12)\n",
    "plt.title(\"Performance Metrics Across GNN Models\", fontsize=14)\n",
    "plt.ylim(0.98, 1.0)  # Focus on the range close to 1 for better visibility\n",
    "plt.legend(fontsize=10)\n",
    "plt.grid(axis=\"y\", linestyle=\"--\", alpha=0.7)\n",
    "plt.tight_layout()\n",
    "\n",
    "# Show the plot\n",
    "plt.show()"
   ]
  },
  {
   "cell_type": "code",
   "execution_count": 58,
   "id": "82b67d69-6eba-42e7-9398-56bae865383c",
   "metadata": {},
   "outputs": [],
   "source": [
    "import torch\n",
    "import gc\n",
    "\n",
    "# Free up GPU memory\n",
    "gc.collect()\n",
    "torch.cuda.empty_cache()"
   ]
  },
  {
   "cell_type": "code",
   "execution_count": null,
   "id": "059a9523-5503-4f48-bd51-e20f9163fcad",
   "metadata": {},
   "outputs": [],
   "source": []
  }
 ],
 "metadata": {
  "kernelspec": {
   "display_name": "Python 3 (ipykernel)",
   "language": "python",
   "name": "python3"
  },
  "language_info": {
   "codemirror_mode": {
    "name": "ipython",
    "version": 3
   },
   "file_extension": ".py",
   "mimetype": "text/x-python",
   "name": "python",
   "nbconvert_exporter": "python",
   "pygments_lexer": "ipython3",
   "version": "3.10.13"
  }
 },
 "nbformat": 4,
 "nbformat_minor": 5
}
